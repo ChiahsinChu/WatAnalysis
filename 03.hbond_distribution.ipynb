{
 "cells": [
  {
   "cell_type": "code",
   "execution_count": null,
   "metadata": {
    "tags": []
   },
   "outputs": [],
   "source": [
    "import ase\n",
    "import ase.visualize\n",
    "import ase.io\n",
    "from scipy import constants\n",
    "import numpy as np\n",
    "#%matplotlib\n",
    "import matplotlib.pyplot as plt\n",
    "#%matplotlib notebook\n",
    "import copy\n",
    "from scipy.spatial import ConvexHull\n",
    "from mpl_toolkits.mplot3d import Axes3D\n"
   ]
  },
  {
   "cell_type": "code",
   "execution_count": null,
   "metadata": {
    "jupyter": {
     "source_hidden": true
    },
    "tags": []
   },
   "outputs": [],
   "source": [
    "#this is just needed to change the font size in the figures\n",
    "SMALL_SIZE = 8#12\n",
    "MEDIUM_SIZE = 8#14\n",
    "BIGGER_SIZE = 10#16\n",
    "\n",
    "plt.rc('font', size=SMALL_SIZE)          # controls default text sizes\n",
    "plt.rc('axes', titlesize=SMALL_SIZE)     # fontsize of the axes title\n",
    "plt.rc('axes', labelsize=MEDIUM_SIZE)    # fontsize of the x and y labels\n",
    "plt.rc('xtick', labelsize=SMALL_SIZE)    # fontsize of the tick labels\n",
    "plt.rc('ytick', labelsize=SMALL_SIZE)    # fontsize of the tick labels\n",
    "plt.rc('legend', fontsize=SMALL_SIZE)    # legend fontsize\n",
    "plt.rc('figure', titlesize=BIGGER_SIZE)  # fontsize of the figure title"
   ]
  },
  {
   "cell_type": "markdown",
   "metadata": {
    "tags": []
   },
   "source": [
    "# Read data "
   ]
  },
  {
   "cell_type": "markdown",
   "metadata": {
    "jp-MarkdownHeadingCollapsed": true,
    "tags": []
   },
   "source": [
    "### Define a few helpful functions"
   ]
  },
  {
   "cell_type": "code",
   "execution_count": null,
   "metadata": {},
   "outputs": [],
   "source": [
    "def get_top_bottom(snapshot_in, surface_species):\n",
    "    \"\"\"Returns average position of the top and bottom atoms of a slab consisting of chemical species <surface_species> in the snapshot.\n",
    "    Assumes a flat slab, with atoms in one layer spreading by no more than 1.4A and a vacuum spacing of at least the slab thikness.\n",
    "    \"top\" is defined as the surface where the solvent lies in +z direction, bottom is where the solvent lies in -z direction.\n",
    "    the position of 'bottom' will always be returned such as to lie in the upper half of the unit cell, that of 'top' in the lower half\"\"\"\n",
    "    snapshot = copy.deepcopy(snapshot_in)\n",
    "    shifted = False\n",
    "    surface_mask = np.array([symbol == surface_species for symbol in snapshot.get_chemical_symbols()])\n",
    "    top_atom_z = max(snapshot.get_positions(wrap = True)[surface_mask,2])\n",
    "    bottom_atom_z = min(snapshot.get_positions(wrap = True)[surface_mask,2])\n",
    "    #make sure the slab lies in one block in the unit cell to determine the true top and bottom\n",
    "    if top_atom_z - bottom_atom_z > snapshot.cell[2,2]*0.5:\n",
    "        snapshot.positions[:,2] += snapshot.cell[2,2]*0.5\n",
    "        shifted = True\n",
    "        top_atom_z = max(snapshot.get_positions(wrap = True)[surface_mask,2])\n",
    "        bottom_atom_z = min(snapshot.get_positions(wrap = True)[surface_mask,2])\n",
    "    top_index = np.where(snapshot.get_positions(wrap = True)[:,2] == top_atom_z)[0][0]\n",
    "    bottom_index = np.where(snapshot.get_positions(wrap = True)[:,2] == bottom_atom_z)[0][0]\n",
    "    mask_top = np.array([(atom.symbol == surface_species and abs(snapshot.get_distance(atom.index, top_index, mic=True, vector=True)[2])<1.4) for atom in snapshot])\n",
    "    mask_bottom = np.array([(atom.symbol == surface_species and abs(snapshot.get_distance(atom.index, bottom_index, mic=True, vector=True)[2])<1.4) for atom in snapshot])\n",
    "    z_top = np.mean(snapshot.get_positions(wrap=True)[mask_top, 2])\n",
    "    z_bottom = np.mean(snapshot.get_positions(wrap=True)[mask_bottom, 2])\n",
    "    if shifted:\n",
    "        z_top -= snapshot.cell[2,2]*0.5\n",
    "        z_bottom -= snapshot.cell[2,2]*0.5\n",
    "    if z_bottom < snapshot.cell[2,2]*0.5: #I actually think this if statement is not necessary.\n",
    "        z_bottom += snapshot.cell[2,2]\n",
    "\n",
    "    return z_top, z_bottom"
   ]
  },
  {
   "cell_type": "code",
   "execution_count": null,
   "metadata": {},
   "outputs": [],
   "source": [
    "def shift_top_layer_to_0(atoms, surface_species):\n",
    "    \"\"\"Shifts average position of top layer to 0\"\"\"\n",
    "    zs = []\n",
    "    for i,snapshot in enumerate(atoms):\n",
    "        if i%100 ==0:\n",
    "            print(\"      Analyzing snapshot {} of {}...\".format(i, len(atoms)))\n",
    "        z_top, z_bottom = get_top_bottom(snapshot, surface_species)\n",
    "        zs.append(z_top)\n",
    "    z_av = np.mean(np.array(zs))\n",
    "    for snapshot in atoms:\n",
    "        snapshot.positions -= z_av"
   ]
  },
  {
   "cell_type": "markdown",
   "metadata": {
    "jp-MarkdownHeadingCollapsed": true,
    "tags": []
   },
   "source": [
    "### Reading data"
   ]
  },
  {
   "cell_type": "code",
   "execution_count": null,
   "metadata": {},
   "outputs": [],
   "source": [
    "#give cell\n",
    "x_max_bulk = 15.0\n",
    "y_max_bulk = 15.0\n",
    "z_max_bulk = 15.0\n",
    "gamma_bulk = 90.000\n",
    "#Read trajectory with 2Cs\n",
    "print(\"Reading Trajectory...\")\n",
    "atoms_bulk = ase.io.read('C:/Users/doblhoffdierk/Downloads/trajectories_Au_100/trajectories_Au_100/trajectories_bulk.xyz',index=slice(int(equil/delta_t), None, int(delta/delta_t)))\n",
    "print(\"Trajectory read\")\n",
    "print(\"Adding pbc...\")\n",
    "for i,snapshot in enumerate(atoms_bulk):\n",
    "    #print(i,len(atoms))\n",
    "    snapshot.cell = [[x_max_bulk,0,0], [y_max_bulk*np.cos(gamma_bulk*np.pi/180), y_max_bulk*np.sin(gamma_bulk*np.pi/180),0],[0,0,z_max_bulk]]\n",
    "    snapshot.pbc=True"
   ]
  },
  {
   "cell_type": "code",
   "execution_count": null,
   "metadata": {
    "tags": []
   },
   "outputs": [],
   "source": [
    "#give cell\n",
    "x_max = 14.425\n",
    "y_max = 17.310\n",
    "z_max = 48.62\n",
    "gamma = 90.000\n",
    "#read\n",
    "delta_t = 5 #one snapshot every 5 timesteps in this trajectroy; don't change unless trajectroy is changed\n",
    "equil = 5000 #equilibration time\n",
    "delta = 10 #analyze every delta timesteps\n",
    "print(\"Reading Trajectory...\")\n",
    "atoms = ase.io.read('C:/Users/doblhoffdierk/Downloads/trajectories_Au_100/trajectories_Au_100/trajectories_Cs_4.xyz',index=slice(int(equil/delta_t), None, int(delta/delta_t)))\n",
    "print(\"Trajectory read\")\n",
    "print(\"Adding pbc...\")\n",
    "for i,snapshot in enumerate(atoms):\n",
    "    #print(i,len(atoms))\n",
    "    snapshot.cell = [[x_max,0,0], [y_max*np.cos(gamma*np.pi/180), y_max*np.sin(gamma*np.pi/180),0],[0,0,z_max]]\n",
    "    snapshot.pbc=True\n",
    "#shift top layer to 0\n",
    "print(\"Added pbc\")\n",
    "print(\"Shifting slab to 0...\")\n",
    "shift_top_layer_to_0(atoms, 'Au')\n",
    "print(\"Shifted slab to 0.\")\n",
    "#visualize \n",
    "#ase.visualize.view(atoms)"
   ]
  },
  {
   "cell_type": "code",
   "execution_count": null,
   "metadata": {},
   "outputs": [],
   "source": [
    "ase.visualize.view(atoms)"
   ]
  },
  {
   "cell_type": "code",
   "execution_count": null,
   "metadata": {},
   "outputs": [],
   "source": [
    "ase.io.write('snapshot.vasp',atoms[1479],  format='vasp')"
   ]
  },
  {
   "cell_type": "code",
   "execution_count": null,
   "metadata": {},
   "outputs": [],
   "source": [
    "len(atoms)"
   ]
  },
  {
   "cell_type": "code",
   "execution_count": null,
   "metadata": {},
   "outputs": [],
   "source": [
    "#Read trajectory with 2Cs\n",
    "print(\"Reading Trajectory...\")\n",
    "atoms_2 = ase.io.read('C:/Users/doblhoffdierk/Downloads/trajectories_Au_100/trajectories_Au_100/trajectories_Cs_2.xyz',index=slice(int(equil/delta_t), None, int(delta/delta_t)))\n",
    "print(\"Trajectory read\")\n",
    "print(\"Adding pbc...\")\n",
    "for i,snapshot in enumerate(atoms_2):\n",
    "    #print(i,len(atoms))\n",
    "    snapshot.cell = [[x_max,0,0], [y_max*np.cos(gamma*np.pi/180), y_max*np.sin(gamma*np.pi/180),0],[0,0,z_max]]\n",
    "    snapshot.pbc=True\n",
    "#shift top layer to 0\n",
    "print(\"Added pbc\")\n",
    "print(\"Shifting slab to 0...\")\n",
    "shift_top_layer_to_0(atoms_2, 'Au')\n",
    "print(\"Shifted slab to 0.\")"
   ]
  },
  {
   "cell_type": "markdown",
   "metadata": {
    "tags": []
   },
   "source": [
    "# Analyze structure of solvation shell"
   ]
  },
  {
   "cell_type": "markdown",
   "metadata": {
    "jp-MarkdownHeadingCollapsed": true,
    "tags": []
   },
   "source": [
    "#### Define Functions to analyse structure of the solvation shell of ions"
   ]
  },
  {
   "cell_type": "code",
   "execution_count": null,
   "metadata": {},
   "outputs": [],
   "source": [
    "def map2sphere(positions):\n",
    "    positions_on_sphere = []\n",
    "    for x,y,z in positions:\n",
    "        r = np.sqrt(x*x + y*y + z*z)\n",
    "        theta = np.arccos(z/r)\n",
    "        phi = np.arctan2(y,x)\n",
    "        x_sphere = np.sin( theta ) * np.cos( phi )\n",
    "        y_sphere = np.sin( theta ) * np.sin( phi )\n",
    "        z_sphere = np.cos( theta )\n",
    "        positions_on_sphere.append([x_sphere, y_sphere, z_sphere])\n",
    "    return positions_on_sphere\n",
    "        "
   ]
  },
  {
   "cell_type": "code",
   "execution_count": null,
   "metadata": {
    "tags": []
   },
   "outputs": [],
   "source": [
    "def get_angles_hull_simplices(atoms, ion, r_solv, z_start, z_end):\n",
    "    \"\"\"Constructs convex hull around all O atoms within r_solv from ions located in the region z_start, z_end.\n",
    "    Computes angles of all simplices. Returns list of these angles and number of ions analyzed.\"\"\"\n",
    "    #loop through trajectory\n",
    "    angles = []\n",
    "    nions = 0\n",
    "    for i,snapshot in enumerate(atoms):\n",
    "        #if i%100 ==0:\n",
    "            #print(\"      Analyzing snapshot {} of {}...\".format(i, len(atoms)))\n",
    "        #find ions in specified region\n",
    "        ion_indices = [atom.index for atom in snapshot if atom.symbol == ion and atom.position[2]>z_start and atom.position[2]<=z_end]\n",
    "        o_indices = [atom.index for atom in snapshot if atom.symbol == 'O']\n",
    "        #loop through ions to find the Os in their solvation shell and compute angles\n",
    "        for ion_index in ion_indices:\n",
    "            #find Os in solvation shell\n",
    "            solvation_o_indices = [o_index for o_index in o_indices if snapshot.get_distances(o_index, ion_index, mic=True, vector=False) <= r_solv]\n",
    "            if len(solvation_o_indices) >= 4: #need 4 points for convex hull\n",
    "                nions += 1\n",
    "                #find convex hull using minimum image convention and mapping all points onto sphere centered on ion with r=1.\n",
    "                o_positions = snapshot.get_distances(ion_index, solvation_o_indices, mic=True, vector=True)\n",
    "                o_positions_on_sphere = map2sphere(o_positions)\n",
    "                o_positions_on_sphere += snapshot[ion_index].position\n",
    "                o_positions += snapshot[ion_index].position\n",
    "                hull = ConvexHull(o_positions)\n",
    "                for s in hull.simplices:\n",
    "                    s = np.append(s, s[0])  # Here we cycle back to the first coordinate\n",
    "                    for i_line in range(len(s)-1):\n",
    "                        i = s[i_line]\n",
    "                        j = s[i_line + 1]\n",
    "                        o_ion_o_angle = snapshot.get_angle(solvation_o_indices[i], ion_index, solvation_o_indices[j], mic=True)\n",
    "                        angles.append(o_ion_o_angle)\n",
    "    return np.array(angles), nions"
   ]
  },
  {
   "cell_type": "code",
   "execution_count": null,
   "metadata": {},
   "outputs": [],
   "source": [
    "def get_O_ion_O_angles(atoms, ion, r_solv, z_start, z_end):\n",
    "    \"\"\"Identifies all O atoms within r_solv from ions located in the region z_start, z_end.\n",
    "    Finds nearest O-O neighbors and computes their O-ion-O angle. Returns list of these angles and number of ions analyzed.\"\"\"\n",
    "    #loop through trajectory\n",
    "    angles = []\n",
    "    nions = 0\n",
    "    for i,snapshot in enumerate(atoms):\n",
    "        #if i%100 ==0:\n",
    "            #print(\"      Analyzing snapshot {} of {}...\".format(i, len(atoms)))\n",
    "        #find ions in specified region\n",
    "        ion_indices = [atom.index for atom in snapshot if atom.symbol == ion and atom.position[2]>z_start and atom.position[2]<=z_end]\n",
    "        o_indices = [atom.index for atom in snapshot if atom.symbol == 'O']\n",
    "        #loop through ions to find the Os in their solvation shell and compute angles\n",
    "        for ion_index in ion_indices:\n",
    "            nions += 1\n",
    "            #find Os in solvation shell\n",
    "            solvation_o_indices = [o_index for o_index in o_indices if snapshot.get_distances(o_index, ion_index, mic=True, vector=False) <= r_solv]\n",
    "            #find all nearest neighbors\n",
    "            for i_o1 in range(len(solvation_o_indices)):\n",
    "                for i_o2 in range(i_o1+1, len(solvation_o_indices)):\n",
    "                    o_ion_o_angle = snapshot.get_angle(solvation_o_indices[i_o1], ion_index, solvation_o_indices[i_o2], mic=True)\n",
    "                    angles.append(o_ion_o_angle)\n",
    "    return np.array(angles), nions"
   ]
  },
  {
   "cell_type": "code",
   "execution_count": null,
   "metadata": {
    "tags": []
   },
   "outputs": [],
   "source": [
    "def get_nn_O_ion_O_angles(atoms, ion, r_solv, z_start, z_end):\n",
    "    \"\"\"Identifies all O atoms within r_solv from ions located in the region z_start, z_end.\n",
    "    Finds nearest O-O neighbors and computes their O-ion-O angle. Returns list of these angles and number of ions analyzed.\"\"\"\n",
    "    #loop through trajectory\n",
    "    angles = []\n",
    "    nions = 0\n",
    "    for i,snapshot in enumerate(atoms):\n",
    "        #if i%100 ==0:\n",
    "            #print(\"      Analyzing snapshot {} of {}...\".format(i, len(atoms)))\n",
    "        #find ions in specified region\n",
    "        ion_indices = [atom.index for atom in snapshot if atom.symbol == ion and atom.position[2]>z_start and atom.position[2]<=z_end]\n",
    "        o_indices = [atom.index for atom in snapshot if atom.symbol == 'O']\n",
    "        #loop through ions to find the Os in their solvation shell and compute angles\n",
    "        for ion_index in ion_indices:\n",
    "            nions += 1\n",
    "            #find Os in solvation shell\n",
    "            solvation_o_indices = [o_index for o_index in o_indices if snapshot.get_distances(o_index, ion_index, mic=True, vector=False) <= r_solv]\n",
    "            #find all nearest neighbors\n",
    "            for i_o1 in range(len(solvation_o_indices)):\n",
    "                current_distance = 1000\n",
    "                nn=-1\n",
    "                for i_o2 in range(len(solvation_o_indices)):\n",
    "                    #don't allow for angle to itself\n",
    "                    if i_o1 == i_o2:\n",
    "                        continue\n",
    "                    distance = snapshot.get_distances(solvation_o_indices[i_o1], solvation_o_indices[i_o2], mic=True, vector=False)\n",
    "                    if distance<current_distance:\n",
    "                        current_distance = distance\n",
    "                        nn = i_o2\n",
    "                if nn>0: #NN found\n",
    "                    o_ion_o_angle = snapshot.get_angle(solvation_o_indices[i_o1], ion_index, solvation_o_indices[nn], mic=True)\n",
    "                    angles.append(o_ion_o_angle)\n",
    "    return np.array(angles), nions"
   ]
  },
  {
   "cell_type": "markdown",
   "metadata": {
    "jp-MarkdownHeadingCollapsed": true,
    "tags": []
   },
   "source": [
    "#### Analyze O-ion-O angle for all nearest neighbor Os in first solvation shell of ions"
   ]
  },
  {
   "cell_type": "code",
   "execution_count": null,
   "metadata": {
    "tags": []
   },
   "outputs": [],
   "source": [
    "#loop through z ranges for ion and compute nearest neighbor O - ion - O angles for O in first solvation shell of ion\n",
    "z_bin_edges = [0.0, 4.0, 5.0, 6.2, 20.0]\n",
    "hists = {}\n",
    "nions = {}\n",
    "data = {}\n",
    "print(\"Getting histogramms...\")\n",
    "for i_bin in range(len(z_bin_edges)-1):\n",
    "    print(\"   bin {} of {}...\".format(i_bin, len(z_bin_edges)-1))\n",
    "    z_start = z_bin_edges[i_bin]\n",
    "    z_end = z_bin_edges[i_bin+1]\n",
    "    label = \"z{:3.1f}-{:3.1f}\".format(z_start, z_end)\n",
    "    #print(\"   {}\".format(label))\n",
    "    \n",
    "    nn_O_ion_O_angles, nions_i = get_nn_O_ion_O_angles(atoms, 'Cs', 3.999, z_start, z_end)\n",
    "    nions[label] = nions_i\n",
    "    data[label] = nn_O_ion_O_angles\n",
    "    hists[label], bin_edges = np.histogram(data[label], bins=72, range=[0,180], density=False)\n",
    "    plt.plot(bin_edges[:-1]+0.5*(bin_edges[1]-bin_edges[0]), hists[label]/nions[label], label=label)\n",
    "plt.legend()\n",
    "print(\"Done.\")"
   ]
  },
  {
   "cell_type": "markdown",
   "metadata": {},
   "source": [
    "Conclusion: Hard to interpret, as much information is \"thrown away\" in this graph. Overall it seems that there is a slight shift to smaller angles, in particular for z=4-5A, when the coordination number is not reduced yet. The hull results belwo may be easier to interpret."
   ]
  },
  {
   "cell_type": "markdown",
   "metadata": {
    "jp-MarkdownHeadingCollapsed": true,
    "tags": []
   },
   "source": [
    "#### Analyze angle of all O-ion-O pairs for Os in first solvation shell of ions"
   ]
  },
  {
   "cell_type": "code",
   "execution_count": null,
   "metadata": {},
   "outputs": [],
   "source": [
    "#loop through z ranges for ion and compute all O - ion - O angles for O in first solvation shell of ion\n",
    "z_bin_edges = [0.0, 4.0, 5.0, 6.2, 20.0]\n",
    "hists_all = {}\n",
    "nions_all = {}\n",
    "data_all = {}\n",
    "print(\"Getting histogramms...\")\n",
    "for i_bin in range(len(z_bin_edges)-1):\n",
    "    print(\"   bin {} of {}...\".format(i_bin, len(z_bin_edges)-1))\n",
    "    z_start = z_bin_edges[i_bin]\n",
    "    z_end = z_bin_edges[i_bin+1]\n",
    "    label = \"z{:3.1f}-{:3.1f}\".format(z_start, z_end)\n",
    "    #print(\"   {}\".format(label))\n",
    "    \n",
    "    nn_O_ion_O_angles, nions_i = get_O_ion_O_angles(atoms, 'Cs', 3.999, z_start, z_end)\n",
    "    nions_all[label] = nions_i\n",
    "    data_all[label] = nn_O_ion_O_angles\n",
    "    hists_all[label], bin_edges_all = np.histogram(data_all[label], bins=72, range=[0,180], density=False)\n",
    "    plt.plot(bin_edges_all[:-1]+0.5*(bin_edges_all[1]-bin_edges_all[0]), hists_all[label]/nions_all[label], label=label)\n",
    "plt.legend()\n",
    "print(\"Done.\")"
   ]
  },
  {
   "cell_type": "markdown",
   "metadata": {},
   "source": [
    "Conclusion: Hard to analyze as ALL angles are included (also the really large ones for Os in the solvation shell that are not neighbored. Hull results below may be easier to analyze."
   ]
  },
  {
   "cell_type": "markdown",
   "metadata": {
    "tags": []
   },
   "source": [
    "#### Analyze O-ion-O angles along Os forming simplices of hull formed by Os in the solvation shell of ion"
   ]
  },
  {
   "cell_type": "markdown",
   "metadata": {},
   "source": [
    "Note that this is the best \"O-O neighbor\" description for Os in the solvation shell that I could come up with"
   ]
  },
  {
   "cell_type": "code",
   "execution_count": null,
   "metadata": {
    "tags": []
   },
   "outputs": [],
   "source": [
    "#loop through z ranges for ion and compute O - ion - O angles for simplices of complex hull around O in first solvation shell of ion\n",
    "z_bin_edges = [0.0, 4.0, 5.0, 6.2, 20.0]\n",
    "hists_hull = {}\n",
    "nions_hull = {}\n",
    "data_hull = {}\n",
    "colors = ['darkslategrey','teal','darkturquoise', 'turquoise']\n",
    "fig, ax1 = plt.subplots(figsize=(3.3,2))\n",
    "print(\"Getting histogramms...\")\n",
    "for i_bin in range(len(z_bin_edges)-1):\n",
    "    print(\"   bin {} of {}...\".format(i_bin, len(z_bin_edges)-1))\n",
    "    z_start = z_bin_edges[i_bin]\n",
    "    z_end = z_bin_edges[i_bin+1]\n",
    "    label = \"{:3.1f}<z<{:3.1f}\".format(z_start, z_end)\n",
    "    #print(\"   {}\".format(label))\n",
    "    \n",
    "    nn_O_ion_O_angles, nions_i = get_angles_hull_simplices(atoms, 'Cs', 3.999, z_start, z_end)\n",
    "    nions_hull[label] = nions_i\n",
    "    data_hull[label] = nn_O_ion_O_angles\n",
    "    hists_hull[label], bin_edges_hull = np.histogram(data_hull[label], bins=72, range=[0,180], density=False)\n",
    "    plt.plot(bin_edges_hull[:-1]+0.5*(bin_edges_hull[1]-bin_edges_hull[0]), hists_hull[label]/nions_hull[label], label=label, color = colors[i_bin])\n",
    "plt.legend()\n",
    "plt.xlabel(\"O-ion-O angle [deg]\")\n",
    "plt.ylabel(\"probability [arb. units]\")\n",
    "plt.tight_layout()\n",
    "fig.savefig('figures/O-ion-O_simplicesAngles.svg', format='svg', dpi=300)\n",
    "print(\"Done.\")"
   ]
  },
  {
   "cell_type": "markdown",
   "metadata": {},
   "source": [
    "Conclusion: little difference between z>6.2 and 5<z<6.3 although there seems to be some changes for angles between 70 and 175 deg.\n",
    "for 4<z<5 there is a clear shift to the small angles<50 deg.\n",
    "for z<4 the small angles are slightly reduced (but there are also overall less Os in the solvation shell, so overall decrease of area under the curve! Additionally large angles (due to large opening angle) become clearly visible. Those seem to be mainly compensated by angles between 17 and 10 deg, rather than the really small angles."
   ]
  },
  {
   "cell_type": "markdown",
   "metadata": {
    "jp-MarkdownHeadingCollapsed": true,
    "tags": []
   },
   "source": [
    "#### Check influence of choice of r_cut"
   ]
  },
  {
   "cell_type": "code",
   "execution_count": null,
   "metadata": {},
   "outputs": [],
   "source": [
    "#loop through z ranges for ion and compute O - ion - O angles for simplices of complex hull around O in first solvation shell of ion\n",
    "z_bin_edges = [0.0, 4.0, 5.0, 6.2, 20.0]\n",
    "hists_hull = {}\n",
    "nions_hull = {}\n",
    "data_hull = {}\n",
    "print(\"Getting histogramms...\")\n",
    "for i_bin in range(len(z_bin_edges)-1):\n",
    "    print(\"   bin {} of {}...\".format(i_bin, len(z_bin_edges)-1))\n",
    "    z_start = z_bin_edges[i_bin]\n",
    "    z_end = z_bin_edges[i_bin+1]\n",
    "    label = \"z{:3.1f}-{:3.1f}\".format(z_start, z_end)\n",
    "    #print(\"   {}\".format(label))\n",
    "    \n",
    "    nn_O_ion_O_angles, nions_i = get_angles_hull_simplices(atoms, 'Cs', 3.7, z_start, z_end)\n",
    "    nions_hull[label] = nions_i\n",
    "    data_hull[label] = nn_O_ion_O_angles\n",
    "    hists_hull[label], bin_edges_hull = np.histogram(data_hull[label], bins=72, range=[0,180], density=False)\n",
    "    plt.plot(bin_edges_hull[:-1]+0.5*(bin_edges_hull[1]-bin_edges_hull[0]), hists_hull[label]/nions_hull[label], label=label)\n",
    "plt.legend()\n",
    "print(\"Done.\")"
   ]
  },
  {
   "cell_type": "markdown",
   "metadata": {},
   "source": [
    "Conclusion: general results unchanged to the observations above."
   ]
  },
  {
   "cell_type": "markdown",
   "metadata": {
    "jp-MarkdownHeadingCollapsed": true,
    "tags": []
   },
   "source": [
    "#### Check implementation of hull"
   ]
  },
  {
   "cell_type": "code",
   "execution_count": null,
   "metadata": {
    "tags": []
   },
   "outputs": [],
   "source": [
    "def plot_angles_hull_simplices(atoms, ion, r_solv, z_start, z_end):\n",
    "    \"\"\"Constructs convex hull around all O atoms within r_solv from ions located in the region z_start, z_end.\n",
    "    Computes angles of all simplices. Returns list of these angles and number of ions analyzed.\"\"\"\n",
    "    #loop through trajectory\n",
    "    for i,snapshot in enumerate(atoms):\n",
    "        #stop after 5 snapshots\n",
    "        if i>1:\n",
    "            break\n",
    "        if i%100 ==0:\n",
    "            print(\"      Analyzing snapshot {} of {}...\".format(i, len(atoms)))\n",
    "        #find ions in specified region\n",
    "        ion_indices = [atom.index for atom in snapshot if atom.symbol == ion and atom.position[2]>z_start and atom.position[2]<=z_end]\n",
    "        o_indices = [atom.index for atom in snapshot if atom.symbol == 'O']\n",
    "        #loop through ions to find the Os in their solvation shell and compute angles\n",
    "        for ion_index in ion_indices:\n",
    "            #find Os in solvation shell\n",
    "            solvation_o_indices = [o_index for o_index in o_indices if snapshot.get_distances(o_index, ion_index, mic=True, vector=False) <= r_solv]\n",
    "            if len(solvation_o_indices) >= 4: #need 4 points for convex hull\n",
    "                #open figure\n",
    "                fig = plt.figure()\n",
    "                ax = fig.add_subplot(111, projection=\"3d\")\n",
    "                #plot ion\n",
    "                print(snapshot[ion_index].position)\n",
    "                ax.scatter([snapshot[ion_index].position[0]],[snapshot[ion_index].position[1]],[snapshot[ion_index].position[2]] , \"ko\") \n",
    "                #find convex hull using minimum image convention and mapping all points onto sphere with r=1.\n",
    "                o_positions = snapshot.get_distances(ion_index, solvation_o_indices, mic=True, vector=True)\n",
    "                o_positions_on_sphere = map2sphere(o_positions)\n",
    "                o_positions_on_sphere += snapshot[ion_index].position\n",
    "                o_positions += snapshot[ion_index].position\n",
    "                hull = ConvexHull(o_positions_on_sphere)\n",
    "                for s in hull.simplices:\n",
    "                    s = np.append(s, s[0])  # Here we cycle back to the first coordinate\n",
    "                    for i_line in range(len(s)-1):\n",
    "                        i = s[i_line]\n",
    "                        j = s[i_line + 1]\n",
    "                        o_ion_o_angle = snapshot.get_angle(solvation_o_indices[i], ion_index, solvation_o_indices[j], mic=True)\n",
    "                        #plot convex hull color coded for angles\n",
    "                        if o_ion_o_angle<55:\n",
    "                            color = 'r-'\n",
    "                        else:\n",
    "                            color = 'b-'\n",
    "                        #print(np.array([o_positions[i], o_positions[j]]))\n",
    "                        pts = np.array([o_positions[i], o_positions[j]])\n",
    "                        ax.plot(pts[:,0], pts[:,1], pts[:,2], color)\n",
    "                plt.show()\n",
    "                #plot geometry around ion\n",
    "                h_indices = [atom.index for atom in snapshot if atom.symbol == 'H']\n",
    "                solvation_h_indices = []\n",
    "                for o_index in solvation_o_indices:\n",
    "                    solvation_h_indices += [h_index for h_index in h_indices if snapshot.get_distances(o_index, h_index, mic=True, vector=False) <= 1.2]\n",
    "                print(solvation_h_indices)\n",
    "                ase.visualize.view(snapshot[solvation_o_indices+solvation_h_indices+[ion_index]])\n",
    "            \n",
    "                        "
   ]
  },
  {
   "cell_type": "code",
   "execution_count": null,
   "metadata": {},
   "outputs": [],
   "source": [
    "#loop through z ranges for ion and compute O - ion - O angles for simplices of complex hull around O in first solvation shell of ion\n",
    "z_bin_edges = [0.0, 4.0]#, 5.0, 6.2, 20.0]\n",
    "for i_bin in range(len(z_bin_edges)-1):\n",
    "    print(\"   bin {} of {}...\".format(i_bin, len(z_bin_edges)-1))\n",
    "    z_start = z_bin_edges[i_bin]\n",
    "    z_end = z_bin_edges[i_bin+1]\n",
    "    label = \"z{:3.1f}-{:3.1f}\".format(z_start, z_end)\n",
    "    print(\"   {}\".format(label))\n",
    "    \n",
    "    plot_angles_hull_simplices(atoms, 'Cs', 3.999, z_start, z_end)"
   ]
  },
  {
   "cell_type": "markdown",
   "metadata": {},
   "source": [
    "Conclusion: The hull is identified similarly to what I would have done by hand. The plots above are difficult to see in 3D but by turning on %matplotlib notebook above, the structures can be turned and become clearer. This, however, tends to crash my notebook..."
   ]
  },
  {
   "cell_type": "markdown",
   "metadata": {
    "tags": []
   },
   "source": [
    "# Analyze surface-near water"
   ]
  },
  {
   "cell_type": "markdown",
   "metadata": {
    "jp-MarkdownHeadingCollapsed": true,
    "tags": []
   },
   "source": [
    "### Define functions"
   ]
  },
  {
   "cell_type": "code",
   "execution_count": null,
   "metadata": {},
   "outputs": [],
   "source": [
    "def get_waters_ltZA(atoms, z):\n",
    "    nsnapshots = 0\n",
    "    nOs = 0\n",
    "    for snapshot in atoms:\n",
    "        o_indices = [atom.index for atom in snapshot if atom.symbol == 'O' and atom.position[2] < z]\n",
    "        nsnapshots += 1\n",
    "        nOs += len(o_indices)\n",
    "    return float(nOs)/float(nsnapshots)"
   ]
  },
  {
   "cell_type": "code",
   "execution_count": null,
   "metadata": {},
   "outputs": [],
   "source": [
    "def get_water_angle(atoms, maxz, nz=20, every = 1):\n",
    "    n_waters = np.zeros(nz)\n",
    "    angles = np.zeros(nz)\n",
    "    zs = np.arange(0,maxz,maxz/nz)\n",
    "    zs = zs + 0.5 * (zs[1]-zs[0])\n",
    "    max_bond = 1.2\n",
    "    for i,snapshot in enumerate(atoms):\n",
    "        if i%every == 0:\n",
    "            #print(i, len(atoms))\n",
    "            o_indices = [atom.index for atom in snapshot if atom.symbol == 'O' and atom.position[2] < maxz]\n",
    "            h_indices = [atom.index for atom in snapshot if atom.symbol == 'H' and atom.position[2] < maxz + max_bond]\n",
    "            for o_index in o_indices:\n",
    "                # find location of o to correctly place in array\n",
    "                iz = int(snapshot[o_index].position[2]/maxz*nz)\n",
    "                water_h_indices = [h_index for h_index in h_indices if snapshot.get_distances(o_index, h_index, mic=True, vector=False) <= max_bond]\n",
    "                intercept = snapshot.get_distances(o_index, water_h_indices[0], mic=True, vector=True) + snapshot.get_distances(o_index, water_h_indices[1], mic=True, vector=True)\n",
    "                angle = np.arccos(np.dot(intercept, np.array([0,0,1])) / np.linalg.norm(intercept)) * 180 / np.pi\n",
    "                angles[iz] += angle\n",
    "                n_waters[iz] += 1\n",
    "    return zs, angles/n_waters\n",
    "                "
   ]
  },
  {
   "cell_type": "code",
   "execution_count": null,
   "metadata": {},
   "outputs": [],
   "source": [
    "def get_water_OH_angle(atoms, maxz, nz=20, every = 1, direction = 'down'):\n",
    "    n_waters = np.zeros(nz)\n",
    "    angles = np.zeros(nz)\n",
    "    zs = np.arange(0,maxz,maxz/nz)\n",
    "    zs = zs + 0.5 * (zs[1]-zs[0])\n",
    "    max_bond = 1.2\n",
    "    for i,snapshot in enumerate(atoms):\n",
    "        if i%every == 0:\n",
    "            #print(i, len(atoms))\n",
    "            o_indices = [atom.index for atom in snapshot if atom.symbol == 'O' and atom.position[2] < maxz]\n",
    "            h_indices = [atom.index for atom in snapshot if atom.symbol == 'H' and atom.position[2] < maxz + max_bond]\n",
    "            for o_index in o_indices:\n",
    "                # find location of o to correctly place in array\n",
    "                iz = int(snapshot[o_index].position[2]/maxz*nz)\n",
    "                water_h_indices = [h_index for h_index in h_indices if snapshot.get_distances(o_index, h_index, mic=True, vector=False) <= max_bond]\n",
    "                v1 = snapshot.get_distances(o_index, water_h_indices[0], mic=True, vector=True)\n",
    "                ang1 = np.arccos(np.dot(v1, np.array([0,0,1])) / np.linalg.norm(v1)) * 180 / np.pi\n",
    "                v2 = snapshot.get_distances(o_index, water_h_indices[1], mic=True, vector=True)\n",
    "                ang2 = np.arccos(np.dot(v2, np.array([0,0,1])) / np.linalg.norm(v2)) * 180 / np.pi\n",
    "                if direction == 'down':\n",
    "                    #get most downward OH bond\n",
    "                    if ang2 > ang1:\n",
    "                        ang1 = ang2\n",
    "                elif direction == 'up':\n",
    "                    #get most up OH bond\n",
    "                    if ang2 < ang1:\n",
    "                        ang1 = ang2\n",
    "                else:\n",
    "                    print(\"Unknown direction. Using random angle\")\n",
    "                angles[iz] += ang1\n",
    "                n_waters[iz] += 1\n",
    "    return zs, angles/n_waters"
   ]
  },
  {
   "cell_type": "code",
   "execution_count": null,
   "metadata": {},
   "outputs": [],
   "source": [
    "def get_water_density(atoms, maxz, nz=20, every = 1):\n",
    "    n_snapshots = 0\n",
    "    density = np.zeros(nz)\n",
    "    zs = np.arange(0,maxz,maxz/nz)\n",
    "    zs = zs + 0.5 * (zs[1]-zs[0])\n",
    "    for i, snapshot in enumerate(atoms):\n",
    "        if i%every == 0:\n",
    "            n_snapshots += 1\n",
    "            o_indices = [atom.index for atom in snapshot if atom.symbol == 'O' and atom.position[2] < maxz]\n",
    "            for o_index in o_indices:\n",
    "                # find location of o to correctly place in array\n",
    "                iz = int(snapshot[o_index].position[2]/maxz*nz)\n",
    "                density[iz] += 1\n",
    "    density = density / n_snapshots\n",
    "    #unit conversion\n",
    "    A = np.linalg.norm(np.cross(atoms[0].get_cell()[0,0:2], atoms[0].get_cell()[1,0:2]))\n",
    "    density *= (2*ase.Atom('H').mass + ase.Atom('O').mass) / A / (zs[1]-zs[0])\n",
    "    density *= constants.physical_constants[\"atomic mass constant\"][0] * 1E27 #kg/dm^3 = g/cm^3\n",
    "    return zs, density"
   ]
  },
  {
   "cell_type": "code",
   "execution_count": null,
   "metadata": {},
   "outputs": [],
   "source": [
    "def get_probability_species(atoms, species, maxz, nz=20, every = 1):\n",
    "    density = np.zeros(nz)\n",
    "    zs = np.arange(0,maxz,maxz/nz)\n",
    "    zs = zs + 0.5 * (zs[1]-zs[0])\n",
    "    for i, snapshot in enumerate(atoms):\n",
    "        if i%every == 0:\n",
    "            indices = [atom.index for atom in snapshot if atom.symbol == species and atom.position[2] < maxz]\n",
    "            for index in indices:\n",
    "                # find location of o to correctly place in array\n",
    "                iz = int(snapshot[index].position[2]/maxz*nz)\n",
    "                density[iz] += 1\n",
    "    #normalize\n",
    "    density = density / sum(density) * nz / maxz\n",
    "    return zs, density"
   ]
  },
  {
   "cell_type": "markdown",
   "metadata": {
    "tags": []
   },
   "source": [
    "### Analyze Data"
   ]
  },
  {
   "cell_type": "markdown",
   "metadata": {
    "jp-MarkdownHeadingCollapsed": true,
    "tags": []
   },
   "source": [
    "#### Water denisty profile"
   ]
  },
  {
   "cell_type": "code",
   "execution_count": null,
   "metadata": {},
   "outputs": [],
   "source": [
    "#density\n",
    "print(\"Analyzing angle 4Cs\")\n",
    "zs, density = get_water_density(atoms, 10, nz=100)\n",
    "print(\"Analyzing angle 2Cs\")\n",
    "zs_2, density_2 = get_water_density(atoms_2, 10, nz=100)\n",
    "plt.plot(zs, density, label = \"4 Cs+\")\n",
    "plt.plot(zs_2, density_2, label = \"2 Cs+\")\n",
    "plt.legend()\n",
    "plt.xlabel(\"distance [A]\")\n",
    "plt.ylabel(\"density [kg/l]\")"
   ]
  },
  {
   "cell_type": "markdown",
   "metadata": {
    "jp-MarkdownHeadingCollapsed": true,
    "tags": []
   },
   "source": [
    "#### Counting water close to interface per cell"
   ]
  },
  {
   "cell_type": "code",
   "execution_count": null,
   "metadata": {},
   "outputs": [],
   "source": [
    "#count waters <5A\n",
    "cut = 5\n",
    "waters_4Cs = get_waters_ltXA(atoms, cut)\n",
    "waters_2Cs = get_waters_ltXA(atoms_2, cut)\n",
    "print(\"4Cs: average water number <{} in box = {}\".format(cut, waters_4Cs))\n",
    "print(\"2Cs: average water number <{} in box = {}\".format(cut, waters_2Cs))\n",
    "print(\"Percentage change = {}%\".format((waters_4Cs-waters_2Cs)/waters_2Cs*100))"
   ]
  },
  {
   "cell_type": "code",
   "execution_count": null,
   "metadata": {},
   "outputs": [],
   "source": [
    "#count waters <4.5A\n",
    "cut = 4.5\n",
    "waters_4Cs = get_waters_ltXA(atoms, cut)\n",
    "waters_2Cs = get_waters_ltXA(atoms_2, cut)\n",
    "print(\"4Cs: average water number <{} in box = {}\".format(cut, waters_4Cs))\n",
    "print(\"2Cs: average water number <{} in box = {}\".format(cut, waters_2Cs))\n",
    "print(\"Percentage change = {}%\".format((waters_4Cs-waters_2Cs)/waters_2Cs*100))"
   ]
  },
  {
   "cell_type": "code",
   "execution_count": null,
   "metadata": {},
   "outputs": [],
   "source": [
    "#count waters <4A\n",
    "cut = 4\n",
    "waters_4Cs = get_waters_ltXA(atoms, cut)\n",
    "waters_2Cs = get_waters_ltXA(atoms_2, cut)\n",
    "print(\"4Cs: average water number <{} in box = {}\".format(cut, waters_4Cs))\n",
    "print(\"2Cs: average water number <{} in box = {}\".format(cut, waters_2Cs))\n",
    "print(\"Percentage change = {}%\".format((waters_4Cs-waters_2Cs)/waters_2Cs*100))"
   ]
  },
  {
   "cell_type": "markdown",
   "metadata": {},
   "source": [
    "Conclusion: Number of water molecules in first hydration layer of the metal is slightly decreased (~10% depeinding on the exact cutoff distance) when there are more ions. The largest changes come from distances between 4 and 4.5A, in the water density minimum (which is lower with more ions present - see also plot above)"
   ]
  },
  {
   "cell_type": "markdown",
   "metadata": {
    "jp-MarkdownHeadingCollapsed": true,
    "tags": []
   },
   "source": [
    "#### ion density profile"
   ]
  },
  {
   "cell_type": "code",
   "execution_count": null,
   "metadata": {},
   "outputs": [],
   "source": [
    "zs_prob, ion_prob = get_probability_species(atoms, 'Cs', 10, nz=100)\n",
    "zs_2_prob, ion_prob_2 = get_probability_species(atoms_2, 'Cs', 10, nz=100)\n",
    "plt.plot(zs_prob, ion_prob, label = \"4 Cs+\")\n",
    "plt.plot(zs_2_prob, ion_prob_2, label = \"2 Cs+\")\n",
    "plt.legend()\n",
    "plt.xlabel(\"distance [A]\")\n",
    "plt.ylabel(\"probability\")"
   ]
  },
  {
   "cell_type": "code",
   "execution_count": null,
   "metadata": {},
   "outputs": [],
   "source": [
    "fig, ax1 = plt.subplots(figsize=(2.8,2))\n",
    "ax2 = ax1.twinx()\n",
    "c1 = 'teal'\n",
    "c2 = 'firebrick'\n",
    "ax1.plot([0,0.1], [0,0.0], label = r'4 Cs$^+$', color='k', ls='-', lw=1.5)\n",
    "ax1.plot([0,0.1], [0,0.0], label = r\"2 Cs$^+$\", color='k', ls=':', lw=1.5)\n",
    "ax1.legend()\n",
    "ax1.plot(zs, density, label = \"4 Cs+\", color=c1, ls='-', lw=1.5)\n",
    "ax1.plot(zs_2, density_2, label = \"2 Cs+\", color=c1, ls=':', lw=1.5)\n",
    "ax2.plot(zs_prob, ion_prob*4, label = \"4 Cs+\", color = c2 , ls='-', lw=1.5)\n",
    "ax2.fill_between(zs_prob,0, ion_prob*4, color = c2, alpha = 0.15)\n",
    "ax2.plot(zs_2_prob, ion_prob_2*2, label = \"2 Cs+\", color = c2, ls=':', lw=1.5)\n",
    "ax2.fill_between(zs_2_prob, 0,ion_prob_2*2,color = c2, alpha = 0.15)\n",
    "ax1.set_xlabel(\"distance $z$ [A]\")\n",
    "ax1.set_ylabel(\"water density [kg/l]\", color=c1)\n",
    "ax2.set_ylabel(\"ion number density\", color=c2)\n",
    "ax1.spines[\"left\"].set_edgecolor(c1)\n",
    "ax2.spines[\"left\"].set_edgecolor(c1)\n",
    "ax1.spines[\"right\"].set_edgecolor(c2)\n",
    "ax2.spines[\"right\"].set_edgecolor(c2)\n",
    "ax2.set_ylim(0,4)\n",
    "ax1.set_ylim(0,3.2)\n",
    "ax1.tick_params(axis='y', colors=c1)\n",
    "ax2.tick_params(axis='y', colors=c2)\n",
    "plt.tight_layout()\n",
    "fig.savefig('figures/density.svg', format='svg', dpi=300)"
   ]
  },
  {
   "cell_type": "markdown",
   "metadata": {
    "jp-MarkdownHeadingCollapsed": true,
    "tags": []
   },
   "source": [
    "#### Analyzing water angle for water <5A"
   ]
  },
  {
   "cell_type": "markdown",
   "metadata": {},
   "source": [
    "intercept vs. z (0deg is up, 180 deg is down)"
   ]
  },
  {
   "cell_type": "code",
   "execution_count": null,
   "metadata": {},
   "outputs": [],
   "source": [
    "#angle\n",
    "zmax = 5\n",
    "print(\"Analyzing angle 4Cs\")\n",
    "zs, angles = get_water_angle(atoms, zmax, nz=20, every = 10)\n",
    "print(\"Analyzing angle 2Cs\")\n",
    "zs_2, angles_2 = get_water_angle(atoms_2, zmax, nz=20, every = 10)\n",
    "plt.plot(zs, angles, label = \"4 Cs\")\n",
    "plt.plot(zs_2, angles_2, label = \"2 Cs\")\n",
    "plt.legend()\n",
    "plt.xlabel(\"distance [A]\")\n",
    "plt.ylabel(\"intercept angle [deg]\")\n",
    "plt.xlim(0,zmax)"
   ]
  },
  {
   "cell_type": "markdown",
   "metadata": {},
   "source": [
    "average most downward OH angle (0deg is up, 180 deg is down)"
   ]
  },
  {
   "cell_type": "code",
   "execution_count": null,
   "metadata": {},
   "outputs": [],
   "source": [
    "#OH-down angle\n",
    "print(\"Analyzing angle 4Cs\")\n",
    "zs, angles = get_water_OH_angle(atoms, 5, nz=20, every = 10, direction = 'down')\n",
    "print(\"Analyzing angle 2Cs\")\n",
    "zs_2, angles_2 = get_water_OH_angle(atoms_2, 5, nz=20, every = 10, direction = 'down')\n",
    "plt.plot(zs, angles, label = \"4 Cs\")\n",
    "plt.plot(zs_2, angles_2, label = \"2 Cs\")\n",
    "plt.legend()\n",
    "plt.xlabel(\"distance [A]\")\n",
    "plt.ylabel(\"OH angle [deg]\")\n",
    "plt.xlim(0,zmax)"
   ]
  },
  {
   "cell_type": "markdown",
   "metadata": {},
   "source": [
    "average most upward OH angle (0deg is up, 180 deg is down)"
   ]
  },
  {
   "cell_type": "code",
   "execution_count": null,
   "metadata": {},
   "outputs": [],
   "source": [
    "#OH-up angle\n",
    "print(\"Analyzing angle 4Cs\")\n",
    "zs, angles = get_water_OH_angle(atoms, 5, nz=20, every = 10, direction = 'up')\n",
    "print(\"Analyzing angle 2Cs\")\n",
    "zs_2, angles_2 = get_water_OH_angle(atoms_2, 5, nz=20, every = 10, direction = 'up')\n",
    "plt.plot(zs, angles, label = \"4 Cs\")\n",
    "plt.plot(zs_2, angles_2, label = \"2 Cs\")\n",
    "plt.legend()\n",
    "plt.xlabel(\"distance [A]\")\n",
    "plt.ylabel(\"OH angle [deg]\")\n",
    "plt.xlim(0,zmax)"
   ]
  },
  {
   "cell_type": "markdown",
   "metadata": {},
   "source": [
    "Conclusion: Up to 4A form the interface, one OH bond points mainly downwards, whle the other points mainly horizontal (4Cs) or slightly up on average (2 Cs). For 2Cs, the very closest H2O molecules point one bond nearly horizontal and one slightly up on average. This is likey due to chemisorbed water types."
   ]
  },
  {
   "cell_type": "markdown",
   "metadata": {
    "tags": []
   },
   "source": [
    "# Analyzing H-bonding"
   ]
  },
  {
   "cell_type": "markdown",
   "metadata": {
    "jp-MarkdownHeadingCollapsed": true,
    "tags": []
   },
   "source": [
    "### Define a few functions"
   ]
  },
  {
   "cell_type": "code",
   "execution_count": null,
   "metadata": {},
   "outputs": [],
   "source": [
    "#From https://journals.aps.org/prb/abstract/10.1103/PhysRevB.110.014105:\n",
    "#\"An H-bond is defined if the distance between the donor oxygen (Od) and acceptor oxygen (Oa) \n",
    "# is less than 3.5 ˚ A and the O-O-H angle, ∠OaOdHd, is less than 30° [S19]\"\n",
    "\n",
    "def get_Hbond_angle_dist(atoms, maxz, nz=20, nangle = 20,every = 1, angle = True):\n",
    "    \"\"\"Returns 2D  arrays x, y and an array with the average number of H-donors. \n",
    "    x describes the z-position of the donor (acceptors if acceptor_perspective == True) \n",
    "    if angle == True: y describes the hydrogen bond angle to the accptor \n",
    "    if angle == False: y describes the z-position of the acceptor \n",
    "    \"\"\"\n",
    "    #set counter for snapshots (to normalize the data in the end)\n",
    "    n_snapshots = 0\n",
    "    #definition of H-bond\n",
    "    max_OO_dist = 3.5\n",
    "    max_OH_bond = 1.2\n",
    "    max_angle = 30\n",
    "    #set up arrays\n",
    "    zs = np.arange(0,maxz,maxz/nz)\n",
    "    zs = zs + 0.5 * (zs[1]-zs[0])\n",
    "    if angle == True:\n",
    "        angles = np.arange(0,180,180/nangle)\n",
    "        angles = angles + 0.5 * (angles[1]-angles[0])\n",
    "        y,x = np.meshgrid(angles, zs)\n",
    "    else: \n",
    "        z2s = np.arange(0,maxz + max_OO_dist, maxz / nz)\n",
    "        z2s = z2s + 0.5 * (zs[1]-zs[0])\n",
    "        y,x = np.meshgrid(z2s, zs)\n",
    "        nangle = len(z2s) #needed to correctly get the size of n_donors\n",
    "    n_donors = np.zeros((nz, nangle))\n",
    "        \n",
    "    for i,snapshot in enumerate(atoms):\n",
    "        if i%every == 0:\n",
    "            n_snapshots += 1\n",
    "            #find possible donors and candidats for H that bond to them\n",
    "            o_donor_indices = [atom.index for atom in snapshot if atom.symbol == 'O' and atom.position[2] < maxz]\n",
    "            h_indices = [atom.index for atom in snapshot if atom.symbol == 'H' and atom.position[2] < maxz + max_OH_bond]\n",
    "            #find candidates for acceptors\n",
    "            o_acceptor_candidate_indices = np.array([atom.index for atom in snapshot if atom.symbol == 'O' and atom.position[2] < maxz + max_OO_dist])\n",
    "            for o_donor_index in o_donor_indices:\n",
    "                #find the Hs bonding to this O\n",
    "                water_h_indices = [h_index for h_index in h_indices if snapshot.get_distances(o_donor_index, h_index, mic=True, vector=False) <= max_OH_bond]\n",
    "                #find acceptors matching the distance requirement\n",
    "                oo_distances = snapshot.get_distances(o_donor_index, o_acceptor_candidate_indices, mic=True, vector=False)\n",
    "                o_acceptor_indices = o_acceptor_candidate_indices[oo_distances < max_OO_dist]\n",
    "                #cycle through all possible o_acceptors and check angle criterion\n",
    "                for o_acceptor_index in o_acceptor_indices:\n",
    "                    #skip self\n",
    "                    if o_acceptor_index == o_donor_index:\n",
    "                        continue\n",
    "                    for i_h in range(2):\n",
    "                        ang = snapshot.get_angle(o_acceptor_index, o_donor_index, water_h_indices[i_h], mic=True)\n",
    "                        if ang < max_angle: #identified as H-bond\n",
    "                            # find location of o to correctly place in array     \n",
    "                            iz = int(snapshot[o_donor_index].position[2]/maxz*nz)\n",
    "                            #find location in y array (angle or z-position of binding partner)\n",
    "                            if angle == True:\n",
    "                                #compute angle of H-bond relative to z and get index of angle\n",
    "                                vec = snapshot.get_distance(o_donor_index, o_acceptor_index, mic=True, vector=True)\n",
    "                                ang = np.arccos(np.dot(vec, np.array([0,0,1])) / np.linalg.norm(vec)) * 180 / np.pi\n",
    "                                iangle = int(ang/180*nangle)\n",
    "                            else: #angle == False --> return z-position of binding partner\n",
    "                                # find location of o to correctly place in array       \n",
    "                                iangle = int(snapshot[o_acceptor_index].position[2]/maxz*nz) #this works as deltaz is the same for z1 and z2.\n",
    "                            n_donors[iz,iangle] += 1\n",
    "                            break #second H cannot have H-bond to same o_accoptor\n",
    "                \n",
    "    return x,y,n_donors/n_snapshots"
   ]
  },
  {
   "cell_type": "markdown",
   "metadata": {
    "tags": []
   },
   "source": [
    "## Analyze"
   ]
  },
  {
   "cell_type": "markdown",
   "metadata": {
    "jp-MarkdownHeadingCollapsed": true,
    "tags": []
   },
   "source": [
    "### Analyze average number of H-donors with a specific O_donor to O_acceptor direction vs. z"
   ]
  },
  {
   "cell_type": "markdown",
   "metadata": {},
   "source": [
    "(0deg means the O-O connection lies horizontal, positive angles are up, negative angles are down)"
   ]
  },
  {
   "cell_type": "markdown",
   "metadata": {
    "tags": []
   },
   "source": [
    "#### 4Cs in unit cell"
   ]
  },
  {
   "cell_type": "code",
   "execution_count": null,
   "metadata": {},
   "outputs": [],
   "source": [
    "#H-donor distribution\n",
    "print(\"Analyzing angle 4Cs\")\n",
    "zmax = 8\n",
    "n_bins = 40\n",
    "x,y,n_donors = get_Hbond_angle_dist(atoms, zmax, nz=n_bins, nangle = n_bins, every = 10)\n",
    "fig, ax = plt.subplots()\n",
    "c = ax.pcolormesh(x, -(y-90), n_donors, cmap='Blues', vmin=0, vmax=n_donors.max(),shading= 'auto')\n",
    "# set the limits of the plot to the limits of the data\n",
    "ax.axis([0, zmax, -90, 90])\n",
    "fig.colorbar(c, ax=ax)\n",
    "plt.grid()\n",
    "plt.show()\n",
    "#print(\"Analyzing angle 2Cs\")\n",
    "#x2,y2,n_donors3, angles_2 = get_Hbond_angle_dist(atoms_2, 5, every = 10)\n"
   ]
  },
  {
   "cell_type": "markdown",
   "metadata": {
    "tags": []
   },
   "source": [
    "#### 2 Cs in unit cell"
   ]
  },
  {
   "cell_type": "code",
   "execution_count": null,
   "metadata": {},
   "outputs": [],
   "source": [
    "#H-donor distribution\n",
    "print(\"Analyzing angle 2Cs\")\n",
    "x_2,y_2,n_donors_2 = get_Hbond_angle_dist(atoms_2, zmax, nz=n_bins, nangle = n_bins, every = 10)\n",
    "fig, ax = plt.subplots()\n",
    "c = ax.pcolormesh(x_2, -(y_2-90), n_donors_2, cmap='Blues', vmin=0, vmax=n_donors.max(),shading= 'auto')\n",
    "# set the limits of the plot to the limits of the data\n",
    "ax.axis([0, zmax, -90, 90])\n",
    "fig.colorbar(c, ax=ax)\n",
    "plt.grid()\n",
    "plt.show()\n",
    "#print(\"Analyzing angle 2Cs\")\n",
    "#x2,y2,n_donors3, angles_2 = get_Hbond_angle_dist(atoms_2, 5, every = 10)"
   ]
  },
  {
   "cell_type": "markdown",
   "metadata": {
    "jp-MarkdownHeadingCollapsed": true,
    "tags": []
   },
   "source": [
    "#### difference"
   ]
  },
  {
   "cell_type": "code",
   "execution_count": null,
   "metadata": {},
   "outputs": [],
   "source": [
    "#compare\n",
    "from matplotlib.cm import get_cmap\n",
    "fig, ax = plt.subplots()\n",
    "vmax = np.max(np.abs(n_donors-n_donors_2))\n",
    "RdBu_r = cmap_reversed = get_cmap('RdBu_r')\n",
    "c = ax.pcolormesh(x, -(y-90), n_donors-n_donors_2, cmap=RdBu_r, vmin=-vmax, vmax=vmax, shading= 'auto')\n",
    "# set the limits of the plot to the limits of the data\n",
    "ax.axis([0, zmax, -90, 90])\n",
    "fig.colorbar(c, ax=ax)\n",
    "plt.grid()\n",
    "plt.show()"
   ]
  },
  {
   "cell_type": "markdown",
   "metadata": {
    "tags": []
   },
   "source": [
    "#### Analyze difference in hydration, separating first hydration shell (z<4.5) from rest"
   ]
  },
  {
   "cell_type": "code",
   "execution_count": null,
   "metadata": {},
   "outputs": [],
   "source": [
    "print(\"Difference between 4 Cs in unit cell and 2 Cs in unit cell:\")\n",
    "print(\"Total difference in number of H-donors = {}\".format(sum(sum(n_donors-n_donors_2))))\n",
    "cut = np.where(x[:,0]>=4.5)[0][0]\n",
    "print(\"Difference in number of H-donors up to z<={} (ind = {}) = {}\".format(x[cut,0]-0.5*(x[1,0]-x[0,0]),cut, sum(sum(n_donors[:cut,:]-n_donors_2[:cut,:]))))\n",
    "print(\"Difference in number of H-donors up to z>={} (ind = {}) = {}\".format(x[cut,0]-0.5*(x[1,0]-x[0,0]),cut, sum(sum(n_donors[cut:,:]-n_donors_2[cut:,:]))))"
   ]
  },
  {
   "cell_type": "code",
   "execution_count": null,
   "metadata": {},
   "outputs": [],
   "source": [
    "print(\"Absolute numbers 2 Cs in unit cell:\")\n",
    "print(\"Total number of H-donors = {}\".format(sum(sum(n_donors_2))))\n",
    "cut = np.where(x[:,0]>=4.5)[0][0]\n",
    "print(\"Total number of H-donors up to z<={} (ind = {}) = {}\".format(x[cut,0]-0.5*(x[1,0]-x[0,0]),cut, sum(sum(n_donors_2[:cut,:]))))\n",
    "print(\"Total number of H-donors up to z>={} (ind = {}) = {}\".format(x[cut,0]-0.5*(x[1,0]-x[0,0]),cut, sum(sum(n_donors_2[cut:,:]))))"
   ]
  },
  {
   "cell_type": "code",
   "execution_count": null,
   "metadata": {},
   "outputs": [],
   "source": [
    "print(\"Absolute numbers 4 Cs in unit cell:\")\n",
    "print(\"Total number of H-donors = {}\".format(sum(sum(n_donors))))\n",
    "cut = np.where(x[:,0]>=4.5)[0][0]\n",
    "print(\"Total number of H-donors up to z<={} (ind = {}) = {}\".format(x[cut,0]-0.5*(x[1,0]-x[0,0]),cut, sum(sum(n_donors[:cut,:]))))\n",
    "print(\"Total number of H-donors up to z>={} (ind = {}) = {}\".format(x[cut,0]-0.5*(x[1,0]-x[0,0]),cut, sum(sum(n_donors[cut:,:]))))"
   ]
  },
  {
   "cell_type": "code",
   "execution_count": null,
   "metadata": {},
   "outputs": [],
   "source": [
    "print(\"Relative change in number of H-donors for z<= {} = {}\".format(x[cut,0]-0.5*(x[1,0]-x[0,0]), sum(sum(n_donors[:cut,:]-n_donors_2[:cut,:]))/sum(sum(n_donors_2[:cut,:]))*100))"
   ]
  },
  {
   "cell_type": "markdown",
   "metadata": {},
   "source": [
    "Conclusion: A strong change in number of hydrogen bonds formed within first layer (see numbers right above and difference plot a bit further above) for the 4 Cs unit cells compared to the 2 Cs unit cells"
   ]
  },
  {
   "cell_type": "markdown",
   "metadata": {
    "jp-MarkdownHeadingCollapsed": true,
    "tags": []
   },
   "source": [
    "### Analyze position of H-acceptors for H-donors at different positions"
   ]
  },
  {
   "cell_type": "markdown",
   "metadata": {
    "tags": []
   },
   "source": [
    "#### 4Cs cell"
   ]
  },
  {
   "cell_type": "code",
   "execution_count": null,
   "metadata": {},
   "outputs": [],
   "source": [
    "#H-donor distribution\n",
    "print(\"Analyzing 4Cs\")\n",
    "zmax = 8\n",
    "n_bins = 40\n",
    "x_pos,y_pos,n_donors_pos = get_Hbond_angle_dist(atoms, zmax, nz=n_bins, every = 10, angle = False)\n",
    "fig, ax = plt.subplots()\n",
    "c = ax.pcolormesh(x_pos, y_pos, n_donors_pos, cmap='Blues', vmin=0, vmax=n_donors_pos.max(),shading= 'auto')\n",
    "# set the limits of the plot to the limits of the data\n",
    "ax.axis([0, zmax, 0, zmax + 3.5])\n",
    "fig.colorbar(c, ax=ax)\n",
    "plt.axis('scaled')\n",
    "plt.grid()\n",
    "plt.show()"
   ]
  },
  {
   "cell_type": "markdown",
   "metadata": {
    "tags": []
   },
   "source": [
    "#### 2Cs cell"
   ]
  },
  {
   "cell_type": "code",
   "execution_count": null,
   "metadata": {},
   "outputs": [],
   "source": [
    "#H-donor distribution\n",
    "print(\"Analyzing 2Cs\")\n",
    "zmax = 8\n",
    "n_bins = 40\n",
    "x_pos,y_pos,n_donors_2_pos = get_Hbond_angle_dist(atoms_2, zmax, nz=n_bins, every = 10, angle = False)\n",
    "fig, ax = plt.subplots()\n",
    "c = ax.pcolormesh(x_pos, y_pos, n_donors_2_pos, cmap='Blues', vmin=0, vmax=n_donors_pos.max(),shading= 'auto')\n",
    "# set the limits of the plot to the limits of the data\n",
    "ax.axis([0, zmax, 0, zmax + 3.5])\n",
    "fig.colorbar(c, ax=ax)\n",
    "plt.axis('scaled')\n",
    "plt.grid()\n",
    "plt.show()"
   ]
  },
  {
   "cell_type": "markdown",
   "metadata": {
    "tags": []
   },
   "source": [
    "#### difference"
   ]
  },
  {
   "cell_type": "code",
   "execution_count": null,
   "metadata": {},
   "outputs": [],
   "source": [
    "#compare\n",
    "from matplotlib.cm import get_cmap\n",
    "fig, ax = plt.subplots()\n",
    "vmax = np.max(np.abs(n_donors_pos-n_donors_2_pos))\n",
    "RdBu_r = cmap_reversed = get_cmap('RdBu_r')\n",
    "c = ax.pcolormesh(x_pos, y_pos, n_donors_pos-n_donors_2_pos, cmap=RdBu_r, vmin=-vmax, vmax=vmax, shading= 'auto')\n",
    "# set the limits of the plot to the limits of the data\n",
    "ax.axis([0, zmax, 0, zmax + 3.5])\n",
    "fig.colorbar(c, ax=ax)\n",
    "plt.axis('scaled')\n",
    "plt.grid()\n",
    "plt.show()"
   ]
  },
  {
   "cell_type": "code",
   "execution_count": null,
   "metadata": {},
   "outputs": [],
   "source": [
    "from mpl_toolkits.axes_grid1 import make_axes_locatable\n",
    "\n",
    "fig, (ax,ax2) = plt.subplots(1,2, figsize=(2.8,2.5), sharey=True,)\n",
    "c = ax.pcolormesh(x_pos, y_pos, n_donors_pos, cmap='Blues', vmin=0, vmax=n_donors_pos.max(),shading= 'auto')\n",
    "c2 = ax2.pcolormesh(x_pos, y_pos, n_donors_pos-n_donors_2_pos, cmap=RdBu_r, vmin=-vmax, vmax=vmax, shading= 'auto')\n",
    "# set the limits of the plot to the limits of the data\n",
    "#ax.axis([0, zmax, 0, zmax + 3.5])\n",
    "#fig.colorbar(c, ax=[ax], location = 'top')\n",
    "#fig.colorbar(c, ax=[ax],orientation=\"horizontal\")\n",
    "divider = make_axes_locatable(ax)\n",
    "cax = divider.append_axes('top', size='5%', pad=0.1)\n",
    "cb =fig.colorbar(c, cax=cax, orientation='horizontal')\n",
    "cb.ax.xaxis.set_ticks_position(\"top\")\n",
    "divider = make_axes_locatable(ax2)\n",
    "cax2 = divider.append_axes('top', size='5%', pad=0.1)\n",
    "cb2= fig.colorbar(c2, cax=cax2, orientation='horizontal')\n",
    "cb2.ax.xaxis.set_ticks_position(\"top\")\n",
    "\n",
    "#fig.colorbar(c2, ax=ax2)\n",
    "ax.axis('scaled')\n",
    "ax2.axis('scaled')\n",
    "ax.axis([2, zmax, 2, zmax +1])\n",
    "ax2.axis([2, zmax, 2, zmax +1])\n",
    "#ax.grid()\n",
    "ax.set_xticks([2,4,6,8])\n",
    "ax2.set_xticks([2,4,6,8])\n",
    "ax.set_yticks([2,4,6,8])\n",
    "ax2.set_yticks([2,4,6,8])\n",
    "ax.set_xlabel(r'$z$ donor [$\\AA$]', labelpad=0)\n",
    "ax2.set_xlabel(r'$z$ donor [$\\AA$]', labelpad=0)\n",
    "ax.set_ylabel(r'$z$ acceptor [$\\AA$]')\n",
    "plt.tight_layout()\n",
    "plt.show()\n",
    "fig.savefig('figures/hbonding.svg', format='svg', dpi=300)"
   ]
  },
  {
   "cell_type": "code",
   "execution_count": null,
   "metadata": {},
   "outputs": [],
   "source": [
    "print(\"Difference between 4 Cs in unit cell and 2 Cs in unit cell:\")\n",
    "print(\"Total difference in number of H-donors = {}\".format(sum(sum(n_donors_pos-n_donors_2_pos))))\n",
    "#donor above z=4.5\n",
    "cut = np.where(x_pos[:,0]>=4.5)[0][0]\n",
    "#acceptor below z=4.5\n",
    "cut2 = np.where(y_pos[0,:]>=4.5)[0][0]\n",
    "print(\"Difference in number of H-donors for z_donor >= {} and z_accept <= {} = {}\".format(x_pos[cut,0]-0.5*(x_pos[1,0]-x_pos[0,0]), y_pos[0,cut2]-0.5*(y_pos[0,1]-y_pos[0,0]),  sum(sum(n_donors_pos[cut:,:cut2]-n_donors_2_pos[cut:,:cut2]))))"
   ]
  },
  {
   "cell_type": "code",
   "execution_count": null,
   "metadata": {},
   "outputs": [],
   "source": [
    "print(\"4 Cs:\")\n",
    "print(\"Total number of H-donors = {}\".format(sum(sum(n_donors_pos))))\n",
    "print(\"Number of H-donors for z_donor >= {} and z_accept <= {} = {}\".format(x_pos[cut,0]-0.5*(x_pos[1,0]-x_pos[0,0]), y_pos[0,cut2]-0.5*(y_pos[0,1]-y_pos[0,0]),  sum(sum(n_donors_pos[cut:,:cut2]))))"
   ]
  },
  {
   "cell_type": "code",
   "execution_count": null,
   "metadata": {},
   "outputs": [],
   "source": [
    "print(\"2 Cs:\")\n",
    "print(\"Total number of H-donors = {}\".format(sum(sum(n_donors_2_pos))))\n",
    "print(\"Number of H-donors for z_donor >= {} and z_accept <= {} = {}\".format(x_pos[cut,0]-0.5*(x_pos[1,0]-x_pos[0,0]), y_pos[0,cut2]-0.5*(y_pos[0,1]-y_pos[0,0]),  sum(sum(n_donors_2_pos[cut:,:cut2]))))"
   ]
  },
  {
   "cell_type": "code",
   "execution_count": null,
   "metadata": {},
   "outputs": [],
   "source": [
    "print(\"Relative change in number of H-donors for z_donor >= {} and z_accept <= {} = {}\".format(x_pos[cut,0]-0.5*(x_pos[1,0]-x_pos[0,0]), y_pos[0,cut2]-0.5*(y_pos[0,1]-y_pos[0,0]),  sum(sum(n_donors_pos[cut:,:cut2]-n_donors_2_pos[cut:,:cut2]))/sum(sum(n_donors_2_pos[cut:,:cut2]))*100))"
   ]
  },
  {
   "cell_type": "code",
   "execution_count": null,
   "metadata": {},
   "outputs": [],
   "source": [
    "print(\"Difference between 4 Cs in unit cell and 2 Cs in unit cell:\")\n",
    "cut = np.where(x_pos[:,0]>=5)[0][0]\n",
    "cut_e = np.where(x_pos[:,0]>=7.5)[0][0]\n",
    "cut2 = np.where(y_pos[0,:]>=5)[0][0]\n",
    "cut2_e = np.where(y_pos[0,:]>=7.5)[0][0]\n",
    "print(\"Difference in number of H-donors for {} <= z_donor <= {} and {} <= z_accept <= {} = {}\".format(x_pos[cut,0]-0.5*(x_pos[1,0]-x_pos[0,0]),x_pos[cut_e,0]-0.5*(x_pos[1,0]-x_pos[0,0]),  y_pos[0,cut2]-0.5*(y_pos[0,1]-y_pos[0,0]), y_pos[0,cut2_e]-0.5*(y_pos[0,1]-y_pos[0,0]), sum(sum(n_donors_pos[cut:cut_e,cut2:cut2_e]-n_donors_2_pos[cut:cut_e,cut2:cut2_e]))))"
   ]
  },
  {
   "cell_type": "markdown",
   "metadata": {},
   "source": [
    "Conclusion: Reduced h-bonding from second layer to first layer, enhanced h-bonding within 2nd layer"
   ]
  },
  {
   "cell_type": "markdown",
   "metadata": {
    "jp-MarkdownHeadingCollapsed": true,
    "tags": []
   },
   "source": [
    "### Do the same, but selecting snapshots with more or less ions close to the interface"
   ]
  },
  {
   "cell_type": "markdown",
   "metadata": {
    "jp-MarkdownHeadingCollapsed": true,
    "tags": []
   },
   "source": [
    "#### Define a few functions"
   ]
  },
  {
   "cell_type": "code",
   "execution_count": null,
   "metadata": {},
   "outputs": [],
   "source": [
    "def get_number_of_snapshots_n_ions_lt_z(atoms, ion, zmax):\n",
    "    n_snapshots = np.zeros(10)\n",
    "    for j, snapshot in enumerate(atoms):\n",
    "        ion_indices = [atom.index for atom in snapshot if atom.symbol == ion if atom.position[2]<zmax]\n",
    "        n_snapshots[len(ion_indices)] += 1\n",
    "    return n_snapshots"
   ]
  },
  {
   "cell_type": "markdown",
   "metadata": {
    "jp-MarkdownHeadingCollapsed": true,
    "tags": []
   },
   "source": [
    "#### The following is usefull to check how many snapshots have a certain number of ions in the regeon <z specified in last variable"
   ]
  },
  {
   "cell_type": "code",
   "execution_count": null,
   "metadata": {},
   "outputs": [],
   "source": [
    "print(get_number_of_snapshots_n_ions_lt_z(atoms, 'Cs', 4.5))"
   ]
  },
  {
   "cell_type": "code",
   "execution_count": null,
   "metadata": {},
   "outputs": [],
   "source": [
    "print(get_number_of_snapshots_n_ions_lt_z(atoms, 'Cs', 4.7))"
   ]
  },
  {
   "cell_type": "code",
   "execution_count": null,
   "metadata": {},
   "outputs": [],
   "source": [
    "print(get_number_of_snapshots_n_ions_lt_z(atoms, 'Cs', 4.0))"
   ]
  },
  {
   "cell_type": "markdown",
   "metadata": {
    "jp-MarkdownHeadingCollapsed": true,
    "tags": []
   },
   "source": [
    "#### extract snapshots with minimal 3 ions for z<4.0 and for maximal 2 ions for z<4.5 to distinguish regions with many and few ions close to interface"
   ]
  },
  {
   "cell_type": "markdown",
   "metadata": {},
   "source": [
    "Note: A separation leading to (in my eyes) clearer results is made belwo (see next section)."
   ]
  },
  {
   "cell_type": "code",
   "execution_count": null,
   "metadata": {},
   "outputs": [],
   "source": [
    "atoms_min3ions_lt_40 = []\n",
    "atoms_max2ions_lt_45 = []\n",
    "for snapshot in atoms:\n",
    "    ion_indices = [atom.index for atom in snapshot if atom.symbol == 'Cs' if atom.position[2]<4.0]\n",
    "    if len(ion_indices) >= 3:\n",
    "        atoms_min3ions_lt_40.append(snapshot)\n",
    "    ion_indices = [atom.index for atom in snapshot if atom.symbol == 'Cs' if atom.position[2]<4.5]\n",
    "    if len(ion_indices) <=2:\n",
    "        atoms_max2ions_lt_45.append(snapshot)"
   ]
  },
  {
   "cell_type": "code",
   "execution_count": null,
   "metadata": {},
   "outputs": [],
   "source": [
    "#H-donor distribution\n",
    "print(\"Analyzing angle 4Cs min 3 ions <= 4.0\")\n",
    "x,y,n_donors_min3ions_lt_40 = get_Hbond_angle_dist(atoms_min3ions_lt_40, zmax, nz=n_bins, nangle = n_bins, every = 10)\n",
    "fig, ax = plt.subplots()\n",
    "c = ax.pcolormesh(x, -(y-90), n_donors_min3ions_lt_40, cmap='Blues', vmin=0, vmax=n_donors.max(),shading= 'auto')\n",
    "# set the limits of the plot to the limits of the data\n",
    "ax.axis([0, zmax, -90, 90])\n",
    "fig.colorbar(c, ax=ax)\n",
    "plt.grid()\n",
    "plt.show()\n",
    "#print(\"Analyzing angle 2Cs\")\n",
    "#x2,y2,n_donors3, angles_2 = get_Hbond_angle_dist(atoms_2, 5, every = 10)"
   ]
  },
  {
   "cell_type": "code",
   "execution_count": null,
   "metadata": {},
   "outputs": [],
   "source": [
    "#H-donor distribution\n",
    "print(\"Analyzing angle 4Cs max 2 ions <= 4.5\")\n",
    "x,y,n_donors_max2ions_lt_45 = get_Hbond_angle_dist(atoms_max2ions_lt_45, zmax, nz=n_bins, nangle = n_bins, every = 10)\n",
    "fig, ax = plt.subplots()\n",
    "c = ax.pcolormesh(x, -(y-90), n_donors_max2ions_lt_45, cmap='Blues', vmin=0, vmax=n_donors.max(),shading= 'auto')\n",
    "# set the limits of the plot to the limits of the data\n",
    "ax.axis([0, zmax, -90, 90])\n",
    "fig.colorbar(c, ax=ax)\n",
    "plt.grid()\n",
    "plt.show()\n",
    "#print(\"Analyzing angle 2Cs\")\n",
    "#x2,y2,n_donors3, angles_2 = get_Hbond_angle_dist(atoms_2, 5, every = 10)"
   ]
  },
  {
   "cell_type": "code",
   "execution_count": null,
   "metadata": {},
   "outputs": [],
   "source": [
    "print(\"2 Cs ions in unit cell\")\n",
    "print(\"Total number of H-donors = {}\".format(sum(sum(n_donors_2_pos))))\n",
    "cut = np.where(x[:,0]>=4.5)[0][0]\n",
    "print(\"Total number of H-donors up to z<={} (ind = {}) = {}\".format(x[cut,0]-0.5*(x[1,0]-x[0,0]),cut, sum(sum(n_donors_2_pos[:cut,:]))))\n",
    "print(\"Total number of H-donors up to z>={} (ind = {}) = {}\".format(x[cut,0]-0.5*(x[1,0]-x[0,0]),cut, sum(sum(n_donors_2_pos[cut:,:]))))"
   ]
  },
  {
   "cell_type": "code",
   "execution_count": null,
   "metadata": {},
   "outputs": [],
   "source": [
    "#4Cs\n",
    "print(\"4 Cs ions in unit cell\")\n",
    "print(\"Total number of H-donors = {}\".format(sum(sum(n_donors))))\n",
    "cut = np.where(x[:,0]>=4.5)[0][0]\n",
    "print(\"Total number of H-donors up to z<={} (ind = {}) = {}\".format(x[cut,0]-0.5*(x[1,0]-x[0,0]),cut, sum(sum(n_donors[:cut,:]))))\n",
    "print(\"Total number of H-donors for z>={} (ind = {}) = {}\".format(x[cut,0]-0.5*(x[1,0]-x[0,0]),cut, sum(sum(n_donors[cut:,:]))))"
   ]
  },
  {
   "cell_type": "code",
   "execution_count": null,
   "metadata": {},
   "outputs": [],
   "source": [
    "#4Cs with min 3 Cs lt 4.0\n",
    "print(\"4 Cs ions in unit cell with min 3 ions at z<4.0\")\n",
    "print(\"Total number of H-donors = {}\".format(sum(sum(n_donors_min3ions_lt_40))))\n",
    "cut = np.where(x[:,0]>=4.5)[0][0]\n",
    "print(\"Total number of H-donors up to z<={} (ind = {}) = {}\".format(x[cut,0]-0.5*(x[1,0]-x[0,0]),cut, sum(sum(n_donors_min3ions_lt_40[:cut,:]))))\n",
    "print(\"Total number of H-donors for z>={} (ind = {}) = {}\".format(x[cut,0]-0.5*(x[1,0]-x[0,0]),cut, sum(sum(n_donors_min3ions_lt_40[cut:,:]))))"
   ]
  },
  {
   "cell_type": "code",
   "execution_count": null,
   "metadata": {},
   "outputs": [],
   "source": [
    "#4Cs with max 3 Cs ls 4.5\n",
    "print(\"4 Cs ions in unit cell with max 2 ions at z<4.5 (2 ions for z>4.5)\")\n",
    "print(\"Total number of H-donors = {}\".format(sum(sum(n_donors_max2ions_lt_45))))\n",
    "cut = np.where(x[:,0]>=4.5)[0][0]\n",
    "print(\"Total number of H-donors up to z<={} (ind = {}) = {}\".format(x[cut,0]-0.5*(x[1,0]-x[0,0]),cut, sum(sum(n_donors_max2ions_lt_45[:cut,:]))))\n",
    "print(\"Total number of H-donors for z>={} (ind = {}) = {}\".format(x[cut,0]-0.5*(x[1,0]-x[0,0]),cut, sum(sum(n_donors_max2ions_lt_45[cut:,:]))))"
   ]
  },
  {
   "cell_type": "markdown",
   "metadata": {},
   "source": [
    "Conclusion: Slight increase in hydrogen bonding (towards the 2 Cs situation) when there are less ions close to the interface. The separation made in the following section gives clearer restuls though in my eyes. Refer to those."
   ]
  },
  {
   "cell_type": "markdown",
   "metadata": {
    "jp-MarkdownHeadingCollapsed": true,
    "tags": []
   },
   "source": [
    "#### extract snapshots with minimal 4 ions for z<4.7 and for maximal 2 ions for z<4.7 to distinguish regions with many and few ions close to interface"
   ]
  },
  {
   "cell_type": "code",
   "execution_count": null,
   "metadata": {},
   "outputs": [],
   "source": [
    "atoms_min4ions_lt_47 = []\n",
    "atoms_max2ions_lt_47 = []\n",
    "for snapshot in atoms:\n",
    "    ion_indices = [atom.index for atom in snapshot if atom.symbol == 'Cs' if atom.position[2]<4.7]\n",
    "    if len(ion_indices) >= 4:\n",
    "        atoms_min4ions_lt_47.append(snapshot)\n",
    "    elif len(ion_indices) <= 2:\n",
    "        atoms_max2ions_lt_47.append(snapshot)"
   ]
  },
  {
   "cell_type": "code",
   "execution_count": null,
   "metadata": {},
   "outputs": [],
   "source": [
    "#H-donor distribution\n",
    "print(\"Analyzing angle 4Cs max 2 ions <= 4.7\")\n",
    "x,y,n_donors_max2ions_lt_47 = get_Hbond_angle_dist(atoms_max2ions_lt_47, zmax, nz=n_bins, nangle = n_bins, every = 10)\n",
    "fig, ax = plt.subplots()\n",
    "c = ax.pcolormesh(x, -(y-90), n_donors_max2ions_lt_47, cmap='Blues', vmin=0, vmax=n_donors.max(),shading= 'auto')\n",
    "# set the limits of the plot to the limits of the data\n",
    "ax.axis([0, zmax, -90, 90])\n",
    "fig.colorbar(c, ax=ax)\n",
    "plt.grid()\n",
    "plt.show()\n",
    "#print(\"Analyzing angle 2Cs\")\n",
    "#x2,y2,n_donors3, angles_2 = get_Hbond_angle_dist(atoms_2, 5, every = 10)"
   ]
  },
  {
   "cell_type": "code",
   "execution_count": null,
   "metadata": {},
   "outputs": [],
   "source": [
    "#H-donor distribution\n",
    "print(\"Analyzing angle 4Cs min 4 ions <= 4.7\")\n",
    "x,y,n_donors_min4ions_lt_47 = get_Hbond_angle_dist(atoms_min4ions_lt_47, zmax, nz=n_bins, nangle = n_bins, every = 10)\n",
    "fig, ax = plt.subplots()\n",
    "c = ax.pcolormesh(x, -(y-90), n_donors_min4ions_lt_47, cmap='Blues', vmin=0, vmax=n_donors.max(),shading= 'auto')\n",
    "# set the limits of the plot to the limits of the data\n",
    "ax.axis([0, zmax, -90, 90])\n",
    "fig.colorbar(c, ax=ax)\n",
    "plt.grid()\n",
    "plt.show()\n",
    "#print(\"Analyzing angle 2Cs\")\n",
    "#x2,y2,n_donors3, angles_2 = get_Hbond_angle_dist(atoms_2, 5, every = 10)"
   ]
  },
  {
   "cell_type": "code",
   "execution_count": null,
   "metadata": {},
   "outputs": [],
   "source": [
    "print(\"2 Cs in unit cell\")\n",
    "print(\"Total number of H-donors = {}\".format(sum(sum(n_donors_2_pos))))\n",
    "cut = np.where(x[:,0]>=4.5)[0][0]\n",
    "print(\"Total number of H-donors up to z<={} (ind = {}) = {}\".format(x[cut,0]-0.5*(x[1,0]-x[0,0]),cut, sum(sum(n_donors_2_pos[:cut,:]))))\n",
    "print(\"Total number of H-donors up to z>={} (ind = {}) = {}\".format(x[cut,0]-0.5*(x[1,0]-x[0,0]),cut, sum(sum(n_donors_2_pos[cut:,:]))))"
   ]
  },
  {
   "cell_type": "code",
   "execution_count": null,
   "metadata": {},
   "outputs": [],
   "source": [
    "#4Cs\n",
    "print(\"4 Cs in unit cell\")\n",
    "print(\"Total number of H-donors = {}\".format(sum(sum(n_donors))))\n",
    "cut = np.where(x[:,0]>=4.5)[0][0]\n",
    "print(\"Total number of H-donors up to z<={} (ind = {}) = {}\".format(x[cut,0]-0.5*(x[1,0]-x[0,0]),cut, sum(sum(n_donors[:cut,:]))))\n",
    "print(\"Total number of H-donors for z>={} (ind = {}) = {}\".format(x[cut,0]-0.5*(x[1,0]-x[0,0]),cut, sum(sum(n_donors[cut:,:]))))"
   ]
  },
  {
   "cell_type": "code",
   "execution_count": null,
   "metadata": {},
   "outputs": [],
   "source": [
    "print(\"Relative change: 4 Cs in unit cell vs. 2 Cs in unit cell\")\n",
    "print(\"Relative change in number of H-donors for z<= {} 4Cs vs 2Cs= {}\".format(x[cut,0]-0.5*(x[1,0]-x[0,0]), sum(sum(n_donors[:cut,:]-n_donors_2[:cut,:]))/sum(sum(n_donors_2[:cut,:]))*100))\n",
    "print(\"Relative change in number of H-donors for z<= {} 4Cs(4 ions <4.7) vs 2Cs= {}\".format(x[cut,0]-0.5*(x[1,0]-x[0,0]), sum(sum(n_donors_min4ions_lt_47[:cut,:]-n_donors_2[:cut,:]))/sum(sum(n_donors_2[:cut,:]))*100))\n",
    "print(\"Relative change in number of H-donors for z<= {} 4Cs(2 ions <4.7) vs 2Cs= {}\".format(x[cut,0]-0.5*(x[1,0]-x[0,0]), sum(sum(n_donors_max2ions_lt_47[:cut,:]-n_donors_2[:cut,:]))/sum(sum(n_donors_2[:cut,:]))*100))"
   ]
  },
  {
   "cell_type": "code",
   "execution_count": null,
   "metadata": {},
   "outputs": [],
   "source": [
    "#4Cs with min 4 Cs lt 4.7\n",
    "print(\"4 Cs in unit cell with 4 at z<4.7A\")\n",
    "print(\"Total number of H-donors = {}\".format(sum(sum(n_donors_min4ions_lt_47))))\n",
    "cut = np.where(x[:,0]>=4.5)[0][0]\n",
    "print(\"Total number of H-donors up to z<={} (ind = {}) = {}\".format(x[cut,0]-0.5*(x[1,0]-x[0,0]),cut, sum(sum(n_donors_min4ions_lt_47[:cut,:]))))\n",
    "print(\"Total number of H-donors for z>={} (ind = {}) = {}\".format(x[cut,0]-0.5*(x[1,0]-x[0,0]),cut, sum(sum(n_donors_min4ions_lt_47[cut:,:]))))"
   ]
  },
  {
   "cell_type": "code",
   "execution_count": null,
   "metadata": {},
   "outputs": [],
   "source": [
    "#4Cs with max 2 Cs lt 4.7\n",
    "print(\"4 Cs in unit cell with max 2 at z<4.7\")\n",
    "print(\"Total number of H-donors = {}\".format(sum(sum(n_donors_max2ions_lt_47))))\n",
    "cut = np.where(x[:,0]>=4.5)[0][0]\n",
    "print(\"Total number of H-donors up to z<={} (ind = {}) = {}\".format(x[cut,0]-0.5*(x[1,0]-x[0,0]),cut, sum(sum(n_donors_max2ions_lt_47[:cut,:]))))\n",
    "print(\"Total number of H-donors for z>={} (ind = {}) = {}\".format(x[cut,0]-0.5*(x[1,0]-x[0,0]),cut, sum(sum(n_donors_max2ions_lt_47[cut:,:]))))"
   ]
  },
  {
   "cell_type": "markdown",
   "metadata": {},
   "source": [
    "Conclusion: The ion position seems to have an impact on the reduction of H-bonding in the first layer (not only the surface charge). For snapshots with less ions close to the surface, but the same overall surface charge, the reduction in H-bonding is reduced from 1/3 to less than 1/4, i.e. a nearly 30% decrease in decrease."
   ]
  },
  {
   "cell_type": "markdown",
   "metadata": {
    "tags": []
   },
   "source": [
    "# Cs solvation"
   ]
  },
  {
   "cell_type": "markdown",
   "metadata": {
    "jp-MarkdownHeadingCollapsed": true,
    "tags": []
   },
   "source": [
    "### Define a few functions"
   ]
  },
  {
   "cell_type": "code",
   "execution_count": null,
   "metadata": {},
   "outputs": [],
   "source": [
    "def get_ion_location(atoms, ion, every = 1):\n",
    "    n_ions = len([atom.index for atom in atoms[0] if atom.symbol == ion])\n",
    "    z_ions = np.zeros((n_ions, len(atoms)))\n",
    "    for j, snapshot in enumerate(atoms):\n",
    "        if j%every == 0:\n",
    "            #find all ions\n",
    "            ion_indices = [atom.index for atom in snapshot if atom.symbol == ion]\n",
    "            for i, ion_index in enumerate(ion_indices):\n",
    "                z_ions[i,j]=snapshot[ion_index].position[2]\n",
    "    return z_ions"
   ]
  },
  {
   "cell_type": "code",
   "execution_count": null,
   "metadata": {},
   "outputs": [],
   "source": [
    "def get_coordination_number(atoms, ion, r_solv, every = 1):\n",
    "    n_ions = len([atom.index for atom in atoms[0] if atom.symbol == ion])\n",
    "    coord_number = np.zeros((n_ions, len(atoms)))\n",
    "    for j, snapshot in enumerate(atoms):\n",
    "        if j%every == 0:\n",
    "            #find all ions\n",
    "            ion_indices = [atom.index for atom in snapshot if atom.symbol == ion]\n",
    "            o_indices = [atom.index for atom in snapshot if atom.symbol == 'O']\n",
    "            #loop through ions to find the Os in their solvation shell and compute angles\n",
    "            for i, ion_index in enumerate(ion_indices):\n",
    "                #find Os in solvation shell\n",
    "                solvation_o_indices = [o_index for o_index in o_indices if snapshot.get_distances(o_index, ion_index, mic=True, vector=False) <= r_solv]\n",
    "                coord_number[i,j] = len(solvation_o_indices)\n",
    "    #print(coord_number)\n",
    "    return coord_number"
   ]
  },
  {
   "cell_type": "code",
   "execution_count": null,
   "metadata": {},
   "outputs": [],
   "source": [
    "def get_average_coordination_number(atoms, ion, r_solv, every = 1, bins = [0,1000], i_ion = 'all'):\n",
    "    n_ions = np.zeros(len(bins)-1)\n",
    "    coord_number = np.zeros(len(bins)-1)\n",
    "    #loop over snapshots\n",
    "    for j, snapshot in enumerate(atoms):\n",
    "        if j%every == 0:\n",
    "            #loop over separate ranges\n",
    "            for i in range(len(bins)-1):\n",
    "                zmin = bins[i]\n",
    "                zmax = bins[i+1]\n",
    "                #find all ions\n",
    "                ion_indices = [atom.index for atom in snapshot if atom.symbol == ion and atom.position[2]>=zmin and atom.position[2]<zmax]\n",
    "                o_indices = [atom.index for atom in snapshot if atom.symbol == 'O'and atom.position[2]>=zmin-r_solv and atom.position[2]<zmax+r_solv]\n",
    "                #loop through ions to find the Os in their solvation shell\n",
    "                for k, ion_index in enumerate(ion_indices):\n",
    "                    if not i_ion == 'all':\n",
    "                        if not i_ion == k+1:\n",
    "                            continue\n",
    "                    solvation_o_indices = [o_index for o_index in o_indices if snapshot.get_distances(o_index, ion_index, mic=True, vector=False) <= r_solv]\n",
    "                    coord_number[i] += len(solvation_o_indices)\n",
    "                    n_ions[i] += 1\n",
    "    return np.array(coord_number)/np.array(n_ions), n_ions"
   ]
  },
  {
   "cell_type": "code",
   "execution_count": null,
   "metadata": {},
   "outputs": [],
   "source": [
    "def get_rdf(atoms, ion, every = 1, rmax = 8, nbins = 20, zmin=0, zmax=1000):\n",
    "    \"\"\"Note that, to plot the cdf, one needs to add 0.5*bin_width to rs, \n",
    "    to get a reasonable plot (because this is integrated over the entire bin width, \n",
    "    but rs reports bin center\"\"\"\n",
    "    rdf = np.zeros(nbins)\n",
    "    rs = np.arange(0, rmax+rmax/nbins, rmax/nbins) \n",
    "    volumes = np.zeros(nbins)\n",
    "    for i in range(len(rs)-1):\n",
    "        volumes[i] = 4/3*np.pi*(rs[i+1]**3-rs[i]**3)\n",
    "    nrdfs = 0\n",
    "    for j, snapshot in enumerate(atoms):\n",
    "        if j%every == 0:\n",
    "            ion_indices = [atom.index for atom in snapshot if atom.symbol == ion and atom.position[2]>=zmin and atom.position[2]<zmax]\n",
    "            o_indices = [atom.index for atom in snapshot if atom.symbol == 'O']\n",
    "            for ion_index in ion_indices:\n",
    "                nrdfs += 1\n",
    "                distances = snapshot.get_distances(ion_index, o_indices, mic=True)\n",
    "                for distance in distances:\n",
    "                    ir = int(distance * nbins / rmax)\n",
    "                    if ir < nbins:\n",
    "                        #print(distance-rs[ir]- 0.5*rmax/nbins)\n",
    "                        rdf[ir] += 1\n",
    "    #correctly normalize rdf\n",
    "    rdf /= nrdfs\n",
    "    cdf = np.cumsum(rdf)\n",
    "    rdf /= volumes\n",
    "    rdf *= (2*ase.Atom('H').mass + ase.Atom('O').mass)\n",
    "    rdf *= constants.physical_constants[\"atomic mass constant\"][0] * 1E27 #kg/dm^3 = g/cm^3\n",
    "    #shift r to center of the bins and delete right corner\n",
    "    rs = rs[:-1] + 0.5*rmax/nbins\n",
    "    return rs, rdf, cdf"
   ]
  },
  {
   "cell_type": "code",
   "execution_count": null,
   "metadata": {},
   "outputs": [],
   "source": [
    "def get_opening_angle(atoms, ion, r_cut, nbins, zmin = 0, zmax = 1000, every = 1):\n",
    "    thetas = np.arange(0,180, 180/nbins) + 0.5*180/nbins\n",
    "    n_thetas = np.zeros(len(thetas))\n",
    "    for j, snapshot in enumerate(atoms):\n",
    "        if j%every == 0:\n",
    "            ion_indices = [atom.index for atom in snapshot if atom.symbol == ion and atom.position[2]>=zmin and atom.position[2]<zmax]\n",
    "            o_indices = [atom.index for atom in snapshot if atom.symbol == 'O' and atom.position[2]>=zmin-r_cut and atom.position[2]<=zmax+r_cut]\n",
    "            for ion_index in ion_indices:\n",
    "                distances = snapshot.get_distances(ion_index, o_indices, mic=True, vector = True)\n",
    "                for distance in distances:\n",
    "                    if np.linalg.norm(distance) > r_cut: #not in first solvation shell\n",
    "                        continue\n",
    "                    angle = np.arccos(np.dot(distance, np.array([0,0,-1])) / np.linalg.norm(distance)) * 180 / np.pi\n",
    "                    iangle = int(angle * nbins / 180)\n",
    "                    n_thetas[iangle] += 1\n",
    "    #normalize\n",
    "    n_thetas /= np.sum(n_thetas) \n",
    "    n_thetas *= nbins / 180\n",
    "    return thetas, n_thetas\n",
    "    "
   ]
  },
  {
   "cell_type": "code",
   "execution_count": null,
   "metadata": {},
   "outputs": [],
   "source": [
    "def get_min_opening_angle(atoms, ion, r_cut, nbins, zmin = 0, zmax = 1000, every = 1):\n",
    "    thetas = np.arange(0,180, 180/nbins) + 0.5*180/nbins\n",
    "    n_thetas = np.zeros(len(thetas))\n",
    "    for j, snapshot in enumerate(atoms):\n",
    "        if j%every == 0:\n",
    "            ion_indices = [atom.index for atom in snapshot if atom.symbol == ion and atom.position[2]>=zmin and atom.position[2]<zmax]\n",
    "            o_indices = [atom.index for atom in snapshot if atom.symbol == 'O' and atom.position[2]>=zmin-r_cut and atom.position[2]<=zmax+r_cut]\n",
    "            for ion_index in ion_indices:\n",
    "                distances = snapshot.get_distances(ion_index, o_indices, mic=True, vector = True)\n",
    "                angle_min = 180\n",
    "                for distance in distances:\n",
    "                    if np.linalg.norm(distance) > r_cut: #not in first solvation shell\n",
    "                        continue\n",
    "                    angle = np.arccos(np.dot(distance, np.array([0,0,-1])) / np.linalg.norm(distance)) * 180 / np.pi\n",
    "                    if angle < angle_min:\n",
    "                        angle_min = angle\n",
    "                iangle = int(angle_min * nbins / 180)\n",
    "                n_thetas[iangle] += 1\n",
    "    #normalize\n",
    "    n_thetas /= np.sum(n_thetas) \n",
    "    n_thetas *= nbins / 180\n",
    "    return thetas, n_thetas"
   ]
  },
  {
   "cell_type": "markdown",
   "metadata": {},
   "source": [
    "## Analyze"
   ]
  },
  {
   "cell_type": "markdown",
   "metadata": {
    "tags": []
   },
   "source": [
    "### Coordination number"
   ]
  },
  {
   "cell_type": "markdown",
   "metadata": {
    "jp-MarkdownHeadingCollapsed": true,
    "tags": []
   },
   "source": [
    "#### check whether ions tend to remain in one region only"
   ]
  },
  {
   "cell_type": "code",
   "execution_count": null,
   "metadata": {},
   "outputs": [],
   "source": [
    "every = 1\n",
    "zions = get_ion_location(atoms, 'Cs', every = every)\n",
    "fig=plt.figure(figsize = (6.6,4))\n",
    "plt.plot(np.arange(len(zions[0,:]))*every*delta, zions[0,:], label= 'ion 1')\n",
    "plt.plot(np.arange(len(zions[0,:]))*every*delta, zions[1,:], label= 'ion 2')\n",
    "plt.plot(np.arange(len(zions[0,:]))*every*delta, zions[2,:], label= 'ion 3')\n",
    "plt.plot(np.arange(len(zions[0,:]))*every*delta, zions[3,:], label= 'ion 4')\n",
    "plt.plot([0, len(zions[0,:])*every*delta], [4,4], 'k')\n",
    "plt.plot([0, len(zions[0,:])*every*delta], [5,5], 'k')\n",
    "plt.plot([0, len(zions[0,:])*every*delta], [6.2,6.2], 'k')\n",
    "plt.text(4000, 3, \"region 1\")\n",
    "plt.text(4000, 4.5, \"region 2\")\n",
    "plt.text(4000, 5.6, \"region 3\")\n",
    "plt.text(4000, 7, \"region 4\")\n",
    "plt.xlabel('time [fs]')\n",
    "plt.ylabel(r'position of ion [$\\AA$]')\n",
    "plt.legend()\n",
    "fig.savefig('figures/IonPosOverTime.svg', format='svg', dpi=300)"
   ]
  },
  {
   "cell_type": "markdown",
   "metadata": {},
   "source": [
    "Conclusion: Switches occur mainly between region 1 and 2, but ion 1 remains in region 1 nearly throughout."
   ]
  },
  {
   "cell_type": "markdown",
   "metadata": {
    "jp-MarkdownHeadingCollapsed": true,
    "tags": []
   },
   "source": [
    "#### view coordination number over time"
   ]
  },
  {
   "cell_type": "code",
   "execution_count": null,
   "metadata": {},
   "outputs": [],
   "source": [
    "#plot coordination number over time\n",
    "every = 1\n",
    "fig, (ax,ax2,ax3,ax4) = plt.subplots(4,1, figsize=(6.6,4), sharex=True,)\n",
    "coord_number = get_coordination_number(atoms, 'Cs', 3.999, every= every)\n",
    "plt.figure(figsize = (8,4))\n",
    "ax.plot(np.arange(len(coord_number[0,:]))*every*delta, coord_number[0,:], label = 'ion 1')\n",
    "ax2.plot(np.arange(len(coord_number[0,:]))*every*delta, coord_number[1,:], label = 'ion 2, shifte by 5')\n",
    "ax3.plot(np.arange(len(coord_number[0,:]))*every*delta, coord_number[2,:], label = 'ion 3, shifte by 10')\n",
    "ax4.plot(np.arange(len(coord_number[0,:]))*every*delta, coord_number[3,:], label = 'ion 4, shifte by 15')\n",
    "ax4.set_xlabel('time [fs]')\n",
    "ax.set_ylabel('CN ion 1')\n",
    "ax2.set_ylabel('CN ion 2')\n",
    "ax3.set_ylabel('CN ion 3')\n",
    "ax4.set_ylabel('CN ion 4')\n",
    "fig.savefig('figures/CNoverTime.svg', format='svg', dpi=300)"
   ]
  },
  {
   "cell_type": "markdown",
   "metadata": {},
   "source": [
    "Conclusion: CN changes strongly with \"oscillation periods\" of roughly 2ps (gauged by eye) --> probably need at least 8ps of data for the CN to be more or less reliable"
   ]
  },
  {
   "cell_type": "markdown",
   "metadata": {
    "jp-MarkdownHeadingCollapsed": true,
    "tags": []
   },
   "source": [
    "#### Check difference in coordination number of ion 1 and 2 (which both stay close to the interface)"
   ]
  },
  {
   "cell_type": "code",
   "execution_count": null,
   "metadata": {},
   "outputs": [],
   "source": [
    "r_cut = 3.999\n",
    "av_coor_number_Cs1, tmp = get_average_coordination_number(atoms, 'Cs', r_cut, every = every, bins = [0,1000], i_ion = 1)\n",
    "av_coor_number_Cs2, tmp = get_average_coordination_number(atoms, 'Cs', r_cut, every = every, bins = [0,1000], i_ion = 2)\n",
    "av_coor_number_Cs3, tmp = get_average_coordination_number(atoms, 'Cs', r_cut, every = every, bins = [0,1000], i_ion = 3)\n",
    "av_coor_number_Cs4, tmp = get_average_coordination_number(atoms, 'Cs', r_cut, every = every, bins = [0,1000], i_ion = 4)\n",
    "print(av_coor_number_Cs1, av_coor_number_Cs2, av_coor_number_Cs3, av_coor_number_Cs4)"
   ]
  },
  {
   "cell_type": "markdown",
   "metadata": {},
   "source": [
    "Conclusion: CN for ions 1 and 2 behave similarly. That is good, as ion 1 (with the higher CN) stays in region 1 throughout, but ion 2 oscillates between the regions. This gives some confidence in statistics, at least for long enough times in which ions are present in a region"
   ]
  },
  {
   "cell_type": "markdown",
   "metadata": {
    "jp-MarkdownHeadingCollapsed": true,
    "tags": []
   },
   "source": [
    "#### Compute coordination number using a r_cut of 3.999"
   ]
  },
  {
   "cell_type": "markdown",
   "metadata": {},
   "source": [
    "Also check how many ps are present in which region"
   ]
  },
  {
   "cell_type": "code",
   "execution_count": null,
   "metadata": {},
   "outputs": [],
   "source": [
    "r_cut = 3.999\n",
    "bins = [0,4,5,6.2,100]\n",
    "every = 1\n",
    "av_coor_number_binned, n_ions = get_average_coordination_number(atoms, 'Cs', r_cut, every = every, bins = bins)\n",
    "av_coor_number_2_binned, n_ions_2 = get_average_coordination_number(atoms_2, 'Cs', r_cut, every = every, bins = bins)\n",
    "av_coor_number_bulk, n_ions_bulk = get_average_coordination_number(atoms_bulk, 'Cs', r_cut, every = every, bins = [0,1000])\n",
    "#av_coor_number_bulk = get_average_coordination_number(atoms_bulk, 'Cs', 3.999, every = every)\n",
    "print(\"coordination number\")\n",
    "print(\"range        \\t 4Cs \\t 2Cs \\t bulk\")\n",
    "for i in range(len(bins)-1):\n",
    "    if i<len(bins)-2:\n",
    "        print(\"{:5.1f}-{:5.1f}A:\\t {:4.2f}\\t{:4.2f}\".format(bins[i], bins[i+1], av_coor_number_binned[i], av_coor_number_2_binned[i]))\n",
    "    else:\n",
    "        print(\"{:5.1f}-{:5.1f}A:\\t {:4.2f}\\t{:4.2f}\\t{:4.2f}\".format(bins[i], bins[i+1], av_coor_number_binned[i], av_coor_number_2_binned[i], av_coor_number_bulk[0]))\n",
    "print(\"fs in which an ion is present in this region\")\n",
    "print(\"range        \\t  4Cs  \\t 2Cs  \\t bulk\")\n",
    "for i in range(len(bins)-1):\n",
    "    if i<len(bins)-2:\n",
    "        print(\"{:5.1f}-{:5.1f}A:\\t {:6.0f}\\t{:6.0f}\".format(bins[i], bins[i+1], n_ions[i]*every*delta, n_ions_2[i]*every*delta))\n",
    "    else:\n",
    "        print(\"{:5.1f}-{:5.1f}A:\\t {:6.0f}\\t{:6.0f}\\t{:6.0f}\".format(bins[i], bins[i+1], n_ions[i]*every*delta, n_ions_2[i]*every*delta, n_ions_bulk[0]*every*delta))\n",
    "plt.plot(av_coor_number_binned, label = \"4 Cs\")\n",
    "plt.plot(av_coor_number_2_binned, label = \"2 Cs\")\n",
    "plt.plot([av_coor_number_bulk,av_coor_number_bulk,av_coor_number_bulk,av_coor_number_bulk], label = \"bulk\")\n",
    "plt.legend()\n",
    "plt.grid()"
   ]
  },
  {
   "cell_type": "markdown",
   "metadata": {
    "jp-MarkdownHeadingCollapsed": true,
    "tags": []
   },
   "source": [
    "#### Check whether a larger r_cut changes things significantly"
   ]
  },
  {
   "cell_type": "code",
   "execution_count": null,
   "metadata": {},
   "outputs": [],
   "source": [
    "r_cut = 4.2\n",
    "bins = [0,4,5,6.2,100]\n",
    "every = 10\n",
    "av_coor_number_binned, n_ions = get_average_coordination_number(atoms, 'Cs', r_cut, every = every, bins = bins)\n",
    "av_coor_number_2_binned, n_ions_2 = get_average_coordination_number(atoms_2, 'Cs', r_cut, every = every, bins = bins)\n",
    "av_coor_number_bulk, n_ions_bulk = get_average_coordination_number(atoms_bulk, 'Cs', r_cut, every = every, bins = [0,1000])\n",
    "#av_coor_number_bulk = get_average_coordination_number(atoms_bulk, 'Cs', 3.999, every = every)\n",
    "print(\"coordination number\")\n",
    "print(\"range        \\t 4Cs \\t 2Cs \\t bulk\")\n",
    "for i in range(len(bins)-1):\n",
    "    if i<len(bins)-2:\n",
    "        print(\"{:5.1f}-{:5.1f}A:\\t {:3.1f}\\t{:3.1f}\".format(bins[i], bins[i+1], av_coor_number_binned[i], av_coor_number_2_binned[i]))\n",
    "    else:\n",
    "        print(\"{:5.1f}-{:5.1f}A:\\t {:3.1f}\\t{:3.1f}\\t{:3.1f}\".format(bins[i], bins[i+1], av_coor_number_binned[i], av_coor_number_2_binned[i], av_coor_number_bulk[0]))\n",
    "print(\"fs in which an ion is present in this region\")\n",
    "print(\"range        \\t  4Cs  \\t 2Cs  \\t bulk\")\n",
    "for i in range(len(bins)-1):\n",
    "    if i<len(bins)-2:\n",
    "        print(\"{:5.1f}-{:5.1f}A:\\t {:6.0f}\\t{:6.0f}\".format(bins[i], bins[i+1], n_ions[i]*every*delta, n_ions_2[i]*every*delta))\n",
    "    else:\n",
    "        print(\"{:5.1f}-{:5.1f}A:\\t {:6.0f}\\t{:6.0f}\\t{:6.0f}\".format(bins[i], bins[i+1], n_ions[i]*every*delta, n_ions_2[i]*every*delta, n_ions_bulk[0]*every*delta))\n",
    "plt.plot(av_coor_number_2_binned, label = \"2 Cs\")\n",
    "plt.plot([av_coor_number_bulk,av_coor_number_bulk,av_coor_number_bulk,av_coor_number_bulk], label = \"bulk\")\n",
    "plt.legend()\n",
    "plt.grid()"
   ]
  },
  {
   "cell_type": "markdown",
   "metadata": {},
   "source": [
    "Conclusion: Larger cutoff makes all changes a bit bigger, but qualitative picture remains the same"
   ]
  },
  {
   "cell_type": "markdown",
   "metadata": {
    "jp-MarkdownHeadingCollapsed": true,
    "tags": []
   },
   "source": [
    "#### check whether smaller r_cut changes a lot"
   ]
  },
  {
   "cell_type": "code",
   "execution_count": null,
   "metadata": {},
   "outputs": [],
   "source": [
    "r_cut = 3.8\n",
    "bins = [0,4,5,6.2,100]\n",
    "every = 10\n",
    "av_coor_number_binned, n_ions = get_average_coordination_number(atoms, 'Cs', r_cut, every = every, bins = bins)\n",
    "av_coor_number_2_binned, n_ions_2 = get_average_coordination_number(atoms_2, 'Cs', r_cut, every = every, bins = bins)\n",
    "av_coor_number_bulk, n_ions_bulk = get_average_coordination_number(atoms_bulk, 'Cs', r_cut, every = every, bins = [0,1000])\n",
    "#av_coor_number_bulk = get_average_coordination_number(atoms_bulk, 'Cs', 3.999, every = every)\n",
    "print(\"coordination number\")\n",
    "print(\"range        \\t 4Cs \\t 2Cs \\t bulk\")\n",
    "for i in range(len(bins)-1):\n",
    "    if i<len(bins)-2:\n",
    "        print(\"{:5.1f}-{:5.1f}A:\\t {:4.2f}\\t{:4.2f}\".format(bins[i], bins[i+1], av_coor_number_binned[i], av_coor_number_2_binned[i]))\n",
    "    else:\n",
    "        print(\"{:5.1f}-{:5.1f}A:\\t {:4.2f}\\t{:4.2f}\\t{:4.2f}\".format(bins[i], bins[i+1], av_coor_number_binned[i], av_coor_number_2_binned[i], av_coor_number_bulk[0]))\n",
    "print(\"fs in which an ion is present in this region\")\n",
    "print(\"range        \\t  4Cs  \\t 2Cs  \\t bulk\")\n",
    "for i in range(len(bins)-1):\n",
    "    if i<len(bins)-2:\n",
    "        print(\"{:5.1f}-{:5.1f}A:\\t {:6.0f}\\t{:6.0f}\".format(bins[i], bins[i+1], n_ions[i]*every*delta, n_ions_2[i]*every*delta))\n",
    "    else:\n",
    "        print(\"{:5.1f}-{:5.1f}A:\\t {:6.0f}\\t{:6.0f}\\t{:6.0f}\".format(bins[i], bins[i+1], n_ions[i]*every*delta, n_ions_2[i]*every*delta, n_ions_bulk[0]*every*delta))\n",
    "plt.plot(av_coor_number_2_binned, label = \"2 Cs\")\n",
    "plt.plot(av_coor_number_binned, label = \"4 Cs\")\n",
    "plt.plot([av_coor_number_bulk,av_coor_number_bulk,av_coor_number_bulk,av_coor_number_bulk], label = \"bulk\")\n",
    "plt.legend()\n",
    "plt.grid()"
   ]
  },
  {
   "cell_type": "markdown",
   "metadata": {
    "jp-MarkdownHeadingCollapsed": true,
    "tags": []
   },
   "source": [
    "### RDF and CDF"
   ]
  },
  {
   "cell_type": "markdown",
   "metadata": {},
   "source": [
    "compute RDF and CDF"
   ]
  },
  {
   "cell_type": "code",
   "execution_count": null,
   "metadata": {},
   "outputs": [],
   "source": [
    "rs_bulk, rdf_bulk, cdf_bulk = get_rdf(atoms_bulk, 'Cs', every = 1, rmax = 8, nbins = 100, zmin=0, zmax=1000)\n",
    "rs, rdf, cdf = get_rdf(atoms, 'Cs', every = 1, rmax = 8, nbins = 100, zmin=0, zmax=1000)\n",
    "rs_r1, rdf_r1, cdf_r1 = get_rdf(atoms, 'Cs', every = 1, rmax = 8, nbins = 100, zmin=0, zmax=4)\n",
    "rs_r2, rdf_r2, cdf_r2 = get_rdf(atoms, 'Cs', every = 1, rmax = 8, nbins = 100, zmin=4, zmax=5)\n",
    "rs_r3, rdf_r3, cdf_r3 = get_rdf(atoms, 'Cs', every = 1, rmax = 8, nbins = 100, zmin=5, zmax=6.2)\n",
    "rs_r4, rdf_r4, cdf_r4 = get_rdf(atoms, 'Cs', every = 1, rmax = 8, nbins = 100, zmin=6.2, zmax=1000)\n",
    "rs_2, rdf_2, cdf_2 = get_rdf(atoms_2, 'Cs', every = 1, rmax = 8, nbins = 100, zmin=0, zmax=1000)\n",
    "rs_2_r2, rdf_2_r2, cdf_2_r2 = get_rdf(atoms_2, 'Cs', every = 1, rmax = 8, nbins = 100, zmin=4, zmax=5)\n",
    "rs_2_r3, rdf_2_r3, cdf_2_r3 = get_rdf(atoms_2, 'Cs', every = 1, rmax = 8, nbins = 100, zmin=5, zmax=6.2)\n",
    "rs_2_r4, rdf_2_r4, cdf_2_r4 = get_rdf(atoms_2, 'Cs', every = 1, rmax = 8, nbins = 100, zmin=6.2, zmax=1000)"
   ]
  },
  {
   "cell_type": "code",
   "execution_count": null,
   "metadata": {},
   "outputs": [],
   "source": [
    "#### Compare bulk, 2Cs and 4Cs"
   ]
  },
  {
   "cell_type": "code",
   "execution_count": null,
   "metadata": {},
   "outputs": [],
   "source": [
    "plt.plot(rs_bulk, rdf_bulk, label = 'bulk')\n",
    "plt.plot(rs_2, rdf_2, label = '2Cs')\n",
    "plt.plot(rs, rdf, label = '4Cs')\n",
    "plt.legend()\n",
    "plt.grid()\n",
    "#plt.xlim(3,5)\n",
    "#plt.ylim(0,13);"
   ]
  },
  {
   "cell_type": "markdown",
   "metadata": {},
   "source": [
    "zoom in "
   ]
  },
  {
   "cell_type": "code",
   "execution_count": null,
   "metadata": {},
   "outputs": [],
   "source": [
    "plt.plot(rs_bulk, rdf_bulk, label = 'bulk')\n",
    "plt.plot(rs_2, rdf_2, label = '2Cs')\n",
    "plt.plot(rs, rdf, label = '4Cs')\n",
    "plt.legend()\n",
    "plt.grid()\n",
    "plt.xlim(0,8)\n",
    "#plt.ylim(0,13);"
   ]
  },
  {
   "cell_type": "markdown",
   "metadata": {},
   "source": [
    "compare 'bulk-type' only"
   ]
  },
  {
   "cell_type": "code",
   "execution_count": null,
   "metadata": {},
   "outputs": [],
   "source": [
    "plt.plot(rs_bulk, rdf_bulk, label = 'bulk')\n",
    "plt.plot(rs__2r4, rdf_2_r4, label = '2Cs region 4')\n",
    "plt.plot(rs_r4, rdf_r4, label = '4Cs region 4')\n",
    "plt.legend()\n",
    "plt.grid()\n",
    "plt.xlim(3.5,4.5)\n",
    "plt.ylim(0.8, 1.6)"
   ]
  },
  {
   "cell_type": "markdown",
   "metadata": {},
   "source": [
    "Conclusion: minimum in RDF is not clearly visible. It occurs around 4 for 4Cs, but rather at 4.2 for the bulk case and 2Cs. However, noise could easily influence the exact location of the minimum (in fact it is not 100% clear whether the ninimum is a result so noise only). The choice of the exact cutoff value is therefore somewhat arbitrary. Essentially, it could be set anywhere between 3.8 (where the rdf has fallen to 1-1.35, i.e. to something close to 1, where the \"bulk\" contribution will be large already) to 4.2. This is why above the analysis was repeated for r_cut = 3.8 and r_cut = 4.2. It is clear that, the larger the solvation radius is chosen, the larger the effect will be of going close to the surface. Except for the exact value of \"desolvation\", nothing much changes."
   ]
  },
  {
   "cell_type": "code",
   "execution_count": null,
   "metadata": {},
   "outputs": [],
   "source": [
    "#### Compare all bulk regions"
   ]
  },
  {
   "cell_type": "code",
   "execution_count": null,
   "metadata": {},
   "outputs": [],
   "source": [
    "plt.plot(rs_bulk+0.5*(rs_bulk[1]-rs_bulk[0]), cdf_bulk,  '-x', label = 'bulk')\n",
    "plt.plot(rs_2_r4+0.5*(rs_2_r4[1]-rs_2_r4[0]), cdf_2_r4, '-x',label = '2Cs region 4')\n",
    "plt.plot(rs_r4+0.5*(rs_r4[1]-rs_r4[0]), cdf_r4, '-x',label = '4Cs region 4')\n",
    "plt.legend()\n",
    "plt.grid()\n",
    "plt.xlim(2.5,4.2)\n",
    "plt.ylim(0,11);"
   ]
  },
  {
   "cell_type": "markdown",
   "metadata": {},
   "source": [
    "Conclusion: Clearly, the 4Cs case behaves somehwat differently from the other 2 cases. The reason may be the comparably bad statistics for this datapoint (only 5000 fs - see above)"
   ]
  },
  {
   "cell_type": "markdown",
   "metadata": {},
   "source": [
    "#### Compare the cdf for the different regions for the 4 ion case"
   ]
  },
  {
   "cell_type": "code",
   "execution_count": null,
   "metadata": {},
   "outputs": [],
   "source": [
    "from matplotlib.patches import Rectangle\n",
    "from mpl_toolkits.axes_grid1.inset_locator import zoomed_inset_axes\n",
    "from mpl_toolkits.axes_grid1.inset_locator import mark_inset\n",
    "c4 = 'paleturquoise'\n",
    "c3 = 'darkturquoise'\n",
    "c2 = 'teal'\n",
    "c1 = 'darkslategrey'\n",
    "fig, ax1 = plt.subplots(figsize=(2.8,2))\n",
    "ax1.add_patch(Rectangle((0, 0), 3.999, 13, facecolor = 'gainsboro',fill=True, alpha=0.5))\n",
    "plt.plot(rs_bulk, cdf_bulk, label = 'bulk', lw = 1, color='k')\n",
    "plt.plot(rs_r1, cdf_r1, label = r'$0<z<4$', color = c1, lw = 1.5)\n",
    "plt.plot(rs_r2, cdf_r2, label = r'4<z<5', color = c2, lw = 1.5)\n",
    "plt.plot(rs_r3, cdf_r3, label = r'$5<z<6.2$', color = c3, lw = 1.5)\n",
    "plt.plot(rs_r4, cdf_r4, label = r'$z>6.2$',  color = c4, lw = 1.5)\n",
    "#plt.legend(loc=2)\n",
    "#plt.grid()\n",
    "plt.xlabel(r'Cs - O distance [$\\AA$]')\n",
    "plt.ylabel('cumm. distribution funct.')\n",
    "ax1.set_ylim(0,10)\n",
    "ax1.set_xlim(2.75,4.5)\n",
    "axins = zoomed_inset_axes(ax1, 1.4,loc=4, bbox_to_anchor=(0.58,0.12,0.5,0.5),bbox_transform=ax1.transAxes)\n",
    "axins.add_patch(Rectangle((0, 0), 3.999, 13, facecolor = 'gainsboro',fill=True, alpha=0.5))\n",
    "axins.plot(rs_bulk, cdf_bulk, label = 'bulk', lw = 1, color='k')\n",
    "axins.plot(rs_r1, cdf_r1, label = r'$0<z<4$', color = c1, lw = 1.5)\n",
    "axins.plot(rs_r2, cdf_r2, label = r'4<z<5', color = c2, lw = 1.5)\n",
    "axins.plot(rs_r3, cdf_r3, label = r'$5<z<6.2$', color = c3, lw = 1.5)\n",
    "axins.plot(rs_r4, cdf_r4, label = r'$z>6.2$',  color = c4, lw = 1.5)\n",
    "mark_inset(ax1, axins, loc1=3, loc2=1, fc=\"none\", ec=\"0.5\")\n",
    "axins.grid()\n",
    "axins.set_xlim(3.75, 4.25)\n",
    "axins.set_ylim(6.5, 9.5)\n",
    "#ax1.tick_params(top=True, labeltop=True, bottom=False, labelbottom=False)\n",
    "plt.tight_layout()\n",
    "fig.savefig('figures/cdf.svg', format='svg', dpi=300)"
   ]
  },
  {
   "cell_type": "code",
   "execution_count": null,
   "metadata": {},
   "outputs": [],
   "source": [
    "from matplotlib.patches import Rectangle\n",
    "from mpl_toolkits.axes_grid1.inset_locator import zoomed_inset_axes\n",
    "from mpl_toolkits.axes_grid1.inset_locator import mark_inset\n",
    "c4 = 'paleturquoise'\n",
    "c3 = 'darkturquoise'\n",
    "c2 = 'teal'\n",
    "c1 = 'darkslategrey'\n",
    "fig, ax1 = plt.subplots(figsize=(2.8,2))\n",
    "ax1.add_patch(Rectangle((0, 0), 3.999, 13, facecolor = 'gainsboro',fill=True, alpha=0.5))\n",
    "plt.plot(rs_bulk, cdf_bulk, '--', label = 'bulk', lw = 1, color='k')\n",
    "plt.plot(rs_r1, cdf_r1, label = r'$0<z<4$', color = c1, lw = 1.5)\n",
    "plt.plot(rs_r2, cdf_r2, label = r'4<z<5', color = c2, lw = 1.5)\n",
    "plt.plot(rs_r3, cdf_r3, label = r'$5<z<6.2$', color = c3, lw = 1.5)\n",
    "plt.plot(rs_r4, cdf_r4, label = r'$z>6.2$',  color = c4, lw = 1.5)\n",
    "#plt.legend(loc=2)\n",
    "ax2 = ax1.twinx()\n",
    "ax2.plot(rs_bulk, rdf_bulk,  ':', label = 'bulk', lw = 2, color='k')\n",
    "ax2.plot(rs_r1, rdf_r1, ':', label = r'$0<z<4$', color = c1, lw = 1.5)\n",
    "ax2.plot(rs_r2, rdf_r2, ':', label = r'4<z<5', color = c2, lw = 1.5)\n",
    "ax2.plot(rs_r3, rdf_r3, ':', label = r'$5<z<6.2$', color = c3, lw = 1.5)\n",
    "ax2.plot(rs_r4, rdf_r4, ':', label = r'$z>6.2$',  color = c4, lw = 1.5)\n",
    "#plt.grid()\n",
    "ax1.set_xlabel(r'Cs - O distance [$\\AA$]')\n",
    "ax1.set_ylabel('cumm. distribution funct.')\n",
    "ax2.set_ylabel('RDF')\n",
    "ax1.set_ylim(0,12)\n",
    "ax2.set_ylim(0,5)\n",
    "ax1.set_xlim(2.75,4.5)\n",
    "axins = zoomed_inset_axes(ax1, 1.4,loc=4, bbox_to_anchor=(0.05,0.56,0.5,0.5),bbox_transform=ax1.transAxes)\n",
    "axins.add_patch(Rectangle((0, 0), 3.999, 13, facecolor = 'gainsboro',fill=True, alpha=0.5))\n",
    "axins.plot(rs_bulk, cdf_bulk, '--', label = 'bulk', lw = 1, color='k')\n",
    "axins.plot(rs_r1, cdf_r1, label = r'$0<z<4$', color = c1, lw = 1.5)\n",
    "axins.plot(rs_r2, cdf_r2, label = r'4<z<5', color = c2, lw = 1.5)\n",
    "axins.plot(rs_r3, cdf_r3, label = r'$5<z<6.2$', color = c3, lw = 1.5)\n",
    "axins.plot(rs_r4, cdf_r4, label = r'$z>6.2$',  color = c4, lw = 1.5)\n",
    "axins.add_patch(Rectangle((0, 0), 3.999, 13, facecolor = 'gainsboro',fill=True, alpha=0.5))\n",
    "mark_inset(ax1, axins, loc1=3, loc2=1, fc=\"none\", ec=\"0.5\")\n",
    "axins.grid()\n",
    "axins.set_xlim(3.75, 4.25)\n",
    "axins.set_ylim(6.5, 9.5)\n",
    "#ax1.tick_params(top=True, labeltop=True, bottom=False, labelbottom=False)\n",
    "plt.tight_layout()\n",
    "fig.savefig('figures/cdf_rdf.svg', format='svg', dpi=300)"
   ]
  },
  {
   "cell_type": "markdown",
   "metadata": {},
   "source": [
    "Conclusion and explanation: Here, the z>6.2 region is dotted because of the bad statistics as discussed before. Already for regions 3 and 2, the CN at r_cut = 4 seems slightly reduced, but only by about 0.5. This may just be statistics. The difference becomes even larger though for ions coming even closer. As, additionally, it is the same ions that switch constantly from region 1 to 2, this difference should be considered statistically relevant!"
   ]
  },
  {
   "cell_type": "markdown",
   "metadata": {},
   "source": [
    "#### same for the 2Cs case"
   ]
  },
  {
   "cell_type": "code",
   "execution_count": null,
   "metadata": {},
   "outputs": [],
   "source": [
    "plt.plot(rs_bulk, cdf_bulk, label = 'bulk', color = 'k')\n",
    "plt.plot(rs_2_r2, cdf_2_r2, label = 'region 2', color = c2)\n",
    "plt.plot(rs_2_r3, cdf_2_r3, label = 'region 3', color = c3)\n",
    "plt.plot(rs_2_r4, cdf_2_r4, label = 'region 4', color = c4)\n",
    "plt.legend()\n",
    "plt.grid()\n",
    "plt.xlim(2.75,4.5)\n",
    "plt.ylim(0,11)"
   ]
  },
  {
   "cell_type": "markdown",
   "metadata": {},
   "source": [
    "Conclusion: Somewhat similar to what we have seen for the 4Cs case, the CN is reduced at r_cut=4A for region 2. However, similarly to above, I am a bit heasitant to put too much meaning to this, as, here, the statistics for region 2 are bad (only 3000fs - see above)"
   ]
  },
  {
   "cell_type": "markdown",
   "metadata": {
    "jp-MarkdownHeadingCollapsed": true,
    "tags": []
   },
   "source": [
    "### Opening anlge"
   ]
  },
  {
   "cell_type": "code",
   "execution_count": null,
   "metadata": {},
   "outputs": [],
   "source": [
    "r_cut = 3.999\n",
    "every = 1\n",
    "thetas_binned = {}\n",
    "thetas, n_thetas_1 = get_opening_angle(atoms, 'Cs', r_cut = r_cut, nbins = 36, zmin = 0, zmax = 4, every = every)\n",
    "thetas, n_thetas_2 = get_opening_angle(atoms, 'Cs', r_cut = r_cut, nbins = 36, zmin = 4, zmax = 5, every = every)\n",
    "thetas, n_thetas_3 = get_opening_angle(atoms, 'Cs', r_cut = r_cut, nbins = 36, zmin = 5, zmax = 6.2, every = every)\n",
    "thetas, n_thetas_4 = get_opening_angle(atoms, 'Cs', r_cut = r_cut, nbins = 36, zmin = 6.2, zmax = 100, every = every)\n",
    "\n",
    "c4 = 'turquoise'\n",
    "c3 = 'darkturquoise'\n",
    "c2 = 'teal'\n",
    "c1 = 'darkslategrey'\n",
    "fig, ax1 = plt.subplots(figsize=(2.8,2))\n",
    "#ax2 = ax1.twinx()\n",
    "ax1.plot(thetas, 10*np.sin(thetas*np.pi/180)/np.sum(np.sin(thetas*np.pi/180))*1/(thetas[1]-thetas[0]), ':', color = 'k')\n",
    "ax1.plot( np.insert(thetas, 0, 0, axis=0), 10*np.insert(n_thetas_4, 0, 0, axis=0), color = c4, label = r'$6.2<z$', lw = 1.5)\n",
    "ax1.plot(thetas, 10*n_thetas_3, color = c3, label = r'$5<z<6.2$', lw = 1.5)\n",
    "ax1.plot(thetas, 10*n_thetas_2, color = c2, label = r'$4<z<5$', lw = 1.5)\n",
    "ax1.plot(thetas, 10*n_thetas_1, color = c1, label = r'$0<z<4$', lw = 1.5)\n",
    "#ax1.fill_between(thetas, 0, n_thetas_4, color = c4, alpha = 0.0)\n",
    "#ax1.fill_between(thetas, 0, n_thetas_3, color = c3, alpha = 0.0)\n",
    "#ax1.fill_between(thetas, 0, n_thetas_2, color = c2, alpha = 0.0)\n",
    "#ax1.fill_between(thetas, 0, n_thetas_1, color = c1, alpha = 0.3)\n",
    "ax1.legend()\n",
    "ax1.set_xlabel(r'$\\theta$ [deg]')\n",
    "ax1.set_ylabel(r'$p(\\theta)$ [arb. u.]');\n",
    "plt.tight_layout()\n",
    "fig.savefig('figures/opening_angle.svg', format='svg', dpi=300)"
   ]
  },
  {
   "cell_type": "code",
   "execution_count": null,
   "metadata": {},
   "outputs": [],
   "source": [
    "c4 = 'turquoise'\n",
    "c3 = 'darkturquoise'\n",
    "c2 = 'teal'\n",
    "c1 = 'darkslategrey'\n",
    "fig, ax1 = plt.subplots(figsize=(10,4))\n",
    "#ax2 = ax1.twinx()\n",
    "ax1.plot(thetas, 10*np.sin(thetas*np.pi/180)/np.sum(np.sin(thetas*np.pi/180))*1/(thetas[1]-thetas[0]), ':', color = 'k')\n",
    "ax1.plot( np.insert(thetas, 0, 0, axis=0), 10*np.insert(n_thetas_4, 0, 0, axis=0), color = c4, label = r'$6.2<z$', lw = 1.5)\n",
    "ax1.plot(thetas, 10*n_thetas_3, color = c3, label = r'$5<z<6.2$', lw = 1.5)\n",
    "ax1.plot(thetas, 10*n_thetas_2, color = c2, label = r'$4<z<5$', lw = 1.5)\n",
    "ax1.plot(thetas, 10*n_thetas_1, color = c1, label = r'$0<z<4$', lw = 1.5)\n",
    "#ax1.fill_between(thetas, 0, n_thetas_4, color = c4, alpha = 0.0)\n",
    "#ax1.fill_between(thetas, 0, n_thetas_3, color = c3, alpha = 0.0)\n",
    "#ax1.fill_between(thetas, 0, n_thetas_2, color = c2, alpha = 0.0)\n",
    "#ax1.fill_between(thetas, 0, n_thetas_1, color = c1, alpha = 0.3)\n",
    "ax1.legend()\n",
    "ax1.set_xlabel(r'$\\theta$ [deg]')\n",
    "ax1.set_ylabel(r'$p(\\theta)$ [arb. u.]');"
   ]
  },
  {
   "cell_type": "markdown",
   "metadata": {},
   "source": [
    "#### Same as above, but only minimum angle"
   ]
  },
  {
   "cell_type": "code",
   "execution_count": null,
   "metadata": {},
   "outputs": [],
   "source": [
    "r_cut = 3.999\n",
    "every = 1\n",
    "thetas_binned = {}\n",
    "thetas_min, n_thetas_1_min = get_min_opening_angle(atoms, 'Cs', r_cut = r_cut, nbins = 36, zmin = 0, zmax = 4, every = every)\n",
    "thetas_min, n_thetas_2_min = get_min_opening_angle(atoms, 'Cs', r_cut = r_cut, nbins = 36, zmin = 4, zmax = 5, every = every)\n",
    "thetas_min, n_thetas_3_min = get_min_opening_angle(atoms, 'Cs', r_cut = r_cut, nbins = 36, zmin = 5, zmax = 6.2, every = every)\n",
    "thetas_min, n_thetas_4_min = get_min_opening_angle(atoms, 'Cs', r_cut = r_cut, nbins = 36, zmin = 6.2, zmax = 100, every = every)\n",
    "\n",
    "c4 = 'turquoise'\n",
    "c3 = 'darkturquoise'\n",
    "c2 = 'teal'\n",
    "c1 = 'darkslategrey'\n",
    "fig, ax1 = plt.subplots(figsize=(2.8,2))\n",
    "#ax2 = ax1.twinx()\n",
    "ax1.plot(thetas_min, 10*np.sin(thetas_min*np.pi/180)/np.sum(np.sin(thetas_min*np.pi/180))*1/(thetas_min[1]-thetas_min[0]), ':', color = 'k')\n",
    "ax1.plot( np.insert(thetas_min, 0, 0, axis=0), 10*np.insert(n_thetas_4_min, 0, 0, axis=0), color = c4, label = r'$6.2<z$', lw = 1.5)\n",
    "ax1.plot(thetas_min, 10*n_thetas_3_min, color = c3, label = r'$5<z<6.2$', lw = 1.5)\n",
    "ax1.plot(thetas_min, 10*n_thetas_2_min, color = c2, label = r'$4<z<5$', lw = 1.5)\n",
    "ax1.plot(thetas_min, 10*n_thetas_1_min, color = c1, label = r'$0<z<4$', lw = 1.5)\n",
    "#ax1.fill_between(thetas, 0, n_thetas_4, color = c4, alpha = 0.0)\n",
    "#ax1.fill_between(thetas, 0, n_thetas_3, color = c3, alpha = 0.0)\n",
    "#ax1.fill_between(thetas, 0, n_thetas_2, color = c2, alpha = 0.0)\n",
    "#ax1.fill_between(thetas, 0, n_thetas_1, color = c1, alpha = 0.3)\n",
    "ax1.legend()\n",
    "ax1.set_xlabel(r'$\\theta$ [deg]')\n",
    "ax1.set_ylabel(r'$p(\\theta)$ [arb. u.]');\n",
    "plt.tight_layout()\n",
    "fig.savefig('figures/opening_min_angle.svg', format='svg', dpi=300)"
   ]
  },
  {
   "cell_type": "code",
   "execution_count": null,
   "metadata": {},
   "outputs": [],
   "source": [
    "c4 = 'turquoise'\n",
    "c3 = 'darkturquoise'\n",
    "c2 = 'teal'\n",
    "c1 = 'darkslategrey'\n",
    "fig, ax1 = plt.subplots(figsize=(15,4))\n",
    "#ax2 = ax1.twinx()\n",
    "ax1.plot(thetas_min, 10*np.sin(thetas_min*np.pi/180)/np.sum(np.sin(thetas_min*np.pi/180))*1/(thetas_min[1]-thetas_min[0]), ':', color = 'k')\n",
    "ax1.plot( np.insert(thetas_min, 0, 0, axis=0), 10*np.insert(n_thetas_4_min, 0, 0, axis=0), color = c4, label = r'$6.2<z$', lw = 1.5)\n",
    "ax1.plot(thetas_min, 10*n_thetas_3_min, color = c3, label = r'$5<z<6.2$', lw = 1.5)\n",
    "ax1.plot(thetas_min, 10*n_thetas_2_min, color = c2, label = r'$4<z<5$', lw = 1.5)\n",
    "ax1.plot(thetas_min, 10*n_thetas_1_min, color = c1, label = r'$0<z<4$', lw = 1.5)\n",
    "#ax1.fill_between(thetas, 0, n_thetas_4, color = c4, alpha = 0.0)\n",
    "#ax1.fill_between(thetas, 0, n_thetas_3, color = c3, alpha = 0.0)\n",
    "#ax1.fill_between(thetas, 0, n_thetas_2, color = c2, alpha = 0.0)\n",
    "#ax1.fill_between(thetas, 0, n_thetas_1, color = c1, alpha = 0.3)\n",
    "ax1.legend()\n",
    "ax1.set_xlabel(r'$\\theta$ [deg]')\n",
    "ax1.set_ylabel(r'$p(\\theta)$ [arb. u.]');\n",
    "ax1.locator_params(nbins=72, axis='x')\n",
    "ax1.grid()\n"
   ]
  },
  {
   "cell_type": "code",
   "execution_count": null,
   "metadata": {},
   "outputs": [],
   "source": []
  }
 ],
 "metadata": {
  "kernelspec": {
   "display_name": "mace",
   "language": "python",
   "name": "python3"
  },
  "language_info": {
   "codemirror_mode": {
    "name": "ipython",
    "version": 3
   },
   "file_extension": ".py",
   "mimetype": "text/x-python",
   "name": "python",
   "nbconvert_exporter": "python",
   "pygments_lexer": "ipython3",
   "version": "3.12.5"
  }
 },
 "nbformat": 4,
 "nbformat_minor": 4
}
