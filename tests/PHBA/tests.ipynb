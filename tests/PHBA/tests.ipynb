{
 "cells": [
  {
   "cell_type": "code",
   "execution_count": null,
   "metadata": {},
   "outputs": [],
   "source": [
    "import MDAnalysis as mda\n",
    "from MDAnalysis import transformations as trans\n",
    "\n",
    "import numpy as np"
   ]
  },
  {
   "cell_type": "code",
   "execution_count": null,
   "metadata": {},
   "outputs": [],
   "source": [
    "# load trajectory\n",
    "u = mda.Universe(\"../input_data/interface.psf\",\n",
    "                 \"../input_data/trajectory.xyz\")\n",
    "dim = [16.869, 16.869, 41.478, 90, 90, 120]\n",
    "transform = trans.boxdimensions.set_dimensions(dim)\n",
    "u.trajectory.add_transformations(transform)\n",
    "u.transfer_to_memory(step=100)"
   ]
  },
  {
   "cell_type": "markdown",
   "metadata": {},
   "source": [
    "# MDA v.s. m-MDA (serial version)"
   ]
  },
  {
   "cell_type": "markdown",
   "metadata": {},
   "source": [
    "## MDA"
   ]
  },
  {
   "cell_type": "code",
   "execution_count": null,
   "metadata": {},
   "outputs": [],
   "source": [
    "from MDAnalysis.analysis.hydrogenbonds import HydrogenBondAnalysis"
   ]
  },
  {
   "cell_type": "code",
   "execution_count": null,
   "metadata": {},
   "outputs": [],
   "source": [
    "hbonds = HydrogenBondAnalysis(\n",
    "    universe=u,\n",
    "    donors_sel=None,\n",
    "    hydrogens_sel=\"name H\",\n",
    "    acceptors_sel=\"name O\",\n",
    "    d_a_cutoff=3.0,\n",
    "    d_h_a_angle_cutoff=150,\n",
    "    update_selections=False\n",
    ")\n",
    "hbonds.run()\n",
    "print(hbonds.results.hbonds.shape)\n",
    "np.save(\"./mda_all.npy\", hbonds.results.hbonds)"
   ]
  },
  {
   "cell_type": "markdown",
   "metadata": {},
   "source": [
    "## m-MDA"
   ]
  },
  {
   "cell_type": "code",
   "execution_count": null,
   "metadata": {},
   "outputs": [],
   "source": [
    "from watdyn.m_mda import PartialHBAnalysis"
   ]
  },
  {
   "cell_type": "code",
   "execution_count": null,
   "metadata": {},
   "outputs": [],
   "source": [
    "hbonds = PartialHBAnalysis(\n",
    "    universe=u,\n",
    "    region=None,\n",
    "    surf_ids=None,\n",
    "    donors_sel=None,\n",
    "    hydrogens_sel=\"name H\",\n",
    "    acceptors_sel=\"name O\",\n",
    "    d_a_cutoff=3.0,\n",
    "    d_h_a_angle_cutoff=150,\n",
    "    update_selections=False\n",
    ")\n",
    "hbonds.run()\n",
    "print(hbonds.results.hbonds.shape)\n",
    "np.save(\"./m-mda_all.npy\", hbonds.results.hbonds)"
   ]
  },
  {
   "cell_type": "markdown",
   "metadata": {},
   "source": [
    "## result check"
   ]
  },
  {
   "cell_type": "code",
   "execution_count": null,
   "metadata": {},
   "outputs": [],
   "source": [
    "data_mda = np.load(\"./mda_all.npy\")\n",
    "data_mmda = np.load(\"./m-mda_all.npy\")\n",
    "# check if two array are identical\n",
    "mask = (data_mda - data_mmda) == 0\n",
    "print(False in mask)\n",
    "# if False, all element in mask is True"
   ]
  },
  {
   "cell_type": "markdown",
   "metadata": {},
   "source": [
    "# serial v.s. parallel"
   ]
  },
  {
   "cell_type": "code",
   "execution_count": null,
   "metadata": {},
   "outputs": [],
   "source": [
    "from watdyn.m_mda import PartialHBAnalysis\n",
    "from watdyn.parallel import parallel_exec"
   ]
  },
  {
   "cell_type": "code",
   "execution_count": null,
   "metadata": {},
   "outputs": [],
   "source": [
    "hbonds = PartialHBAnalysis(\n",
    "    universe=u,\n",
    "    region=None,\n",
    "    surf_ids=None,\n",
    "    donors_sel=None,\n",
    "    hydrogens_sel=\"name H\",\n",
    "    acceptors_sel=\"name O\",\n",
    "    d_a_cutoff=3.0,\n",
    "    d_h_a_angle_cutoff=150,\n",
    "    update_selections=False\n",
    ")\n",
    "parallel_exec(hbonds.run,0,10000,1,4)\n",
    "print(hbonds.results.hbonds.shape)\n",
    "#np.save(\"./m-mda_all_parallel.npy\", hbonds.results.hbonds)"
   ]
  },
  {
   "cell_type": "code",
   "execution_count": null,
   "metadata": {},
   "outputs": [],
   "source": [
    "data_mmda = np.load(\"./m-mda_all.npy\")\n",
    "data_mmda_p = np.load(\"./m-mda_all_parallel.npy\")\n",
    "# check if two array are identical\n",
    "mask = (data_mmda - data_mmda_p) == 0\n",
    "print(False in mask)\n",
    "# if False, all element in mask is True"
   ]
  },
  {
   "cell_type": "markdown",
   "metadata": {},
   "source": [
    "# partial HB analysis"
   ]
  },
  {
   "cell_type": "code",
   "execution_count": null,
   "metadata": {},
   "outputs": [],
   "source": [
    "hbonds = PartialHBAnalysis(universe=u,\n",
    "                           region=[2.7, 4.5],\n",
    "                           surf_ids=[np.arange(871, 906),\n",
    "                                     np.arange(691, 726)],\n",
    "                           donors_sel=None,\n",
    "                           hydrogens_sel=\"name H\",\n",
    "                           acceptors_sel=\"name O\",\n",
    "                           d_a_cutoff=3.0,\n",
    "                           d_h_a_angle_cutoff=150,\n",
    "                           update_selections=False)\n",
    "hbonds.run(start=10, stop=30, step=2)\n",
    "print(hbonds.results.hbonds.shape)\n",
    "#np.save(\"./m-mda_interface_serial.npy\", hbonds.results.hbonds)"
   ]
  },
  {
   "cell_type": "code",
   "execution_count": null,
   "metadata": {},
   "outputs": [],
   "source": [
    "print(hbonds.start, hbonds.stop, hbonds.step)\n",
    "print(hbonds.frames)"
   ]
  },
  {
   "cell_type": "code",
   "execution_count": null,
   "metadata": {},
   "outputs": [],
   "source": [
    "hbonds = PartialHBAnalysis(universe=u,\n",
    "                           region=[2.7, 4.5],\n",
    "                           surf_ids=[np.arange(871, 906),\n",
    "                                     np.arange(691, 726)],\n",
    "                           donors_sel=None,\n",
    "                           hydrogens_sel=\"name H\",\n",
    "                           acceptors_sel=\"name O\",\n",
    "                           d_a_cutoff=3.0,\n",
    "                           d_h_a_angle_cutoff=150,\n",
    "                           update_selections=False)\n",
    "parallel_exec(hbonds.run,0,100,1,4)\n",
    "print(hbonds.results.hbonds.shape)\n",
    "#np.save(\"./m-mda_interface_parallel.npy\", hbonds.results.hbonds)"
   ]
  },
  {
   "cell_type": "code",
   "execution_count": null,
   "metadata": {},
   "outputs": [],
   "source": [
    "data_s = np.load(\"./m-mda_interface_serial.npy\")\n",
    "data_p = np.load(\"./m-mda_interface_parallel.npy\")\n",
    "# check if two array are identical\n",
    "mask = (data_s - data_p) == 0\n",
    "print(False in mask)\n",
    "# if False, all element in mask is True"
   ]
  }
 ],
 "metadata": {
  "interpreter": {
   "hash": "27226476483936a9138e17c250b9b838cc6289c7564ef8f1f4b05c238a566661"
  },
  "kernelspec": {
   "display_name": "Python 3.9.7 64-bit ('band-alignment': conda)",
   "language": "python",
   "name": "python3"
  },
  "language_info": {
   "codemirror_mode": {
    "name": "ipython",
    "version": 3
   },
   "file_extension": ".py",
   "mimetype": "text/x-python",
   "name": "python",
   "nbconvert_exporter": "python",
   "pygments_lexer": "ipython3",
   "version": "3.9.7"
  },
  "orig_nbformat": 4
 },
 "nbformat": 4,
 "nbformat_minor": 2
}
