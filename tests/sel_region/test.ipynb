{
 "cells": [
  {
   "cell_type": "code",
   "execution_count": null,
   "metadata": {},
   "outputs": [],
   "source": [
    "import numpy as np\n",
    "import MDAnalysis as mda\n",
    "from MDAnalysis import transformations as trans"
   ]
  },
  {
   "cell_type": "code",
   "execution_count": null,
   "metadata": {},
   "outputs": [],
   "source": [
    "from WatAnalysis.hbonds.m_mda import PartialHBAnalysis"
   ]
  },
  {
   "cell_type": "code",
   "execution_count": null,
   "metadata": {},
   "outputs": [],
   "source": [
    "# load trajectory\n",
    "u = mda.Universe(\"../input_data/interface.psf\", \"../input_data/trajectory.xyz\")\n",
    "dim = [16.869, 16.869, 41.478, 90, 90, 120]\n",
    "transform = trans.boxdimensions.set_dimensions(dim)\n",
    "u.trajectory.add_transformations(transform)"
   ]
  },
  {
   "cell_type": "code",
   "execution_count": null,
   "metadata": {},
   "outputs": [],
   "source": [
    "hbonds = PartialHBAnalysis(universe=u, region=[2.7, 4.5], surf_ids=[np.arange(871, 906),\n",
    "                                     np.arange(691, 726)],donors_sel=\"name O\",\n",
    "                           hydrogens_sel=\"name H\",\n",
    "                           acceptors_sel=\"name O\")\n",
    "hbonds.run()\n",
    "print(hbonds.results.hbonds.shape)"
   ]
  },
  {
   "cell_type": "code",
   "execution_count": null,
   "metadata": {},
   "outputs": [],
   "source": []
  },
  {
   "cell_type": "code",
   "execution_count": null,
   "metadata": {},
   "outputs": [],
   "source": []
  },
  {
   "cell_type": "code",
   "execution_count": 18,
   "metadata": {},
   "outputs": [
    {
     "name": "stdout",
     "output_type": "stream",
     "text": [
      "[ 5  6  7  8  9 10 11 12 13 14] [ -1  -3  -5  -7  -9 -11 -13 -15 -17 -19]\n",
      "[[  5   6   7   8   9  10  11  12  13  14]\n",
      " [ -1  -3  -5  -7  -9 -11 -13 -15 -17 -19]]\n",
      "[1 1 1 1 0 0 0 0 0 0]\n",
      "[[ 6 -3]\n",
      " [ 6 -3]\n",
      " [ 6 -3]\n",
      " [ 6 -3]\n",
      " [ 5 -1]\n",
      " [ 5 -1]\n",
      " [ 5 -1]\n",
      " [ 5 -1]\n",
      " [ 5 -1]\n",
      " [ 5 -1]]\n"
     ]
    }
   ],
   "source": [
    "import numpy as np\n",
    "\n",
    "a = np.arange(5, 15)\n",
    "b = -np.arange(1, 21, 2)\n",
    "print(a, b)\n",
    "c = np.concatenate(([a], [b]), axis=0)\n",
    "print(c)\n",
    "min_ids = np.argmin(np.abs(c), axis=0)\n",
    "print(min_ids)\n",
    "print(np.transpose(c)[min_ids])"
   ]
  },
  {
   "cell_type": "code",
   "execution_count": null,
   "metadata": {},
   "outputs": [],
   "source": []
  }
 ],
 "metadata": {
  "interpreter": {
   "hash": "3e7fe683ade90f60932e53e084251b80d422fa6f244c952a46ed51e06e970de2"
  },
  "kernelspec": {
   "display_name": "Python 3.9.0 ('wat_ana')",
   "language": "python",
   "name": "python3"
  },
  "language_info": {
   "codemirror_mode": {
    "name": "ipython",
    "version": 3
   },
   "file_extension": ".py",
   "mimetype": "text/x-python",
   "name": "python",
   "nbconvert_exporter": "python",
   "pygments_lexer": "ipython3",
   "version": "3.9.0"
  },
  "orig_nbformat": 4
 },
 "nbformat": 4,
 "nbformat_minor": 2
}
