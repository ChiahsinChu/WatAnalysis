{
 "cells": [
  {
   "cell_type": "code",
   "execution_count": null,
   "metadata": {},
   "outputs": [],
   "source": [
    "import numpy as np\n",
    "import MDAnalysis as mda\n",
    "from MDAnalysis import transformations as trans"
   ]
  },
  {
   "cell_type": "code",
   "execution_count": null,
   "metadata": {},
   "outputs": [],
   "source": [
    "from WatAnalysis.hbonds.m_mda import PartialHBAnalysis"
   ]
  },
  {
   "cell_type": "code",
   "execution_count": null,
   "metadata": {},
   "outputs": [],
   "source": [
    "# load trajectory\n",
    "u = mda.Universe(\"../input_data/interface.psf\", \"../input_data/trajectory.xyz\")\n",
    "dim = [16.869, 16.869, 41.478, 90, 90, 120]\n",
    "transform = trans.boxdimensions.set_dimensions(dim)\n",
    "u.trajectory.add_transformations(transform)"
   ]
  },
  {
   "cell_type": "code",
   "execution_count": null,
   "metadata": {},
   "outputs": [],
   "source": [
    "hbonds = PartialHBAnalysis(universe=u, region=[2.7, 4.5], surf_ids=[np.arange(871, 906),\n",
    "                                     np.arange(691, 726)],donors_sel=\"name O\",\n",
    "                           hydrogens_sel=\"name H\",\n",
    "                           acceptors_sel=\"name O\")\n",
    "hbonds.run()\n",
    "print(hbonds.results.hbonds.shape)"
   ]
  }
 ],
 "metadata": {
  "interpreter": {
   "hash": "3e7fe683ade90f60932e53e084251b80d422fa6f244c952a46ed51e06e970de2"
  },
  "kernelspec": {
   "display_name": "Python 3.9.0 ('wat_ana')",
   "language": "python",
   "name": "python3"
  },
  "language_info": {
   "name": "python",
   "version": "3.9.0"
  },
  "orig_nbformat": 4
 },
 "nbformat": 4,
 "nbformat_minor": 2
}
