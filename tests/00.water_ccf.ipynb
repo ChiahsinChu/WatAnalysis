{
  "cells": [
  {
   "cell_type": "code",
   "execution_count": 13,
   "metadata": {},
   "outputs": [],
   "source": [
    "import MDAnalysis as mda\n",
    "from ase import io\n",
    "import numpy as np\n",
    "import matplotlib.pyplot as plt"
   ]
  },
  {
   "cell_type": "code",
   "execution_count": 2,
   "metadata": {},
   "outputs": [],
   "source": [
    "from watdyn.basic import WatAdsCCF\n",
    "from zjxpack.postprocess import common"
   ]
  },
  {
   "cell_type": "code",
   "execution_count": 31,
   "metadata": {},
   "outputs": [],
   "source": [
    "def ccf(a, b):\n",
    "    ts = np.arange(len(a))\n",
    "    output = []\n",
    "    for t in ts:\n",
    "        tmp_a = a[: int(len(a) - t)]\n",
    "        tmp_b = b[int(t) :]\n",
    "        tmp_out = np.mean(tmp_a * tmp_b)\n",
    "        output.append(tmp_out)\n",
    "    return np.array(output)"
   ]
  },
  {
   "cell_type": "markdown",
   "metadata": {},
   "source": [
    "read parameters"
   ]
  },
  {
   "cell_type": "code",
   "execution_count": 3,
   "metadata": {},
   "outputs": [],
   "source": [
    "atoms = io.read(\"./input_data/coord.xyz\")\n",
    "slab_idx = common.get_elem_idxs(atoms, \"Pt\")\n",
    "water_idx = common.get_elem_idxs(atoms, \"O\")"
   ]
  },
  {
   "cell_type": "markdown",
   "metadata": {},
   "source": [
    "pre-read trajectory"
   ]
  },
  {
   "cell_type": "code",
   "execution_count": 4,
   "metadata": {},
   "outputs": [
    {
     "name": "stderr",
     "output_type": "stream",
     "text": [
      "/home/jxzhu/.conda/envs/soap_ana/lib/python3.9/site-packages/MDAnalysis/coordinates/base.py:892: UserWarning: Reader has no dt information, set to 1.0 ps\n",
      "  warnings.warn(\"Reader has no dt information, set to 1.0 ps\")\n"
     ]
    }
   ],
   "source": [
    "u = mda.Universe(\n",
    "    \"./input_data/trajectory.xyz\", all_coordinates=True, format=\"XYZ\", in_memory=True\n",
    ")"
   ]
  },
  {
   "cell_type": "code",
   "execution_count": 48,
   "metadata": {},
   "outputs": [],
   "source": [
    "u = mda.Universe(\n",
    "    \"./input_data/interface.psf\",\n",
    "    all_coordinates=True,\n",
    "    in_memory=True,\n",
    "    dt=0.5,\n",
    "    dimensions=[16.869, 16.869, 41.478, 90, 90, 120],\n",
    ")"
   ]
  },
  {
   "cell_type": "code",
   "execution_count": 68,
   "metadata": {},
   "outputs": [
    {
     "name": "stdout",
     "output_type": "stream",
     "text": [
      "<AtomGroup [<Atom 1: O of type O of resname R1, resid 1 and segid MOL1>, <Atom 2: H of type H of resname R1, resid 1 and segid MOL1>, <Atom 3: H of type H of resname R1, resid 1 and segid MOL1>, ..., <Atom 688: O of type O of resname R1, resid 230 and segid MOL1>, <Atom 689: H of type H of resname R1, resid 230 and segid MOL1>, <Atom 690: H of type H of resname R1, resid 230 and segid MOL1>]>\n"
     ]
    }
   ],
   "source": []
  },
  {
   "cell_type": "markdown",
   "metadata": {},
   "source": [
    "calculate CCF of g and h"
   ]
  },
  {
   "cell_type": "code",
   "execution_count": 16,
   "metadata": {},
   "outputs": [],
   "source": [
    "data = WatAdsCCF(\n",
    "    u.atoms,\n",
    "    cell=[16.869, 16.869, 41.478, 90, 90, 120],\n",
    "    slab_idx=slab_idx,\n",
    "    surf_natoms=36,\n",
    "    water_idx=water_idx,\n",
    ")"
   ]
  },
  {
   "cell_type": "code",
   "execution_count": 17,
   "metadata": {},
   "outputs": [
    {
     "data": {
      "application/vnd.jupyter.widget-view+json": {
       "model_id": "c22474055af5460b9c1095109f0ce984",
       "version_major": 2,
       "version_minor": 0
      },
      "text/plain": [
       "  0%|          | 0/10000 [00:00<?, ?it/s]"
      ]
     },
     "metadata": {},
     "output_type": "display_data"
    },
    {
     "name": "stderr",
     "output_type": "stream",
     "text": [
      "/home/jxzhu/.conda/envs/band-alignment/lib/python3.9/site-packages/statsmodels/tsa/stattools.py:1097: RuntimeWarning: invalid value encountered in true_divide\n",
      "  return cvf / (np.std(x) * np.std(y))\n"
     ]
    }
   ],
   "source": [
    "data.run()"
   ]
  },
  {
   "cell_type": "markdown",
   "metadata": {},
   "source": [
    "plot"
   ]
  },
  {
   "cell_type": "code",
   "execution_count": 36,
   "metadata": {},
   "outputs": [],
   "source": [
    "all_water_g = data.all_water_g\n",
    "all_water_h = data.all_water_h\n",
    "all_water_ccf = []\n",
    "for tmp_data in zip(all_water_h, all_water_g):\n",
    "    if tmp_data[0][0] == 1 and tmp_data[1].max() == 1:\n",
    "        h_i = np.mean(tmp_data[0])\n",
    "        if h_i != 0:\n",
    "            tmp_ccf = ccf(tmp_data[0], tmp_data[1])\n",
    "            tmp_ccf = tmp_ccf / h_i\n",
    "            all_water_ccf.append(tmp_ccf)\n",
    "water_ccf = np.mean(all_water_ccf, axis=0)\n",
    "water_ccf_min = np.min(all_water_ccf, axis=0)\n",
    "water_ccf_max = np.max(all_water_ccf, axis=0)"
   ]
  },
  {
   "cell_type": "code",
   "execution_count": 37,
   "metadata": {},
   "outputs": [
    {
     "data": {
      "image/png": "[encoded data removed]",
      "text/plain": [
       "<Figure size 432x288 with 1 Axes>"
      ]
     },
     "metadata": {
      "needs_background": "light"
     },
     "output_type": "display_data"
    }
   ],
   "source": [
    "fig, ax = plt.subplots()\n",
    "x = np.arange(len(water_ccf))\n",
    "plt.plot(x, water_ccf)\n",
    "ax.fill_between(x, water_ccf_min, water_ccf_max, alpha=0.5, linewidth=0)\n",
    "# plt.xscale(\"log\")\n",
    "# plt.yscale(\"log\")\n",
    "\n",
    "plt.show()"
   ]
  },
  {
   "cell_type": "code",
   "execution_count": null,
   "metadata": {},
   "outputs": [],
   "source": []
  }
 ],
 "metadata": {
  "interpreter": {
   "hash": "27226476483936a9138e17c250b9b838cc6289c7564ef8f1f4b05c238a566661"
  },
  "kernelspec": {
   "display_name": "Python 3.9.7 64-bit ('band-alignment': conda)",
   "language": "python",
   "name": "python3"
  },
  "language_info": {
   "codemirror_mode": {
    "name": "ipython",
    "version": 3
   },
   "file_extension": ".py",
   "mimetype": "text/x-python",
   "name": "python",
   "nbconvert_exporter": "python",
   "pygments_lexer": "ipython3",
   "version": "3.9.7"
  },
  "orig_nbformat": 4
 },
 "nbformat": 4,
 "nbformat_minor": 2
}
