{
  "cells": [
  {
   "cell_type": "markdown",
   "metadata": {},
   "source": [
    "# parallel version of existed methods"
   ]
  },
  {
   "cell_type": "code",
   "execution_count": 1,
   "metadata": {},
   "outputs": [],
   "source": [
    "import MDAnalysis as mda\n",
    "from MDAnalysis import transformations as trans\n",
    "from MDAnalysis.analysis.hydrogenbonds import HydrogenBondAnalysis"
   ]
  },
  {
   "cell_type": "code",
   "execution_count": 2,
   "metadata": {},
   "outputs": [],
   "source": [
    "import dask\n",
    "import dask.multiprocessing\n",
    "\n",
    "dask.config.set(scheduler=\"processes\")\n",
    "from multiprocessing import cpu_count\n",
    "\n",
    "n_jobs = cpu_count()"
   ]
  },
  {
   "cell_type": "code",
   "execution_count": 3,
   "metadata": {},
   "outputs": [],
   "source": [
    "@dask.delayed\n",
    "def run_block(blockslice, ana_base):\n",
    "    \"\"\"\n",
    "    ana_base: object of AnalysisBase Class/Child Class\n",
    "    \"\"\"\n",
    "    # universe.transfer_to_memory(start=blockslice.start, stop=blockslice.stop)\n",
    "    ana_base.run(start=blockslice.start, stop=blockslice.stop, verbose=True)\n",
    "    return ana_base"
   ]
  },
  {
   "cell_type": "code",
   "execution_count": 4,
   "metadata": {},
   "outputs": [],
   "source": [
    "# load Universe\n",
    "# dt in ps\n",
    "u = mda.Universe(\"./input_data/interface.psf\", \"./input_data/trajectory.xyz\", dt=0.025)\n",
    "dim = [16.869, 16.869, 41.478, 90, 90, 120]\n",
    "transform = trans.boxdimensions.set_dimensions(dim)\n",
    "u.trajectory.add_transformations(transform)\n",
    "u.transfer_to_memory(step=100)"
   ]
  },
  {
   "cell_type": "code",
   "execution_count": 5,
   "metadata": {},
   "outputs": [],
   "source": [
    "# init AnalysisBase Class/Child Class\n",
    "\n",
    "hbonds = HydrogenBondAnalysis(\n",
    "    universe=u,\n",
    "    donors_sel=None,\n",
    "    hydrogens_sel=\"name H\",\n",
    "    acceptors_sel=\"name O\",\n",
    "    d_a_cutoff=3.0,\n",
    "    d_h_a_angle_cutoff=150,\n",
    "    update_selections=False,\n",
    ")"
   ]
  },
  {
   "cell_type": "code",
   "execution_count": 6,
   "metadata": {},
   "outputs": [],
   "source": [
    "# generate block\n",
    "n_frames = u.trajectory.n_frames\n",
    "n_blocks = n_jobs  #  it can be any realistic value (0 < n_blocks <= n_jobs)\n",
    "\n",
    "n_frames_per_block = n_frames // n_blocks\n",
    "blocks = [\n",
    "    range(i * n_frames_per_block, (i + 1) * n_frames_per_block)\n",
    "    for i in range(n_blocks - 1)\n",
    "]\n",
    "blocks.append(range((n_blocks - 1) * n_frames_per_block, n_frames))"
   ]
  },
  {
   "cell_type": "code",
   "execution_count": 7,
   "metadata": {},
   "outputs": [
    {
     "data": {
      "text/plain": [
       "[range(0, 3),\n",
       " range(3, 6),\n",
       " range(6, 9),\n",
       " range(9, 12),\n",
       " range(12, 15),\n",
       " range(15, 18),\n",
       " range(18, 21),\n",
       " range(21, 24),\n",
       " range(24, 27),\n",
       " range(27, 30),\n",
       " range(30, 33),\n",
       " range(33, 36),\n",
       " range(36, 39),\n",
       " range(39, 42),\n",
       " range(42, 45),\n",
       " range(45, 48),\n",
       " range(48, 51),\n",
       " range(51, 54),\n",
       " range(54, 57),\n",
       " range(57, 60),\n",
       " range(60, 63),\n",
       " range(63, 66),\n",
       " range(66, 69),\n",
       " range(69, 72),\n",
       " range(72, 75),\n",
       " range(75, 78),\n",
       " range(78, 81),\n",
       " range(81, 84),\n",
       " range(84, 87),\n",
       " range(87, 90),\n",
       " range(90, 93),\n",
       " range(93, 100)]"
      ]
     },
     "execution_count": 7,
     "metadata": {},
     "output_type": "execute_result"
    }
   ],
   "source": [
    "blocks"
   ]
  },
  {
   "cell_type": "code",
   "execution_count": 8,
   "metadata": {},
   "outputs": [],
   "source": [
    "jobs = []\n",
    "for bs in blocks:\n",
    "    jobs.append(run_block(bs, hbonds))\n",
    "jobs = dask.delayed(jobs)"
   ]
  },
  {
   "cell_type": "code",
   "execution_count": 9,
   "metadata": {},
   "outputs": [],
   "source": [
    "results = jobs.compute()"
   ]
  },
  {
   "cell_type": "code",
   "execution_count": 10,
   "metadata": {},
   "outputs": [
    {
     "name": "stdout",
     "output_type": "stream",
     "text": [
      "[<MDAnalysis.analysis.hydrogenbonds.hbond_analysis.HydrogenBondAnalysis object at 0x2b42f2148ee0>, <MDAnalysis.analysis.hydrogenbonds.hbond_analysis.HydrogenBondAnalysis object at 0x2b42f26c82e0>, <MDAnalysis.analysis.hydrogenbonds.hbond_analysis.HydrogenBondAnalysis object at 0x2b42f2736ee0>, <MDAnalysis.analysis.hydrogenbonds.hbond_analysis.HydrogenBondAnalysis object at 0x2b42cb778bb0>, <MDAnalysis.analysis.hydrogenbonds.hbond_analysis.HydrogenBondAnalysis object at 0x2b42f2287b80>, <MDAnalysis.analysis.hydrogenbonds.hbond_analysis.HydrogenBondAnalysis object at 0x2b42f23b97c0>, <MDAnalysis.analysis.hydrogenbonds.hbond_analysis.HydrogenBondAnalysis object at 0x2b42f2825400>, <MDAnalysis.analysis.hydrogenbonds.hbond_analysis.HydrogenBondAnalysis object at 0x2b42f28e8040>, <MDAnalysis.analysis.hydrogenbonds.hbond_analysis.HydrogenBondAnalysis object at 0x2b43131afc40>, <MDAnalysis.analysis.hydrogenbonds.hbond_analysis.HydrogenBondAnalysis object at 0x2b42f2364880>, <MDAnalysis.analysis.hydrogenbonds.hbond_analysis.HydrogenBondAnalysis object at 0x2b42f265e4c0>, <MDAnalysis.analysis.hydrogenbonds.hbond_analysis.HydrogenBondAnalysis object at 0x2b42f20d9100>, <MDAnalysis.analysis.hydrogenbonds.hbond_analysis.HydrogenBondAnalysis object at 0x2b42f244ad00>, <MDAnalysis.analysis.hydrogenbonds.hbond_analysis.HydrogenBondAnalysis object at 0x2b42f25d5790>, <MDAnalysis.analysis.hydrogenbonds.hbond_analysis.HydrogenBondAnalysis object at 0x2b43131e6580>, <MDAnalysis.analysis.hydrogenbonds.hbond_analysis.HydrogenBondAnalysis object at 0x2b43132b51c0>, <MDAnalysis.analysis.hydrogenbonds.hbond_analysis.HydrogenBondAnalysis object at 0x2b431337fdc0>, <MDAnalysis.analysis.hydrogenbonds.hbond_analysis.HydrogenBondAnalysis object at 0x2b431344ea00>, <MDAnalysis.analysis.hydrogenbonds.hbond_analysis.HydrogenBondAnalysis object at 0x2b431351c640>, <MDAnalysis.analysis.hydrogenbonds.hbond_analysis.HydrogenBondAnalysis object at 0x2b43135ea280>, <MDAnalysis.analysis.hydrogenbonds.hbond_analysis.HydrogenBondAnalysis object at 0x2b43136b0e80>, <MDAnalysis.analysis.hydrogenbonds.hbond_analysis.HydrogenBondAnalysis object at 0x2b431377eac0>, <MDAnalysis.analysis.hydrogenbonds.hbond_analysis.HydrogenBondAnalysis object at 0x2b431384d700>, <MDAnalysis.analysis.hydrogenbonds.hbond_analysis.HydrogenBondAnalysis object at 0x2b431391c340>, <MDAnalysis.analysis.hydrogenbonds.hbond_analysis.HydrogenBondAnalysis object at 0x2b43139e7f40>, <MDAnalysis.analysis.hydrogenbonds.hbond_analysis.HydrogenBondAnalysis object at 0x2b4313ab4bb0>, <MDAnalysis.analysis.hydrogenbonds.hbond_analysis.HydrogenBondAnalysis object at 0x2b4313b837f0>, <MDAnalysis.analysis.hydrogenbonds.hbond_analysis.HydrogenBondAnalysis object at 0x2b4313c50430>, <MDAnalysis.analysis.hydrogenbonds.hbond_analysis.HydrogenBondAnalysis object at 0x2b4313d1f070>, <MDAnalysis.analysis.hydrogenbonds.hbond_analysis.HydrogenBondAnalysis object at 0x2b4313decc70>, <MDAnalysis.analysis.hydrogenbonds.hbond_analysis.HydrogenBondAnalysis object at 0x2b4313eb98b0>, <MDAnalysis.analysis.hydrogenbonds.hbond_analysis.HydrogenBondAnalysis object at 0x2b4313f884f0>]\n"
     ]
    }
   ],
   "source": [
    "print(results)"
   ]
  },
  {
   "cell_type": "code",
   "execution_count": 11,
   "metadata": {},
   "outputs": [
    {
     "name": "stdout",
     "output_type": "stream",
     "text": [
      "(983, 6)\n",
      "[  0.           0.           1.         255.           2.70921881\n",
      " 166.55259568]\n",
      "(974, 6)\n",
      "[  3.           0.           1.         198.           2.65063608\n",
      " 155.77706696]\n",
      "(969, 6)\n",
      "[  6.           0.           1.         513.           2.92825451\n",
      " 153.58767113]\n",
      "(966, 6)\n",
      "[  9.           0.           1.         513.           2.81667349\n",
      " 171.6934334 ]\n",
      "(955, 6)\n",
      "[ 12.           0.           1.         513.           2.69279955\n",
      " 169.08156004]\n",
      "(942, 6)\n",
      "[ 15.           0.           1.         513.           2.43899452\n",
      " 160.60167188]\n",
      "(929, 6)\n",
      "[ 18.           0.           1.         513.           2.79956476\n",
      " 170.16176062]\n",
      "(945, 6)\n",
      "[ 21.           0.           1.         513.           2.74496718\n",
      " 156.04001763]\n",
      "(905, 6)\n",
      "[ 24.           3.           4.         525.           2.79053378\n",
      " 165.0141109 ]\n",
      "(904, 6)\n",
      "[ 27.           0.           1.         375.           2.6898757\n",
      " 160.80315588]\n",
      "(915, 6)\n",
      "[ 30.           0.           1.          84.           2.70264433\n",
      " 157.42995399]\n",
      "(918, 6)\n",
      "[ 33.           0.           1.         402.           2.77914505\n",
      " 155.7243637 ]\n",
      "(903, 6)\n",
      "[ 36.           0.           1.          66.           2.83782792\n",
      " 157.00805306]\n",
      "(899, 6)\n",
      "[ 39.           0.           1.         555.           2.94525688\n",
      " 158.41094606]\n",
      "(908, 6)\n",
      "[ 42.           0.           1.         624.           2.98114518\n",
      " 155.99058162]\n",
      "(940, 6)\n",
      "[ 45.           3.           4.         525.           2.71027399\n",
      " 150.99831951]\n",
      "(937, 6)\n",
      "[ 48.           0.           1.         429.           2.48269016\n",
      " 177.16915317]\n",
      "(901, 6)\n",
      "[ 51.           0.           2.         606.           2.95920273\n",
      " 172.17889575]\n",
      "(945, 6)\n",
      "[ 54.           0.           1.          39.           2.78632242\n",
      " 160.28424998]\n",
      "(925, 6)\n",
      "[ 57.           0.           1.         606.           2.77049644\n",
      " 163.00437382]\n",
      "(939, 6)\n",
      "[ 60.           0.           2.         429.           2.55443972\n",
      " 153.69047066]\n",
      "(932, 6)\n",
      "[ 63.           0.           1.         678.           2.69486675\n",
      " 152.07214983]\n",
      "(952, 6)\n",
      "[ 66.           0.           1.         678.           2.96937878\n",
      " 159.22424963]\n",
      "(927, 6)\n",
      "[ 69.           0.           2.         678.           2.69580933\n",
      " 160.44451862]\n",
      "(917, 6)\n",
      "[ 72.           0.           1.          48.           2.84940649\n",
      " 166.15728614]\n",
      "(946, 6)\n",
      "[ 75.           0.           1.          48.           2.85381228\n",
      " 168.00688311]\n",
      "(940, 6)\n",
      "[ 78.           0.           2.         678.           2.74903304\n",
      " 159.13292766]\n",
      "(940, 6)\n",
      "[ 81.           3.           4.          15.           2.86837493\n",
      " 168.50890201]\n",
      "(948, 6)\n",
      "[ 84.           0.           1.         633.           2.67720433\n",
      " 170.06252846]\n",
      "(913, 6)\n",
      "[ 87.           0.           1.         633.           2.87212952\n",
      " 169.35912901]\n",
      "(942, 6)\n",
      "[ 90.           3.           4.         378.           2.70929678\n",
      " 166.77282567]\n",
      "(2232, 6)\n",
      "[ 93.           0.           1.         633.           2.87214282\n",
      " 163.77132288]\n"
     ]
    }
   ],
   "source": [
    "for tmp_ana_base in results:\n",
    "    print(tmp_ana_base.results.hbonds.shape)\n",
    "    print(tmp_ana_base.results.hbonds[0])"
   ]
  },
  {
   "cell_type": "markdown",
   "metadata": {},
   "source": [
    "# PMDA method"
   ]
  },
  {
   "cell_type": "code",
   "execution_count": 3,
   "metadata": {},
   "outputs": [],
   "source": [
    "import MDAnalysis as mda\n",
    "from MDAnalysis import transformations as trans\n",
    "from pmda.hbond_analysis import HydrogenBondAnalysis as HBA"
   ]
  },
  {
   "cell_type": "code",
   "execution_count": 4,
   "metadata": {},
   "outputs": [],
   "source": [
    "# load Universe\n",
    "# dt in ps\n",
    "u = mda.Universe(\"./input_data/interface.psf\", \"./input_data/trajectory.xyz\", dt=0.025)\n",
    "dim = [16.869, 16.869, 41.478, 90, 90, 120]\n",
    "transform = trans.boxdimensions.set_dimensions(dim)\n",
    "u.trajectory.add_transformations(transform)\n",
    "u.transfer_to_memory(step=100)"
   ]
  },
  {
   "cell_type": "code",
   "execution_count": 5,
   "metadata": {},
   "outputs": [
    {
     "name": "stderr",
     "output_type": "stream",
     "text": [
      "/bigdata/jxzhu/205/software/pmda/pmda/parallel.py:342: UserWarning: Couldn't guess ideal number of blocks from scheduler. Setting n_blocks=1. Please provide `n_blocks` in call to method.\n",
      "  warnings.warn(\n",
      "/home/jxzhu/.conda/envs/band-alignment/lib/python3.9/site-packages/MDAnalysis/coordinates/base.py:892: UserWarning: Reader has no dt information, set to 1.0 ps\n",
      "  warnings.warn(\"Reader has no dt information, set to 1.0 ps\")\n"
     ]
    },
    {
     "data": {
      "text/plain": [
       "<pmda.hbond_analysis.HydrogenBondAnalysis at 0x2b621cb8a1f0>"
      ]
     },
     "execution_count": 5,
     "metadata": {},
     "output_type": "execute_result"
    }
   ],
   "source": [
    "hbonds = HBA(\n",
    "    universe=u,\n",
    "    donors_sel=None,\n",
    "    hydrogens_sel=\"name H\",\n",
    "    acceptors_sel=\"name O\",\n",
    "    d_a_cutoff=3.0,\n",
    "    d_h_a_angle_cutoff=150,\n",
    "    update_selections=False,\n",
    ")\n",
    "hbonds.run()"
   ]
  },
  {
   "cell_type": "code",
   "execution_count": 8,
   "metadata": {},
   "outputs": [
    {
     "data": {
      "text/plain": [
       "array([[  0.        , 222.        , 224.        , 624.        ,\n",
       "          2.88494294, 175.89718408],\n",
       "       [  0.        , 267.        , 269.        , 372.        ,\n",
       "          2.8500115 , 175.72556292],\n",
       "       [  0.        , 273.        , 274.        , 288.        ,\n",
       "          2.80944372, 168.00890198],\n",
       "       ...,\n",
       "       [ 99.        , 525.        , 526.        , 111.        ,\n",
       "          2.68186619, 155.81009783],\n",
       "       [ 99.        , 606.        , 607.        , 447.        ,\n",
       "          2.97852013, 174.09155883],\n",
       "       [ 99.        , 666.        , 667.        , 375.        ,\n",
       "          2.5786764 , 154.1403947 ]])"
      ]
     },
     "execution_count": 8,
     "metadata": {},
     "output_type": "execute_result"
    }
   ],
   "source": [
    "hbonds.hbonds"
   ]
  },
  {
   "cell_type": "code",
   "execution_count": null,
   "metadata": {},
   "outputs": [],
   "source": []
  }
 ],
 "metadata": {
  "interpreter": {
   "hash": "27226476483936a9138e17c250b9b838cc6289c7564ef8f1f4b05c238a566661"
  },
  "kernelspec": {
   "display_name": "Python 3.9.7 64-bit ('band-alignment': conda)",
   "language": "python",
   "name": "python3"
  },
  "language_info": {
   "codemirror_mode": {
    "name": "ipython",
    "version": 3
   },
   "file_extension": ".py",
   "mimetype": "text/x-python",
   "name": "python",
   "nbconvert_exporter": "python",
   "pygments_lexer": "ipython3",
   "version": "3.9.7"
  },
  "orig_nbformat": 4
 },
 "nbformat": 4,
 "nbformat_minor": 2
}
