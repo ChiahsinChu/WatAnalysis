{
 "cells": [
  {
   "cell_type": "code",
   "execution_count": 1,
   "metadata": {},
   "outputs": [],
   "source": [
    "import numpy as np\n",
    "from ase import io"
   ]
  },
  {
   "cell_type": "code",
   "execution_count": 2,
   "metadata": {},
   "outputs": [],
   "source": [
    "from WatAnalysis.hbonds import postprocess"
   ]
  },
  {
   "cell_type": "markdown",
   "metadata": {},
   "source": [
    "# structure check"
   ]
  },
  {
   "cell_type": "code",
   "execution_count": null,
   "metadata": {},
   "outputs": [],
   "source": [
    "data = np.load(\"./hbonds.npy\")[:76]"
   ]
  },
  {
   "cell_type": "code",
   "execution_count": null,
   "metadata": {},
   "outputs": [],
   "source": [
    "sel_ids = np.unique(data[:,1:3])\n",
    "atoms = io.read(\"../input_data/coord.xyz\")\n",
    "for atom in atoms:\n",
    "    if atom.index in sel_ids:\n",
    "        if atom.symbol == \"O\":\n",
    "            if atom.position[2] > 20:\n",
    "                atom.symbol = 'S'\n",
    "            else:\n",
    "                atom.symbol = 'Se'\n",
    "        else:\n",
    "            if atom.position[2] > 20:\n",
    "                atom.symbol = 'Li'\n",
    "            else:\n",
    "                atom.symbol = 'Na'\n",
    "print(atoms)\n",
    "io.write(\"./coord.xyz\", atoms)"
   ]
  },
  {
   "cell_type": "markdown",
   "metadata": {},
   "source": [
    "# postprocessing"
   ]
  },
  {
   "cell_type": "code",
   "execution_count": 3,
   "metadata": {},
   "outputs": [],
   "source": [
    "data = np.load(\"./hbonds.npy\")"
   ]
  },
  {
   "cell_type": "code",
   "execution_count": 4,
   "metadata": {},
   "outputs": [],
   "source": [
    "postprocess.get_graphs(data, \"./output\")"
   ]
  },
  {
   "cell_type": "code",
   "execution_count": null,
   "metadata": {},
   "outputs": [],
   "source": []
  }
 ],
 "metadata": {
  "interpreter": {
   "hash": "27226476483936a9138e17c250b9b838cc6289c7564ef8f1f4b05c238a566661"
  },
  "kernelspec": {
   "display_name": "Python 3.9.7 ('band-alignment')",
   "language": "python",
   "name": "python3"
  },
  "language_info": {
   "codemirror_mode": {
    "name": "ipython",
    "version": 3
   },
   "file_extension": ".py",
   "mimetype": "text/x-python",
   "name": "python",
   "nbconvert_exporter": "python",
   "pygments_lexer": "ipython3",
   "version": "3.9.7"
  },
  "orig_nbformat": 4
 },
 "nbformat": 4,
 "nbformat_minor": 2
}
