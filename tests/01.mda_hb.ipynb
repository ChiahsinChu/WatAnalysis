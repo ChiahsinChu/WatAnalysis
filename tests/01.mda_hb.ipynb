{
 "cells": [
  {
   "cell_type": "markdown",
   "metadata": {},
   "source": [
    "# examples"
   ]
  },
  {
   "cell_type": "code",
   "execution_count": 1,
   "metadata": {},
   "outputs": [],
   "source": [
    "import pickle\n",
    "import numpy as np\n",
    "np.set_printoptions(linewidth=100)\n",
    "import pandas as pd\n",
    "\n",
    "import matplotlib.pyplot as plt\n",
    "\n",
    "import MDAnalysis as mda\n",
    "from MDAnalysis.tests.datafiles import waterPSF, waterDCD\n",
    "from MDAnalysis.analysis.hydrogenbonds import HydrogenBondAnalysis\n",
    "\n",
    "# the next line is necessary to display plots in Jupyter\n",
    "%matplotlib inline"
   ]
  },
  {
   "cell_type": "code",
   "execution_count": 2,
   "metadata": {},
   "outputs": [],
   "source": [
    "u = mda.Universe(waterPSF, waterDCD)"
   ]
  },
  {
   "cell_type": "code",
   "execution_count": 3,
   "metadata": {},
   "outputs": [],
   "source": [
    "hbonds = HydrogenBondAnalysis(\n",
    "    universe=u,\n",
    "    donors_sel=None,\n",
    "    hydrogens_sel=\"name H1 H2\",\n",
    "    acceptors_sel=\"name OH2\",\n",
    "    d_a_cutoff=3.0,\n",
    "    d_h_a_angle_cutoff=150,\n",
    "    update_selections=False\n",
    ")"
   ]
  },
  {
   "cell_type": "code",
   "execution_count": 4,
   "metadata": {},
   "outputs": [
    {
     "data": {
      "application/vnd.jupyter.widget-view+json": {
       "model_id": "55ee44a66df640f9a16af6b98f571b83",
       "version_major": 2,
       "version_minor": 0
      },
      "text/plain": [
       "  0%|          | 0/10 [00:00<?, ?it/s]"
      ]
     },
     "metadata": {},
     "output_type": "display_data"
    },
    {
     "data": {
      "text/plain": [
       "<MDAnalysis.analysis.hydrogenbonds.hbond_analysis.HydrogenBondAnalysis at 0x2b7a54b90430>"
      ]
     },
     "execution_count": 4,
     "metadata": {},
     "output_type": "execute_result"
    }
   ],
   "source": [
    "hbonds.run(\n",
    "    start=None,\n",
    "    stop=None,\n",
    "    step=None,\n",
    "    verbose=True\n",
    ")"
   ]
  },
  {
   "cell_type": "code",
   "execution_count": 5,
   "metadata": {},
   "outputs": [
    {
     "name": "stdout",
     "output_type": "stream",
     "text": [
      "(27, 6)\n"
     ]
    }
   ],
   "source": [
    "# We see there are 27 hydrogen bonds in total\n",
    "print(hbonds.results.hbonds.shape)"
   ]
  },
  {
   "cell_type": "code",
   "execution_count": 6,
   "metadata": {},
   "outputs": [
    {
     "name": "stdout",
     "output_type": "stream",
     "text": [
      "[  0.           9.          10.           3.           2.82744082 150.48955173]\n"
     ]
    }
   ],
   "source": [
    "print(hbonds.results.hbonds[0])"
   ]
  },
  {
   "cell_type": "code",
   "execution_count": 7,
   "metadata": {},
   "outputs": [
    {
     "data": {
      "text/plain": [
       "dtype('float64')"
      ]
     },
     "execution_count": 7,
     "metadata": {},
     "output_type": "execute_result"
    }
   ],
   "source": [
    "hbonds.results.hbonds.dtype"
   ]
  },
  {
   "cell_type": "code",
   "execution_count": 8,
   "metadata": {},
   "outputs": [],
   "source": [
    "first_hbond = hbonds.results.hbonds[0]"
   ]
  },
  {
   "cell_type": "code",
   "execution_count": 9,
   "metadata": {},
   "outputs": [],
   "source": [
    "frame, donor_ix, hydrogen_ix, acceptor_ix = first_hbond[:4].astype(int)"
   ]
  },
  {
   "cell_type": "code",
   "execution_count": 10,
   "metadata": {},
   "outputs": [],
   "source": [
    "# select the correct frame and the atoms involved in the hydrogen bond\n",
    "u.trajectory[frame]\n",
    "atoms = u.atoms[[donor_ix, hydrogen_ix, acceptor_ix]]"
   ]
  },
  {
   "cell_type": "code",
   "execution_count": 11,
   "metadata": {},
   "outputs": [
    {
     "data": {
      "image/png": "[encoded data removed]",
      "text/plain": [
       "<Figure size 432x288 with 1 Axes>"
      ]
     },
     "metadata": {
      "needs_background": "light"
     },
     "output_type": "display_data"
    }
   ],
   "source": [
    "plt.plot(hbonds.times, hbonds.count_by_time(), lw=2)\n",
    "\n",
    "plt.title(\"Number of hydrogon bonds over time\", weight=\"bold\")\n",
    "plt.xlabel(\"Time (ps)\")\n",
    "plt.ylabel(r\"$N_{HB}$\")\n",
    "\n",
    "plt.show()"
   ]
  },
  {
   "cell_type": "code",
   "execution_count": 13,
   "metadata": {},
   "outputs": [
    {
     "data": {
      "text/plain": [
       "array([[12, 14,  9, 10],\n",
       "       [ 9, 10,  3,  9],\n",
       "       [ 3,  5,  0,  4],\n",
       "       [ 0,  1,  6,  3],\n",
       "       [ 6,  7, 12,  1]])"
      ]
     },
     "execution_count": 13,
     "metadata": {},
     "output_type": "execute_result"
    }
   ],
   "source": [
    "hbonds.count_by_ids()"
   ]
  },
  {
   "cell_type": "code",
   "execution_count": 14,
   "metadata": {},
   "outputs": [
    {
     "name": "stdout",
     "output_type": "stream",
     "text": [
      "Most common donor: <Atom 13: OH2 of type OT of resname TIP3, resid 21 and segid WAT>\n",
      "Most common hydrogen: <Atom 15: H2 of type HT of resname TIP3, resid 21 and segid WAT>\n",
      "Most common acceptor: <Atom 10: OH2 of type OT of resname TIP3, resid 15 and segid WAT>\n"
     ]
    }
   ],
   "source": [
    "counts = hbonds.count_by_ids()\n",
    "most_common = counts[0]\n",
    "\n",
    "print(f\"Most common donor: {u.atoms[most_common[0]]}\")\n",
    "print(f\"Most common hydrogen: {u.atoms[most_common[1]]}\")\n",
    "print(f\"Most common acceptor: {u.atoms[most_common[2]]}\")\n"
   ]
  },
  {
   "cell_type": "code",
   "execution_count": 15,
   "metadata": {},
   "outputs": [],
   "source": [
    "# bins in z for the histogram\n",
    "bin_edges = np.linspace(-25, 25, 51)\n",
    "bin_centers = bin_edges[:-1] + 0.5\n",
    "\n",
    "# results array (this is faster and more memory efficient than appending to a list)\n",
    "counts = np.full(bin_centers.size, fill_value=0.0)"
   ]
  },
  {
   "cell_type": "code",
   "execution_count": 16,
   "metadata": {},
   "outputs": [],
   "source": [
    "for frame, donor_ix, *_ in hbonds.hbonds:\n",
    "    \n",
    "    u.trajectory[frame.astype(int)]\n",
    "    donor = u.atoms[donor_ix.astype(int)]\n",
    "\n",
    "    zpos = donor.position[2]\n",
    "    hist, *_ = np.histogram(zpos, bins=bin_edges)\n",
    "    counts += hist * 2  # multiply by two as each hydrogen bond involves two water molecules\n",
    "\n",
    "counts /= hbonds.n_frames"
   ]
  },
  {
   "cell_type": "code",
   "execution_count": 17,
   "metadata": {},
   "outputs": [
    {
     "data": {
      "image/png": "[encoded data removed]",
      "text/plain": [
       "<Figure size 432x288 with 1 Axes>"
      ]
     },
     "metadata": {
      "needs_background": "light"
     },
     "output_type": "display_data"
    }
   ],
   "source": [
    "plt.plot(bin_centers, counts, lw=2)\n",
    "\n",
    "plt.title(r\"Number of hydrogen bonds as a funcion of height in $z$\", weight=\"bold\")\n",
    "plt.xlabel(r\"$z\\ \\rm (\\AA)$\")\n",
    "plt.ylabel(r\"$N_{HB}$\")\n",
    "\n",
    "plt.show()"
   ]
  },
  {
   "cell_type": "code",
   "execution_count": 18,
   "metadata": {},
   "outputs": [],
   "source": [
    "mean_xy_area = np.mean(\n",
    "    [np.product(ts.dimensions[:2]) for ts in u.trajectory[hbonds.frames]]\n",
    ")\n",
    "counts /= mean_xy_area"
   ]
  },
  {
   "cell_type": "markdown",
   "metadata": {},
   "source": [
    "# my data"
   ]
  },
  {
   "cell_type": "code",
   "execution_count": 31,
   "metadata": {},
   "outputs": [],
   "source": [
    "import MDAnalysis as mda\n",
    "from MDAnalysis import transformations as trans\n",
    "from MDAnalysis.analysis.hydrogenbonds import HydrogenBondAnalysis\n",
    "\n",
    "import numpy as np\n",
    "import matplotlib.pyplot as plt"
   ]
  },
  {
   "cell_type": "code",
   "execution_count": 44,
   "metadata": {},
   "outputs": [],
   "source": [
    "# dt in ps\n",
    "u = mda.Universe(\"./input_data/interface.psf\",\n",
    "                 \"./input_data/trajectory.xyz\",\n",
    "                 dt=0.025)\n",
    "dim = [16.869, 16.869, 41.478, 90, 90, 120]\n",
    "transform = trans.boxdimensions.set_dimensions(dim)\n",
    "u.trajectory.add_transformations(transform)\n",
    "\n",
    "u.transfer_to_memory(step=10)"
   ]
  },
  {
   "cell_type": "code",
   "execution_count": 9,
   "metadata": {},
   "outputs": [
    {
     "name": "stdout",
     "output_type": "stream",
     "text": [
      "<AtomGroup [<Atom 1: O of type O of resname R1, resid 1 and segid MOL1>, <Atom 2: H of type H of resname R1, resid 1 and segid MOL1>, <Atom 3: H of type H of resname R1, resid 1 and segid MOL1>, ..., <Atom 688: O of type O of resname R1, resid 230 and segid MOL1>, <Atom 689: H of type H of resname R1, resid 230 and segid MOL1>, <Atom 690: H of type H of resname R1, resid 230 and segid MOL1>]>\n"
     ]
    }
   ],
   "source": [
    "u_wat = u.select_atoms(\"resname R1\")\n",
    "print(u_wat)"
   ]
  },
  {
   "cell_type": "code",
   "execution_count": 45,
   "metadata": {},
   "outputs": [],
   "source": [
    "hbonds = HydrogenBondAnalysis(\n",
    "    universe=u,\n",
    "    donors_sel=None,\n",
    "    hydrogens_sel=\"name H\",\n",
    "    acceptors_sel=\"name O\",\n",
    "    d_a_cutoff=3.0,\n",
    "    d_h_a_angle_cutoff=150,\n",
    "    update_selections=False\n",
    ")"
   ]
  },
  {
   "cell_type": "code",
   "execution_count": 46,
   "metadata": {},
   "outputs": [
    {
     "data": {
      "application/vnd.jupyter.widget-view+json": {
       "model_id": "0eff29ace13544f3966d4f6ae4d53f34",
       "version_major": 2,
       "version_minor": 0
      },
      "text/plain": [
       "  0%|          | 0/1000 [00:00<?, ?it/s]"
      ]
     },
     "metadata": {},
     "output_type": "display_data"
    },
    {
     "data": {
      "text/plain": [
       "<MDAnalysis.analysis.hydrogenbonds.hbond_analysis.HydrogenBondAnalysis at 0x2b68ff83f610>"
      ]
     },
     "execution_count": 46,
     "metadata": {},
     "output_type": "execute_result"
    }
   ],
   "source": [
    "hbonds.run(\n",
    "    start=None,\n",
    "    stop=None,\n",
    "    step=None,\n",
    "    verbose=True\n",
    ")"
   ]
  },
  {
   "cell_type": "code",
   "execution_count": 40,
   "metadata": {},
   "outputs": [
    {
     "name": "stdout",
     "output_type": "stream",
     "text": [
      "(312569, 6)\n"
     ]
    }
   ],
   "source": [
    "print(hbonds.results.hbonds.shape)"
   ]
  },
  {
   "cell_type": "code",
   "execution_count": 41,
   "metadata": {},
   "outputs": [
    {
     "name": "stdout",
     "output_type": "stream",
     "text": [
      "[  0.           0.           1.         255.           2.70921881 166.55259568]\n"
     ]
    }
   ],
   "source": [
    "# [frame, donor_index, hydrogen_index, acceptor_index, DA_distance, DHA_angle]\n",
    "print(hbonds.results.hbonds[0])"
   ]
  },
  {
   "cell_type": "code",
   "execution_count": 25,
   "metadata": {},
   "outputs": [],
   "source": [
    "# bins in z for the histogram\n",
    "bin_edges = np.arange(0, 41.478, 0.1)\n",
    "bin_centers = bin_edges[:-1] + 0.05\n",
    "\n",
    "# results array (this is faster and more memory efficient than appending to a list)\n",
    "counts = np.zeros(bin_centers.size)"
   ]
  },
  {
   "cell_type": "code",
   "execution_count": 26,
   "metadata": {},
   "outputs": [
    {
     "name": "stderr",
     "output_type": "stream",
     "text": [
      "/home/jxzhu/.conda/envs/band-alignment/lib/python3.9/site-packages/MDAnalysis/analysis/hydrogenbonds/hbond_analysis.py:662: DeprecationWarning: The `hbonds` attribute was deprecated in MDAnalysis 2.0.0 and will be removed in MDAnalysis 3.0.0. Please use `results.hbonds` instead.\n",
      "  warnings.warn(wmsg, DeprecationWarning)\n"
     ]
    }
   ],
   "source": [
    "for frame, donor_ix, *_ in hbonds.hbonds:\n",
    "    \n",
    "    u.trajectory[frame.astype(int)]\n",
    "    donor = u.atoms[donor_ix.astype(int)]\n",
    "\n",
    "    zpos = donor.position[2]\n",
    "    hist, *_ = np.histogram(zpos, bins=bin_edges)\n",
    "    counts += hist * 2  # multiply by two as each hydrogen bond involves two water molecules\n",
    "\n",
    "counts /= hbonds.n_frames"
   ]
  },
  {
   "cell_type": "code",
   "execution_count": 28,
   "metadata": {},
   "outputs": [
    {
     "data": {
      "image/png": "[encoded data removed]",
      "text/plain": [
       "<Figure size 720x216 with 1 Axes>"
      ]
     },
     "metadata": {
      "needs_background": "light"
     },
     "output_type": "display_data"
    }
   ],
   "source": [
    "fig = plt.figure(figsize=(10, 3))\n",
    "\n",
    "plt.plot(bin_centers, counts, lw=2)\n",
    "\n",
    "plt.title(r\"Number of hydrogen bonds as a funcion of height in $z$\", weight=\"bold\")\n",
    "plt.xlabel(r\"$z\\ \\rm (\\AA)$\")\n",
    "plt.ylabel(r\"$N_{HB}$\")\n",
    "\n",
    "plt.show()\n"
   ]
  },
  {
   "cell_type": "code",
   "execution_count": 47,
   "metadata": {},
   "outputs": [],
   "source": [
    "tau_max = 25\n",
    "window_step = 1\n",
    "tau_frames, hbond_lifetime = hbonds.lifetime(\n",
    "    tau_max=tau_max,\n",
    "    window_step=window_step\n",
    ")"
   ]
  },
  {
   "cell_type": "code",
   "execution_count": 48,
   "metadata": {},
   "outputs": [
    {
     "data": {
      "image/png": "[encoded data removed]",
      "text/plain": [
       "<Figure size 432x288 with 1 Axes>"
      ]
     },
     "metadata": {
      "needs_background": "light"
     },
     "output_type": "display_data"
    }
   ],
   "source": [
    "tau_times = tau_frames * u.trajectory.dt\n",
    "plt.plot(tau_times, hbond_lifetime, lw=2)\n",
    "\n",
    "plt.title(r\"Hydrogen bond lifetime\", weight=\"bold\")\n",
    "plt.xlabel(r\"$\\tau\\ \\rm (ps)$\")\n",
    "plt.ylabel(r\"$C(\\tau)$\")\n",
    "\n",
    "plt.show()"
   ]
  },
  {
   "cell_type": "code",
   "execution_count": 49,
   "metadata": {},
   "outputs": [],
   "source": [
    "def fit_biexponential(tau_timeseries, ac_timeseries):\n",
    "    \"\"\"Fit a biexponential function to a hydrogen bond time autocorrelation function\n",
    "\n",
    "    Return the two time constants\n",
    "    \"\"\"\n",
    "    from scipy.optimize import curve_fit\n",
    "\n",
    "    def model(t, A, tau1, B, tau2):\n",
    "        \"\"\"Fit data to a biexponential function.\n",
    "        \"\"\"\n",
    "        return A * np.exp(-t / tau1) + B * np.exp(-t / tau2)\n",
    "\n",
    "    params, params_covariance = curve_fit(model, tau_timeseries, ac_timeseries, [1, 0.5, 1, 2])\n",
    "\n",
    "    fit_t = np.linspace(tau_timeseries[0], tau_timeseries[-1], 1000)\n",
    "    fit_ac = model(fit_t, *params)\n",
    "\n",
    "    return params, fit_t, fit_ac"
   ]
  },
  {
   "cell_type": "code",
   "execution_count": 53,
   "metadata": {},
   "outputs": [],
   "source": [
    "params, fit_t, fit_ac = fit_biexponential(tau_times, hbond_lifetime)"
   ]
  },
  {
   "cell_type": "code",
   "execution_count": 54,
   "metadata": {},
   "outputs": [
    {
     "data": {
      "image/png": "[encoded data removed]",
      "text/plain": [
       "<Figure size 432x288 with 1 Axes>"
      ]
     },
     "metadata": {
      "needs_background": "light"
     },
     "output_type": "display_data"
    }
   ],
   "source": [
    "# Plot the fit\n",
    "plt.plot(tau_times, hbond_lifetime, label=\"data\")\n",
    "plt.plot(fit_t, fit_ac, label=\"fit\")\n",
    "\n",
    "plt.title(r\"Hydrogen bond lifetime\", weight=\"bold\")\n",
    "plt.xlabel(r\"$\\tau\\ \\rm (ps)$\")\n",
    "plt.ylabel(r\"$C(\\tau)$\")\n",
    "\n",
    "plt.legend()\n",
    "plt.show()"
   ]
  },
  {
   "cell_type": "code",
   "execution_count": 55,
   "metadata": {},
   "outputs": [
    {
     "name": "stdout",
     "output_type": "stream",
     "text": [
      "time_constant = 1.18 ps\n"
     ]
    }
   ],
   "source": [
    "# Check the decay time constant\n",
    "A, tau1, B, tau2 = params\n",
    "time_constant = A * tau1 + B * tau2\n",
    "print(f\"time_constant = {time_constant:.2f} ps\")\n"
   ]
  },
  {
   "cell_type": "code",
   "execution_count": null,
   "metadata": {},
   "outputs": [],
   "source": []
  }
 ],
 "metadata": {
  "kernelspec": {
   "display_name": "Python 3.6.2 ('gnn')",
   "language": "python",
   "name": "python3"
  },
  "language_info": {
   "codemirror_mode": {
    "name": "ipython",
    "version": 3
   },
   "file_extension": ".py",
   "mimetype": "text/x-python",
   "name": "python",
   "nbconvert_exporter": "python",
   "pygments_lexer": "ipython3",
   "version": "3.6.2"
  },
  "orig_nbformat": 4,
  "vscode": {
   "interpreter": {
    "hash": "172c3a2c9fc0a69ea4b41b8f174cd64f800e50635c1e4c9ff15d5d219655201d"
   }
  }
 },
 "nbformat": 4,
 "nbformat_minor": 2
}
