{
 "cells": [
  {
   "cell_type": "code",
   "execution_count": 1,
   "id": "3f959d04-83b8-4dc2-b77f-d706c6524b4b",
   "metadata": {},
   "outputs": [],
   "source": [
    "import numpy as np\n",
    "import matplotlib.pyplot as plt\n",
    "import matplotlib as mpl\n",
    "\n",
    "%matplotlib inline\n",
    "%config InlineBackend.figure_format = 'svg'"
   ]
  },
  {
   "cell_type": "code",
   "execution_count": 2,
   "id": "19bdd9fc-a0b8-44bf-a0a1-25533cdb1b76",
   "metadata": {},
   "outputs": [],
   "source": [
    "mpl.rc('lines', linewidth=1, color='black')\n",
    "mpl.rcParams['font.family'] = 'serif'\n",
    "mpl.rcParams['font.serif'] = ['Times New Roman'] + mpl.rcParams['font.serif']\n",
    "font = {'weight': 'normal', 'size': 15}\n",
    "mpl.rc('font', **font)  # pass in the font dict as kwargs\n",
    "lw = 2\n",
    "fs = 12"
   ]
  },
  {
   "cell_type": "code",
   "execution_count": 3,
   "id": "3dc0c074-6c7b-4e86-be21-3ee6245d3a54",
   "metadata": {},
   "outputs": [
    {
     "name": "stderr",
     "output_type": "stream",
     "text": [
      "/data/home/jxzhu/.conda/envs/gnn/lib/python3.9/site-packages/tqdm/auto.py:22: TqdmWarning: IProgress not found. Please update jupyter and ipywidgets. See https://ipywidgets.readthedocs.io/en/stable/user_install.html\n",
      "  from .autonotebook import tqdm as notebook_tqdm\n"
     ]
    }
   ],
   "source": [
    "import MDAnalysis as mda\n",
    "from MDAnalysis import transformations as trans"
   ]
  },
  {
   "cell_type": "code",
   "execution_count": 4,
   "id": "422f2619-c904-403f-a618-a1fecce4b985",
   "metadata": {},
   "outputs": [],
   "source": [
    "u = mda.Universe(\"coord.xyz\")\n",
    "transform = trans.boxdimensions.set_dimensions([10, 10, 20, 90, 90, 90])\n",
    "u.trajectory.add_transformations(transform)"
   ]
  },
  {
   "cell_type": "code",
   "execution_count": 10,
   "id": "16fd1f90-53a3-4b70-9560-14e0f0fd13a3",
   "metadata": {},
   "outputs": [],
   "source": [
    "ag0 = u.select_atoms(\"relprop z > 5 (name O)\")"
   ]
  },
  {
   "cell_type": "code",
   "execution_count": 11,
   "id": "9cee3077-80cc-491a-aa7d-8a7d1b17fb53",
   "metadata": {},
   "outputs": [],
   "source": [
    "ag1 = u.select_atoms(\"relprop z > 5 (name O)\", updating=True)"
   ]
  },
  {
   "cell_type": "code",
   "execution_count": 19,
   "id": "8d6b91ce-1d84-4df9-ad1c-ac044c6b2270",
   "metadata": {},
   "outputs": [
    {
     "name": "stdout",
     "output_type": "stream",
     "text": [
      "[[ 1.  1. 10.]]\n",
      "[[ 1.  1. 10.]]\n",
      "[[1. 1. 2.]]\n",
      "[]\n"
     ]
    }
   ],
   "source": [
    "for ii in range(len(u.trajectory)):\n",
    "    u.trajectory[ii]\n",
    "    print(ag0.positions)\n",
    "    print(ag1.positions)"
   ]
  },
  {
   "cell_type": "code",
   "execution_count": null,
   "id": "29377a6a-4458-4fa3-b7ee-1d2bfda1d01f",
   "metadata": {},
   "outputs": [],
   "source": []
  }
 ],
 "metadata": {
  "kernelspec": {
   "display_name": "gnn",
   "language": "python",
   "name": "gnn"
  },
  "language_info": {
   "codemirror_mode": {
    "name": "ipython",
    "version": 3
   },
   "file_extension": ".py",
   "mimetype": "text/x-python",
   "name": "python",
   "nbconvert_exporter": "python",
   "pygments_lexer": "ipython3",
   "version": "3.9.13"
  }
 },
 "nbformat": 4,
 "nbformat_minor": 5
}
